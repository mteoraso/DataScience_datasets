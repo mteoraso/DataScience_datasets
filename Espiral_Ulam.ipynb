{
  "nbformat": 4,
  "nbformat_minor": 0,
  "metadata": {
    "colab": {
      "provenance": [],
      "gpuType": "T4",
      "authorship_tag": "ABX9TyMcGgpzyt9k8Lt5VHK6dmSA",
      "include_colab_link": true
    },
    "kernelspec": {
      "name": "python3",
      "display_name": "Python 3"
    },
    "language_info": {
      "name": "python"
    },
    "accelerator": "GPU"
  },
  "cells": [
    {
      "cell_type": "markdown",
      "metadata": {
        "id": "view-in-github",
        "colab_type": "text"
      },
      "source": [
        "<a href=\"https://colab.research.google.com/github/mteoraso/Practicas_DataScience/blob/GPU_projects/Espiral_Ulam.ipynb\" target=\"_parent\"><img src=\"https://colab.research.google.com/assets/colab-badge.svg\" alt=\"Open In Colab\"/></a>"
      ]
    },
    {
      "cell_type": "code",
      "execution_count": 4,
      "metadata": {
        "colab": {
          "base_uri": "https://localhost:8080/",
          "height": 433
        },
        "id": "O6ACxU1UCYBP",
        "outputId": "cff9afbb-b6a4-42fc-d287-d30eb8482f37"
      },
      "outputs": [
        {
          "output_type": "display_data",
          "data": {
            "text/plain": [
              "<Figure size 640x480 with 1 Axes>"
            ],
            "image/png": "[encoded data removed]"
          },
          "metadata": {}
        }
      ],
      "source": [
        "import numpy as np\n",
        "import matplotlib.pyplot as plt\n",
        "import torch\n",
        "\n",
        "def es_primo(n):\n",
        "  \"\"\"Verifica si un número es primo.\"\"\"\n",
        "  if n <= 1:\n",
        "    return False\n",
        "  if n == 2:\n",
        "    return True\n",
        "  if n % 2 == 0:\n",
        "    return False\n",
        "  max_divisor = int(np.sqrt(n)) + 1\n",
        "  for d in range(3, max_divisor, 2):\n",
        "    if n % d == 0:\n",
        "      return False\n",
        "  return True\n",
        "\n",
        "def generar_espiral_ulam_gpu(tamano):\n",
        "  \"\"\"Genera la espiral de Ulam usando la GPU.\"\"\"\n",
        "  device = torch.device('cuda:0' if torch.cuda.is_available() else 'cpu')\n",
        "  espiral = torch.zeros((tamano, tamano), dtype=torch.int32, device=device)\n",
        "  centro = tamano // 2\n",
        "  num = 1\n",
        "  pasos = [(0, 1), (1, 0), (0, -1), (-1, 0)]\n",
        "  paso_actual = 0\n",
        "  x, y = centro, centro\n",
        "  while num <= tamano * tamano:\n",
        "    espiral[x, y] = num\n",
        "    # Si es primo, se marca con 255 para que se vea en la gráfica.\n",
        "    # Si no es primo, se mantiene el número original.\n",
        "    if es_primo(num):\n",
        "      espiral[x, y] = 255\n",
        "    dx, dy = pasos[paso_actual]\n",
        "    nx, ny = x + dx, y + dy\n",
        "    if 0 <= nx < tamano and 0 <= ny < tamano and espiral[nx, ny] == 0:\n",
        "      x, y = nx, ny\n",
        "    else:\n",
        "      paso_actual = (paso_actual + 1) % 4\n",
        "      dx, dy = pasos[paso_actual]\n",
        "      x, y = x + dx, y + dy\n",
        "    num += 1\n",
        "  return espiral.cpu().numpy()\n",
        "\n",
        "# Generar la espiral\n",
        "tamano = 100  # Ajustar el tamaño de la espiral.\n",
        "espiral = generar_espiral_ulam_gpu(tamano)\n",
        "\n",
        "# Mostrar la espiral\n",
        "plt.imshow(espiral, cmap='gray')  # Se puede cambiar el color de la espiral.\n",
        "plt.show()"
      ]
    }
  ]
}