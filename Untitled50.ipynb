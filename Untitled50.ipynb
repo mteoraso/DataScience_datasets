{
  "nbformat": 4,
  "nbformat_minor": 0,
  "metadata": {
    "colab": {
      "name": "Untitled50.ipynb",
      "provenance": [],
      "authorship_tag": "ABX9TyPTacUXlmRaev9ko82/7SW4",
      "include_colab_link": true
    },
    "kernelspec": {
      "name": "python3",
      "display_name": "Python 3"
    },
    "language_info": {
      "name": "python"
    }
  },
  "cells": [
    {
      "cell_type": "markdown",
      "metadata": {
        "id": "view-in-github",
        "colab_type": "text"
      },
      "source": [
        "<a href=\"https://colab.research.google.com/github/mteoraso/mteoraso/blob/main/Untitled50.ipynb\" target=\"_parent\"><img src=\"https://colab.research.google.com/assets/colab-badge.svg\" alt=\"Open In Colab\"/></a>"
      ]
    },
    {
      "cell_type": "markdown",
      "source": [
        "Calculo de rugosidad superficial para perfiles de viento de un mástil meteorológico en Høvsøre, Dinamarca. "
      ],
      "metadata": {
        "id": "MT6ukXz8cPuU"
      }
    },
    {
      "cell_type": "code",
      "source": [
        "import pandas as pd\n",
        "import matplotlib as mp\n",
        "import numpy as np\n",
        "import matplotlib.pyplot as plt\n",
        "import math as math"
      ],
      "metadata": {
        "id": "UMpIZHMWcUOF"
      },
      "execution_count": 4,
      "outputs": []
    },
    {
      "cell_type": "code",
      "source": [
        "df = pd.read_excel (\n",
        "    \"/content/perfil_viento_V1.xls\",\n",
        "    )\n",
        "df.head(10)"
      ],
      "metadata": {
        "colab": {
          "base_uri": "https://localhost:8080/",
          "height": 461
        },
        "id": "fJhyxwITn34G",
        "outputId": "d9431671-9f0f-41c0-e7e7-a928a0026230"
      },
      "execution_count": null,
      "outputs": [
        {
          "output_type": "execute_result",
          "data": {
            "text/html": [
              "\n",
              "  <div id=\"df-e3092739-6370-4222-8895-2eb282d3fff4\">\n",
              "    <div class=\"colab-df-container\">\n",
              "      <div>\n",
              "<style scoped>\n",
              "    .dataframe tbody tr th:only-of-type {\n",
              "        vertical-align: middle;\n",
              "    }\n",
              "\n",
              "    .dataframe tbody tr th {\n",
              "        vertical-align: top;\n",
              "    }\n",
              "\n",
              "    .dataframe thead th {\n",
              "        text-align: right;\n",
              "    }\n",
              "</style>\n",
              "<table border=\"1\" class=\"dataframe\">\n",
              "  <thead>\n",
              "    <tr style=\"text-align: right;\">\n",
              "      <th></th>\n",
              "      <th>time (hour)</th>\n",
              "      <th>u10 (m/s)</th>\n",
              "      <th>u40 (m/s)</th>\n",
              "      <th>u60 (m/s)</th>\n",
              "      <th>u80 (m/s)</th>\n",
              "      <th>u100 (m/s)</th>\n",
              "      <th>u116 (Um/s)</th>\n",
              "      <th>u160 (m/s)</th>\n",
              "      <th>dir10</th>\n",
              "      <th>dir60</th>\n",
              "      <th>dir100</th>\n",
              "      <th>Unnamed: 11</th>\n",
              "      <th>Unnamed: 12</th>\n",
              "      <th>time decimal hours</th>\n",
              "      <th>Unnamed: 14</th>\n",
              "      <th>Unnamed: 15</th>\n",
              "    </tr>\n",
              "  </thead>\n",
              "  <tbody>\n",
              "    <tr>\n",
              "      <th>0</th>\n",
              "      <td>00:00:00</td>\n",
              "      <td>4.25636</td>\n",
              "      <td>7.18414</td>\n",
              "      <td>8.56345</td>\n",
              "      <td>9.75567</td>\n",
              "      <td>10.9667</td>\n",
              "      <td>12.1298</td>\n",
              "      <td>13.8083</td>\n",
              "      <td>110.616</td>\n",
              "      <td>131.652</td>\n",
              "      <td>141.809</td>\n",
              "      <td>NaN</td>\n",
              "      <td>NaN</td>\n",
              "      <td>0.000000</td>\n",
              "      <td>NaN</td>\n",
              "      <td>midnight</td>\n",
              "    </tr>\n",
              "    <tr>\n",
              "      <th>1</th>\n",
              "      <td>00:10:00</td>\n",
              "      <td>4.54607</td>\n",
              "      <td>7.40763</td>\n",
              "      <td>8.62832</td>\n",
              "      <td>9.91782</td>\n",
              "      <td>11.2024</td>\n",
              "      <td>12.2694</td>\n",
              "      <td>14.1229</td>\n",
              "      <td>114.551</td>\n",
              "      <td>133.624</td>\n",
              "      <td>142.565</td>\n",
              "      <td>NaN</td>\n",
              "      <td>NaN</td>\n",
              "      <td>0.166667</td>\n",
              "      <td>NaN</td>\n",
              "      <td>NaN</td>\n",
              "    </tr>\n",
              "    <tr>\n",
              "      <th>2</th>\n",
              "      <td>00:20:00</td>\n",
              "      <td>4.48597</td>\n",
              "      <td>6.90398</td>\n",
              "      <td>8.06806</td>\n",
              "      <td>9.54922</td>\n",
              "      <td>10.9354</td>\n",
              "      <td>12.0622</td>\n",
              "      <td>14.1083</td>\n",
              "      <td>114.343</td>\n",
              "      <td>135.404</td>\n",
              "      <td>142.934</td>\n",
              "      <td>NaN</td>\n",
              "      <td>NaN</td>\n",
              "      <td>0.333333</td>\n",
              "      <td>NaN</td>\n",
              "      <td>NaN</td>\n",
              "    </tr>\n",
              "    <tr>\n",
              "      <th>3</th>\n",
              "      <td>00:30:00</td>\n",
              "      <td>4.29970</td>\n",
              "      <td>6.78310</td>\n",
              "      <td>8.18141</td>\n",
              "      <td>9.64565</td>\n",
              "      <td>10.9862</td>\n",
              "      <td>12.0684</td>\n",
              "      <td>13.8210</td>\n",
              "      <td>114.325</td>\n",
              "      <td>135.272</td>\n",
              "      <td>143.951</td>\n",
              "      <td>NaN</td>\n",
              "      <td>NaN</td>\n",
              "      <td>0.500000</td>\n",
              "      <td>NaN</td>\n",
              "      <td>NaN</td>\n",
              "    </tr>\n",
              "    <tr>\n",
              "      <th>4</th>\n",
              "      <td>00:40:00</td>\n",
              "      <td>4.32460</td>\n",
              "      <td>6.78405</td>\n",
              "      <td>8.07585</td>\n",
              "      <td>9.48084</td>\n",
              "      <td>10.7186</td>\n",
              "      <td>11.7632</td>\n",
              "      <td>13.6223</td>\n",
              "      <td>112.893</td>\n",
              "      <td>133.654</td>\n",
              "      <td>141.589</td>\n",
              "      <td>NaN</td>\n",
              "      <td>NaN</td>\n",
              "      <td>0.666667</td>\n",
              "      <td>NaN</td>\n",
              "      <td>NaN</td>\n",
              "    </tr>\n",
              "    <tr>\n",
              "      <th>5</th>\n",
              "      <td>00:50:00</td>\n",
              "      <td>4.39143</td>\n",
              "      <td>6.74700</td>\n",
              "      <td>8.17429</td>\n",
              "      <td>9.64272</td>\n",
              "      <td>10.8858</td>\n",
              "      <td>11.9759</td>\n",
              "      <td>13.9491</td>\n",
              "      <td>115.753</td>\n",
              "      <td>134.740</td>\n",
              "      <td>143.132</td>\n",
              "      <td>NaN</td>\n",
              "      <td>NaN</td>\n",
              "      <td>0.833333</td>\n",
              "      <td>NaN</td>\n",
              "      <td>NaN</td>\n",
              "    </tr>\n",
              "    <tr>\n",
              "      <th>6</th>\n",
              "      <td>01:00:00</td>\n",
              "      <td>4.37746</td>\n",
              "      <td>6.81312</td>\n",
              "      <td>8.31322</td>\n",
              "      <td>9.68177</td>\n",
              "      <td>10.9825</td>\n",
              "      <td>12.1531</td>\n",
              "      <td>14.3469</td>\n",
              "      <td>116.041</td>\n",
              "      <td>135.422</td>\n",
              "      <td>145.788</td>\n",
              "      <td>NaN</td>\n",
              "      <td>NaN</td>\n",
              "      <td>1.000000</td>\n",
              "      <td>NaN</td>\n",
              "      <td>NaN</td>\n",
              "    </tr>\n",
              "    <tr>\n",
              "      <th>7</th>\n",
              "      <td>01:10:00</td>\n",
              "      <td>4.42356</td>\n",
              "      <td>6.97187</td>\n",
              "      <td>8.32293</td>\n",
              "      <td>9.73835</td>\n",
              "      <td>11.0083</td>\n",
              "      <td>12.0661</td>\n",
              "      <td>13.9822</td>\n",
              "      <td>116.125</td>\n",
              "      <td>134.616</td>\n",
              "      <td>143.812</td>\n",
              "      <td>NaN</td>\n",
              "      <td>NaN</td>\n",
              "      <td>1.166667</td>\n",
              "      <td>NaN</td>\n",
              "      <td>NaN</td>\n",
              "    </tr>\n",
              "    <tr>\n",
              "      <th>8</th>\n",
              "      <td>01:20</td>\n",
              "      <td>4.35256</td>\n",
              "      <td>6.71715</td>\n",
              "      <td>8.04123</td>\n",
              "      <td>9.38698</td>\n",
              "      <td>10.8701</td>\n",
              "      <td>11.9126</td>\n",
              "      <td>13.5930</td>\n",
              "      <td>113.801</td>\n",
              "      <td>133.699</td>\n",
              "      <td>140.717</td>\n",
              "      <td>NaN</td>\n",
              "      <td>NaN</td>\n",
              "      <td>1.333333</td>\n",
              "      <td>NaN</td>\n",
              "      <td>NaN</td>\n",
              "    </tr>\n",
              "    <tr>\n",
              "      <th>9</th>\n",
              "      <td>01:30:00</td>\n",
              "      <td>4.20641</td>\n",
              "      <td>6.60790</td>\n",
              "      <td>7.88777</td>\n",
              "      <td>9.42703</td>\n",
              "      <td>10.8732</td>\n",
              "      <td>12.1210</td>\n",
              "      <td>13.8892</td>\n",
              "      <td>115.200</td>\n",
              "      <td>134.743</td>\n",
              "      <td>143.640</td>\n",
              "      <td>NaN</td>\n",
              "      <td>NaN</td>\n",
              "      <td>1.500000</td>\n",
              "      <td>NaN</td>\n",
              "      <td>NaN</td>\n",
              "    </tr>\n",
              "  </tbody>\n",
              "</table>\n",
              "</div>\n",
              "      <button class=\"colab-df-convert\" onclick=\"convertToInteractive('df-e3092739-6370-4222-8895-2eb282d3fff4')\"\n",
              "              title=\"Convert this dataframe to an interactive table.\"\n",
              "              style=\"display:none;\">\n",
              "        \n",
              "  <svg xmlns=\"http://www.w3.org/2000/svg\" height=\"24px\"viewBox=\"0 0 24 24\"\n",
              "       width=\"24px\">\n",
              "    <path d=\"M0 0h24v24H0V0z\" fill=\"none\"/>\n",
              "    <path d=\"M18.56 5.44l.94 2.06.94-2.06 2.06-.94-2.06-.94-.94-2.06-.94 2.06-2.06.94zm-11 1L8.5 8.5l.94-2.06 2.06-.94-2.06-.94L8.5 2.5l-.94 2.06-2.06.94zm10 10l.94 2.06.94-2.06 2.06-.94-2.06-.94-.94-2.06-.94 2.06-2.06.94z\"/><path d=\"M17.41 7.96l-1.37-1.37c-.4-.4-.92-.59-1.43-.59-.52 0-1.04.2-1.43.59L10.3 9.45l-7.72 7.72c-.78.78-.78 2.05 0 2.83L4 21.41c.39.39.9.59 1.41.59.51 0 1.02-.2 1.41-.59l7.78-7.78 2.81-2.81c.8-.78.8-2.07 0-2.86zM5.41 20L4 18.59l7.72-7.72 1.47 1.35L5.41 20z\"/>\n",
              "  </svg>\n",
              "      </button>\n",
              "      \n",
              "  <style>\n",
              "    .colab-df-container {\n",
              "      display:flex;\n",
              "      flex-wrap:wrap;\n",
              "      gap: 12px;\n",
              "    }\n",
              "\n",
              "    .colab-df-convert {\n",
              "      background-color: #E8F0FE;\n",
              "      border: none;\n",
              "      border-radius: 50%;\n",
              "      cursor: pointer;\n",
              "      display: none;\n",
              "      fill: #1967D2;\n",
              "      height: 32px;\n",
              "      padding: 0 0 0 0;\n",
              "      width: 32px;\n",
              "    }\n",
              "\n",
              "    .colab-df-convert:hover {\n",
              "      background-color: #E2EBFA;\n",
              "      box-shadow: 0px 1px 2px rgba(60, 64, 67, 0.3), 0px 1px 3px 1px rgba(60, 64, 67, 0.15);\n",
              "      fill: #174EA6;\n",
              "    }\n",
              "\n",
              "    [theme=dark] .colab-df-convert {\n",
              "      background-color: #3B4455;\n",
              "      fill: #D2E3FC;\n",
              "    }\n",
              "\n",
              "    [theme=dark] .colab-df-convert:hover {\n",
              "      background-color: #434B5C;\n",
              "      box-shadow: 0px 1px 3px 1px rgba(0, 0, 0, 0.15);\n",
              "      filter: drop-shadow(0px 1px 2px rgba(0, 0, 0, 0.3));\n",
              "      fill: #FFFFFF;\n",
              "    }\n",
              "  </style>\n",
              "\n",
              "      <script>\n",
              "        const buttonEl =\n",
              "          document.querySelector('#df-e3092739-6370-4222-8895-2eb282d3fff4 button.colab-df-convert');\n",
              "        buttonEl.style.display =\n",
              "          google.colab.kernel.accessAllowed ? 'block' : 'none';\n",
              "\n",
              "        async function convertToInteractive(key) {\n",
              "          const element = document.querySelector('#df-e3092739-6370-4222-8895-2eb282d3fff4');\n",
              "          const dataTable =\n",
              "            await google.colab.kernel.invokeFunction('convertToInteractive',\n",
              "                                                     [key], {});\n",
              "          if (!dataTable) return;\n",
              "\n",
              "          const docLinkHtml = 'Like what you see? Visit the ' +\n",
              "            '<a target=\"_blank\" href=https://colab.research.google.com/notebooks/data_table.ipynb>data table notebook</a>'\n",
              "            + ' to learn more about interactive tables.';\n",
              "          element.innerHTML = '';\n",
              "          dataTable['output_type'] = 'display_data';\n",
              "          await google.colab.output.renderOutput(dataTable, element);\n",
              "          const docLink = document.createElement('div');\n",
              "          docLink.innerHTML = docLinkHtml;\n",
              "          element.appendChild(docLink);\n",
              "        }\n",
              "      </script>\n",
              "    </div>\n",
              "  </div>\n",
              "  "
            ],
            "text/plain": [
              "  time (hour)  u10 (m/s)  ...  Unnamed: 14  Unnamed: 15\n",
              "0    00:00:00    4.25636  ...          NaN     midnight\n",
              "1    00:10:00    4.54607  ...          NaN          NaN\n",
              "2    00:20:00    4.48597  ...          NaN          NaN\n",
              "3    00:30:00    4.29970  ...          NaN          NaN\n",
              "4    00:40:00    4.32460  ...          NaN          NaN\n",
              "5    00:50:00    4.39143  ...          NaN          NaN\n",
              "6    01:00:00    4.37746  ...          NaN          NaN\n",
              "7    01:10:00    4.42356  ...          NaN          NaN\n",
              "8       01:20    4.35256  ...          NaN          NaN\n",
              "9    01:30:00    4.20641  ...          NaN          NaN\n",
              "\n",
              "[10 rows x 16 columns]"
            ]
          },
          "metadata": {},
          "execution_count": 2
        }
      ]
    },
    {
      "cell_type": "code",
      "source": [
        "df.columns"
      ],
      "metadata": {
        "colab": {
          "base_uri": "https://localhost:8080/"
        },
        "id": "GEVJFNigubUr",
        "outputId": "1b3a860d-48fb-4a17-a581-66b877e3b714"
      },
      "execution_count": null,
      "outputs": [
        {
          "output_type": "execute_result",
          "data": {
            "text/plain": [
              "Index(['time (hour)', 'u10 (m/s)', 'u40 (m/s)', 'u60 (m/s)', 'u80 (m/s)',\n",
              "       'u100 (m/s)', 'u116 (Um/s)', 'u160 (m/s)', 'dir10', 'dir60', 'dir100',\n",
              "       'Unnamed: 11', 'Unnamed: 12', 'time decimal hours', 'Unnamed: 14',\n",
              "       'Unnamed: 15'],\n",
              "      dtype='object')"
            ]
          },
          "metadata": {},
          "execution_count": 3
        }
      ]
    },
    {
      "cell_type": "code",
      "source": [
        "df = df.drop(columns=['Unnamed: 11','Unnamed: 12', 'Unnamed: 14'])"
      ],
      "metadata": {
        "id": "ZcbOG2-dvLmG"
      },
      "execution_count": null,
      "outputs": []
    },
    {
      "cell_type": "code",
      "source": [
        "df.columns"
      ],
      "metadata": {
        "colab": {
          "base_uri": "https://localhost:8080/"
        },
        "id": "sfdHAV_twYB2",
        "outputId": "d213b12a-0011-400c-a351-e317557ca368"
      },
      "execution_count": null,
      "outputs": [
        {
          "output_type": "execute_result",
          "data": {
            "text/plain": [
              "Index(['time (hour)', 'u10 (m/s)', 'u40 (m/s)', 'u60 (m/s)', 'u80 (m/s)',\n",
              "       'u100 (m/s)', 'u116 (Um/s)', 'u160 (m/s)', 'dir10', 'dir60', 'dir100',\n",
              "       'time decimal hours', 'Unnamed: 15'],\n",
              "      dtype='object')"
            ]
          },
          "metadata": {},
          "execution_count": 5
        }
      ]
    },
    {
      "cell_type": "code",
      "source": [
        "df=df.rename(columns={'u116 (Um/s)':'u116 (m/s)'})\n",
        "df.columns"
      ],
      "metadata": {
        "colab": {
          "base_uri": "https://localhost:8080/"
        },
        "id": "imhDraLqxKPo",
        "outputId": "7ef4e3d8-6d06-4c16-d9ca-7548f08c0eb8"
      },
      "execution_count": null,
      "outputs": [
        {
          "output_type": "execute_result",
          "data": {
            "text/plain": [
              "Index(['time (hour)', 'u10 (m/s)', 'u40 (m/s)', 'u60 (m/s)', 'u80 (m/s)',\n",
              "       'u100 (m/s)', 'u116 (m/s)', 'u160 (m/s)', 'dir10', 'dir60', 'dir100',\n",
              "       'time decimal hours', 'Unnamed: 15'],\n",
              "      dtype='object')"
            ]
          },
          "metadata": {},
          "execution_count": 6
        }
      ]
    },
    {
      "cell_type": "code",
      "source": [
        "df.plot('time (hour)', ['u10 (m/s)','u40 (m/s)','u80 (m/s)', 'u100 (m/s)', 'u116 (m/s)', 'u160 (m/s)'])"
      ],
      "metadata": {
        "colab": {
          "base_uri": "https://localhost:8080/",
          "height": 297
        },
        "id": "LeKXpqeQx9oG",
        "outputId": "86ed1537-7699-4172-da6c-85f528c06091"
      },
      "execution_count": null,
      "outputs": [
        {
          "output_type": "execute_result",
          "data": {
            "text/plain": [
              "<matplotlib.axes._subplots.AxesSubplot at 0x7fdc14ba7110>"
            ]
          },
          "metadata": {},
          "execution_count": 7
        },
        {
          "output_type": "display_data",
          "data": {
            "image/png": "[encoded data removed]",
            "text/plain": [
              "<Figure size 432x288 with 1 Axes>"
            ]
          },
          "metadata": {
            "needs_background": "light"
          }
        }
      ]
    },
    {
      "cell_type": "code",
      "source": [
        "df.median()"
      ],
      "metadata": {
        "colab": {
          "base_uri": "https://localhost:8080/"
        },
        "id": "fuzUyQYWfKKD",
        "outputId": "f4eee009-a99b-4288-c303-b838864d7f85"
      },
      "execution_count": null,
      "outputs": [
        {
          "output_type": "execute_result",
          "data": {
            "text/plain": [
              "u10 (m/s)               6.51214\n",
              "u40 (m/s)               7.95529\n",
              "u60 (m/s)               8.91432\n",
              "u80 (m/s)               9.97902\n",
              "u100 (m/s)             11.10360\n",
              "u116 (m/s)             12.06610\n",
              "u160 (m/s)             13.53930\n",
              "dir10                 123.54300\n",
              "dir60                 130.22600\n",
              "dir100                134.34600\n",
              "time decimal hours      9.00000\n",
              "dtype: float64"
            ]
          },
          "metadata": {},
          "execution_count": 15
        }
      ]
    },
    {
      "cell_type": "code",
      "source": [
        "df.mean()"
      ],
      "metadata": {
        "colab": {
          "base_uri": "https://localhost:8080/"
        },
        "id": "W9MLBLkBftGb",
        "outputId": "95906f58-948b-4db2-c577-a1557efe0c82"
      },
      "execution_count": null,
      "outputs": [
        {
          "output_type": "execute_result",
          "data": {
            "text/plain": [
              "u10 (m/s)               6.962781\n",
              "u40 (m/s)               9.270997\n",
              "u60 (m/s)              10.161209\n",
              "u80 (m/s)              10.961884\n",
              "u100 (m/s)             11.673099\n",
              "u116 (m/s)             12.314675\n",
              "u160 (m/s)             13.271278\n",
              "dir10                 122.491655\n",
              "dir60                 130.241761\n",
              "dir100                134.265936\n",
              "time decimal hours      9.000000\n",
              "dtype: float64"
            ]
          },
          "metadata": {},
          "execution_count": 12
        }
      ]
    },
    {
      "cell_type": "markdown",
      "source": [
        "Calculo de perfil de viento"
      ],
      "metadata": {
        "id": "BQrC9SXyBvlz"
      }
    },
    {
      "cell_type": "markdown",
      "source": [
        "![perfil_logaritmico_viento.JPG](data:image/jpeg;base64,/9j/4AAQSkZJRgABAQEAeAB4AAD/4RCCRXhpZgAATU0AKgAAAAgABAE7AAIAAAAFAAAISodpAAQAAAABAAAIUJydAAEAAAAKAAAQcOocAAcAAAgMAAAAPgAAAAAc6gAAAAgAAAAAAAAAAAAAAAAAAAAAAAAAAAAAAAAAAAAAAAAAAAAAAAAAAAAAAAAAAAAAAAAAAAAAAAAAAAAAAAAAAAAAAAAAAAAAAAAAAAAAAAAAAAAAAAAAAAAAAAAAAAAAAAAAAAAAAAAAAAAAAAAAAAAAAAAAAAAAAAAAAAAAAAAAAAAAAAAAAAAAAAAAAAAAAAAAAAAAAAAAAAAAAAAAAAAAAAAAAAAAAAAAAAAAAAAAAAAAAAAAAAAAAAAAAAAAAAAAAAAAAAAAAAAAAAAAAAAAAAAAAAAAAAAAAAAAAAAAAAAAAAAAAAAAAAAAAAAAAAAAAAAAAAAAAAAAAAAAAAAAAAAAAAAAAAAAAAAAAAAAAAAAAAAAAAAAAAAAAAAAAAAAAAAAAAAAAAAAAAAAAAAAAAAAAAAAAAAAAAAAAAAAAAAAAAAAAAAAAAAAAAAAAAAAAAAAAAAAAAAAAAAAAAAAAAAAAAAAAAAAAAAAAAAAAAAAAAAAAAAAAAAAAAAAAAAAAAAAAAAAAAAAAAAAAAAAAAAAAAAAAAAAAAAAAAAAAAAAAAAAAAAAAAAAAAAAAAAAAAAAAAAAAAAAAAAAAAAAAAAAAAAAAAAAAAAAAAAAAAAAAAAAAAAAAAAAAAAAAAAAAAAAAAAAAAAAAAAAAAAAAAAAAAAAAAAAAAAAAAAAAAAAAAAAAAAAAAAAAAAAAAAAAAAAAAAAAAAAAAAAAAAAAAAAAAAAAAAAAAAAAAAAAAAAAAAAAAAAAAAAAAAAAAAAAAAAAAAAAAAAAAAAAAAAAAAAAAAAAAAAAAAAAAAAAAAAAAAAAAAAAAAAAAAAAAAAAAAAAAAAAAAAAAAAAAAAAAAAAAAAAAAAAAAAAAAAAAAAAAAAAAAAAAAAAAAAAAAAAAAAAAAAAAAAAAAAAAAAAAAAAAAAAAAAAAAAAAAAAAAAAAAAAAAAAAAAAAAAAAAAAAAAAAAAAAAAAAAAAAAAAAAAAAAAAAAAAAAAAAAAAAAAAAAAAAAAAAAAAAAAAAAAAAAAAAAAAAAAAAAAAAAAAAAAAAAAAAAAAAAAAAAAAAAAAAAAAAAAAAAAAAAAAAAAAAAAAAAAAAAAAAAAAAAAAAAAAAAAAAAAAAAAAAAAAAAAAAAAAAAAAAAAAAAAAAAAAAAAAAAAAAAAAAAAAAAAAAAAAAAAAAAAAAAAAAAAAAAAAAAAAAAAAAAAAAAAAAAAAAAAAAAAAAAAAAAAAAAAAAAAAAAAAAAAAAAAAAAAAAAAAAAAAAAAAAAAAAAAAAAAAAAAAAAAAAAAAAAAAAAAAAAAAAAAAAAAAAAAAAAAAAAAAAAAAAAAAAAAAAAAAAAAAAAAAAAAAAAAAAAAAAAAAAAAAAAAAAAAAAAAAAAAAAAAAAAAAAAAAAAAAAAAAAAAAAAAAAAAAAAAAAAAAAAAAAAAAAAAAAAAAAAAAAAAAAAAAAAAAAAAAAAAAAAAAAAAAAAAAAAAAAAAAAAAAAAAAAAAAAAAAAAAAAAAAAAAAAAAAAAAAAAAAAAAAAAAAAAAAAAAAAAAAAAAAAAAAAAAAAAAAAAAAAAAAAAAAAAAAAAAAAAAAAAAAAAAAAAAAAAAAAAAAAAAAAAAAAAAAAAAAAAAAAAAAAAAAAAAAAAAAAAAAAAAAAAAAAAAAAAAAAAAAAAAAAAAAAAAAAAAAAAAAAAAAAAAAAAAAAAAAAAAAAAAAAAAAAAAAAAAAAAAAAAAAAAAAAAAAAAAAAAAAAAAAAAAAAAAAAAAAAAAAAAAAAAAAAAAAAAAAAAAAAAAAAAAAAAAAAAAAAAAAAAAAAAAAAAAAAAAAAAAAAAAAAAAAAAAAAAAAAAAAAAAAAAAAAAAAAAAAAAAAAAAAAAAAAAAAAAAAAAAAAAAAAAAAAAAAAAAAAAAAAAAAAAAAAAAAAAAAAAAAAAAAAAAAAAAAAAAAAAAAAAAAAAAAAAAAAAAAAAAAAAAAAAAAAAAAAAAAAAAAAAAAAAAAAAAAAAAAAAAAAAAAAAAAAAAAAAAAAAAAAAAAAAAAAAAAAAAAAAAAAAAAAAAAAAAAAAAAAAAAAAAAAAAAAAAAAAAAAAAAAAAAAAAAAAAAAAAAAAAAAAAAAAAAAAAAAAAAAAAAAAAAAAAAAAAAAAAAAAAAAAAAAAAAAAAAAAAAAAAAAAAAAAAAAAAAAAAAAAAAAAAAAAAAAAAAAAAAAAAAAAAAAAAAAAAAAAAAAAAAAAAAAAAAAAAAAAAAAAAAAAAAAAAAAAAAAAAAAAAAAAAAAAAAAAAAAAAAAAAAAAAAAAAAAAAAAAAAAAAAAAAAAAAAAAAAAAAAAAAAAAAAAAAAAAAAAAAAAAAAAAAAAAAAAAAAAAAAAAAAAAAAAAAAAAAAAAAAAAAAAAAAAAAAAAAAAAAAAAAAAAAAAAAAAAAAAAAAAAAAAAAAAAAAAAAAAAAAAAAAAAAAAAAAAAAAAAAAAAAAAAAAAAAAAAAAAAAAAAAAAAAAAAAAAAAAAAAAAAAAAAAAAAAAAAAAAAAAAAAAAAAAAAAAAAAAAAAAAAAAAAAAAAAAAAAAAAAAAAAAAAAAAAAAAAAAAAAAAAAAAAAAAAAAAAAAAAAAAAAAAAAAAAAAAAAAAAAAAAAAAAAAAAAAAAAAAAAAAAAAAAAAAAAAAAAAAAAAAAAAAAAAAAAAAAAAAAAAAAAAAAAAAAAAAAAAAAAAAAAAAAAAAAAAAAAAAAAAAAAAAAAAAAAAAAAAEFzdXMAAAAB6hwABwAACAwAAAhiAAAAABzqAAAACAAAAAAAAAAAAAAAAAAAAAAAAAAAAAAAAAAAAAAAAAAAAAAAAAAAAAAAAAAAAAAAAAAAAAAAAAAAAAAAAAAAAAAAAAAAAAAAAAAAAAAAAAAAAAAAAAAAAAAAAAAAAAAAAAAAAAAAAAAAAAAAAAAAAAAAAAAAAAAAAAAAAAAAAAAAAAAAAAAAAAAAAAAAAAAAAAAAAAAAAAAAAAAAAAAAAAAAAAAAAAAAAAAAAAAAAAAAAAAAAAAAAAAAAAAAAAAAAAAAAAAAAAAAAAAAAAAAAAAAAAAAAAAAAAAAAAAAAAAAAAAAAAAAAAAAAAAAAAAAAAAAAAAAAAAAAAAAAAAAAAAAAAAAAAAAAAAAAAAAAAAAAAAAAAAAAAAAAAAAAAAAAAAAAAAAAAAAAAAAAAAAAAAAAAAAAAAAAAAAAAAAAAAAAAAAAAAAAAAAAAAAAAAAAAAAAAAAAAAAAAAAAAAAAAAAAAAAAAAAAAAAAAAAAAAAAAAAAAAAAAAAAAAAAAAAAAAAAAAAAAAAAAAAAAAAAAAAAAAAAAAAAAAAAAAAAAAAAAAAAAAAAAAAAAAAAAAAAAAAAAAAAAAAAAAAAAAAAAAAAAAAAAAAAAAAAAAAAAAAAAAAAAAAAAAAAAAAAAAAAAAAAAAAAAAAAAAAAAAAAAAAAAAAAAAAAAAAAAAAAAAAAAAAAAAAAAAAAAAAAAAAAAAAAAAAAAAAAAAAAAAAAAAAAAAAAAAAAAAAAAAAAAAAAAAAAAAAAAAAAAAAAAAAAAAAAAAAAAAAAAAAAAAAAAAAAAAAAAAAAAAAAAAAAAAAAAAAAAAAAAAAAAAAAAAAAAAAAAAAAAAAAAAAAAAAAAAAAAAAAAAAAAAAAAAAAAAAAAAAAAAAAAAAAAAAAAAAAAAAAAAAAAAAAAAAAAAAAAAAAAAAAAAAAAAAAAAAAAAAAAAAAAAAAAAAAAAAAAAAAAAAAAAAAAAAAAAAAAAAAAAAAAAAAAAAAAAAAAAAAAAAAAAAAAAAAAAAAAAAAAAAAAAAAAAAAAAAAAAAAAAAAAAAAAAAAAAAAAAAAAAAAAAAAAAAAAAAAAAAAAAAAAAAAAAAAAAAAAAAAAAAAAAAAAAAAAAAAAAAAAAAAAAAAAAAAAAAAAAAAAAAAAAAAAAAAAAAAAAAAAAAAAAAAAAAAAAAAAAAAAAAAAAAAAAAAAAAAAAAAAAAAAAAAAAAAAAAAAAAAAAAAAAAAAAAAAAAAAAAAAAAAAAAAAAAAAAAAAAAAAAAAAAAAAAAAAAAAAAAAAAAAAAAAAAAAAAAAAAAAAAAAAAAAAAAAAAAAAAAAAAAAAAAAAAAAAAAAAAAAAAAAAAAAAAAAAAAAAAAAAAAAAAAAAAAAAAAAAAAAAAAAAAAAAAAAAAAAAAAAAAAAAAAAAAAAAAAAAAAAAAAAAAAAAAAAAAAAAAAAAAAAAAAAAAAAAAAAAAAAAAAAAAAAAAAAAAAAAAAAAAAAAAAAAAAAAAAAAAAAAAAAAAAAAAAAAAAAAAAAAAAAAAAAAAAAAAAAAAAAAAAAAAAAAAAAAAAAAAAAAAAAAAAAAAAAAAAAAAAAAAAAAAAAAAAAAAAAAAAAAAAAAAAAAAAAAAAAAAAAAAAAAAAAAAAAAAAAAAAAAAAAAAAAAAAAAAAAAAAAAAAAAAAAAAAAAAAAAAAAAAAAAAAAAAAAAAAAAAAAAAAAAAAAAAAAAAAAAAAAAAAAAAAAAAAAAAAAAAAAAAAAAAAAAAAAAAAAAAAAAAAAAAAAAAAAAAAAAAAAAAAAAAAAAAAAAAAAAAAAAAAAAAAAAAAAAAAAAAAAAAAAAAAAAAAAAAAAAAAAAAAAAAAAAAAAAAAAAAAAAAAAAAAAAAAAAAAAAAAAAAAAAAAAAAAAAAAAAAAAAAAAAAAAAAAAAAAAAAAAAAAAAAAAAAAAAAAAAAAAAAAAAAAAAAAAAAAAAAAAAAAAAAAAAAAAAAAAAAAAAAAAAAAAAAAAAAAAAAAAAAAAAAAAAAAAAAAAAAAAAAAAAAAAAAAAAAAAAAAAAAAAAAAAAAAAAAAAAAAAAAAAAAAAAAAAAAAAAAAAAAAAAAAAAAAAAAAAAAAAAAAAAAAAAAAAAAAAAAAAAAAAAAAAAAAAAAAAAAAAAAAAAAAAAAAAAAAAAAAAAAAAAAAAAAAAAAAAAAAAAAAAAAAAAAAAAAAAAAAAAAAAAAAAAAAAAAAAAAAAAAAAAAAAAAAAAAAAAAAAAAAAAAAAAAAAAAAAAAAAAAAAAAAAAAAAAAAAAAAAAAAAAAAAAAAAAAAAAAAAAAAAAAAAAAAAAAAAAAAAAAAAAAAAAAAAAAAAAAAAAAAAAAAAAAAAAAAAAAAAAAAAAAAAAAAAAAAAAAAAAAAAAAAAAAAAAAAAAAAAAAAAAAAAAAAAAAAAAAAAAAAAAAAAAAAAAAAAAAAAAAAAAAAAAAAAAAAAAAAAAAAAAAAAAAAAAAAAAAAAAAAAAAAAAAAAAAAAAAAAAAAAAAAAAAAAAAAAAAAAAAAAAAAAAAAAAAAAAAAAAAAAAAAAAAAAAAAAAAAAAAAAAAAAAAAAAAAAAAAAAAAAAAAAAAAAAAAAAAAAAAAAAAAAAAAAAAAAAAAAAAAAAAAAAAAAAAAAAAAAAAAAAAAAAAAAAAAAAAAAAAAAAAAAAAAAAAAAAAAAAAAAAAAAAAAAAAAAAAAAAAAAAAAAAAAAAAAAAAAAAAAAAAAAAAAAAAAAAAAAABBAHMAdQBzAAAA/+EKXWh0dHA6Ly9ucy5hZG9iZS5jb20veGFwLzEuMC8APD94cGFja2V0IGJlZ2luPSfvu78nIGlkPSdXNU0wTXBDZWhpSHpyZVN6TlRjemtjOWQnPz4NCjx4OnhtcG1ldGEgeG1sbnM6eD0iYWRvYmU6bnM6bWV0YS8iPjxyZGY6UkRGIHhtbG5zOnJkZj0iaHR0cDovL3d3dy53My5vcmcvMTk5OS8wMi8yMi1yZGYtc3ludGF4LW5zIyI+PHJkZjpEZXNjcmlwdGlvbiByZGY6YWJvdXQ9InV1aWQ6ZmFmNWJkZDUtYmEzZC0xMWRhLWFkMzEtZDMzZDc1MTgyZjFiIiB4bWxuczpkYz0iaHR0cDovL3B1cmwub3JnL2RjL2VsZW1lbnRzLzEuMS8iLz48cmRmOkRlc2NyaXB0aW9uIHJkZjphYm91dD0idXVpZDpmYWY1YmRkNS1iYTNkLTExZGEtYWQzMS1kMzNkNzUxODJmMWIiIHhtbG5zOmRjPSJodHRwOi8vcHVybC5vcmcvZGMvZWxlbWVudHMvMS4xLyI+PGRjOmNyZWF0b3I+PHJkZjpTZXEgeG1sbnM6cmRmPSJodHRwOi8vd3d3LnczLm9yZy8xOTk5LzAyLzIyLXJkZi1zeW50YXgtbnMjIj48cmRmOmxpPkFzdXM8L3JkZjpsaT48L3JkZjpTZXE+DQoJCQk8L2RjOmNyZWF0b3I+PC9yZGY6RGVzY3JpcHRpb24+PC9yZGY6UkRGPjwveDp4bXBtZXRhPg0KICAgICAgICAgICAgICAgICAgICAgICAgICAgICAgICAgICAgICAgICAgICAgICAgICAgICAgICAgICAgICAgICAgICAgICAgICAgICAgICAgICAgICAgICAgICAgICAgICAgIAogICAgICAgICAgICAgICAgICAgICAgICAgICAgICAgICAgICAgICAgICAgICAgICAgICAgICAgICAgICAgICAgICAgICAgICAgICAgICAgICAgICAgICAgICAgICAgICAgICAgCiAgICAgICAgICAgICAgICAgICAgICAgICAgICAgICAgICAgICAgICAgICAgICAgICAgICAgICAgICAgICAgICAgICAgICAgICAgICAgICAgICAgICAgICAgICAgICAgICAgICAKICAgICAgICAgICAgICAgICAgICAgICAgICAgICAgICAgICAgICAgICAgICAgICAgICAgICAgICAgICAgICAgICAgICAgICAgICAgICAgICAgICAgICAgICAgICAgICAgICAgIAogICAgICAgICAgICAgICAgICAgICAgICAgICAgICAgICAgICAgICAgICAgICAgICAgICAgICAgICAgICAgICAgICAgICAgICAgICAgICAgICAgICAgICAgICAgICAgICAgICAgCiAgICAgICAgICAgICAgICAgICAgICAgICAgICAgICAgICAgICAgICAgICAgICAgICAgICAgICAgICAgICAgICAgICAgICAgICAgICAgICAgICAgICAgICAgICAgICAgICAgICAKICAgICAgICAgICAgICAgICAgICAgICAgICAgICAgICAgICAgICAgICAgICAgICAgICAgICAgICAgICAgICAgICAgICAgICAgICAgICAgICAgICAgICAgICAgICAgICAgICAgIAogICAgICAgICAgICAgICAgICAgICAgICAgICAgICAgICAgICAgICAgICAgICAgICAgICAgICAgICAgICAgICAgICAgICAgICAgICAgICAgICAgICAgICAgICAgICAgICAgICAgCiAgICAgICAgICAgICAgICAgICAgICAgICAgICAgICAgICAgICAgICAgICAgICAgICAgICAgICAgICAgICAgICAgICAgICAgICAgICAgICAgICAgICAgICAgICAgICAgICAgICAKICAgICAgICAgICAgICAgICAgICAgICAgICAgICAgICAgICAgICAgICAgICAgICAgICAgICAgICAgICAgICAgICAgICAgICAgICAgICAgICAgICAgICAgICAgICAgICAgICAgIAogICAgICAgICAgICAgICAgICAgICAgICAgICAgICAgICAgICAgICAgICAgICAgICAgICAgICAgICAgICAgICAgICAgICAgICAgICAgICAgICAgICAgICAgICAgICAgICAgICAgCiAgICAgICAgICAgICAgICAgICAgICAgICAgICAgICAgICAgICAgICAgICAgICAgICAgICAgICAgICAgICAgICAgICAgICAgICAgICAgICAgICAgICAgICAgICAgICAgICAgICAKICAgICAgICAgICAgICAgICAgICAgICAgICAgICAgICAgICAgICAgICAgICAgICAgICAgICAgICAgICAgICAgICAgICAgICAgICAgICAgICAgICAgICAgICAgICAgICAgICAgIAogICAgICAgICAgICAgICAgICAgICAgICAgICAgICAgICAgICAgICAgICAgICAgICAgICAgICAgICAgICAgICAgICAgICAgICAgICAgICAgICAgICAgICAgICAgICAgICAgICAgCiAgICAgICAgICAgICAgICAgICAgICAgICAgICAgICAgICAgICAgICAgICAgICAgICAgICAgICAgICAgICAgICAgICAgICAgICAgICAgICAgICAgICAgICAgICAgICAgICAgICAKICAgICAgICAgICAgICAgICAgICAgICAgICAgICAgICAgICAgICAgICAgICAgICAgICAgICAgICAgICAgICAgICAgICAgICAgICAgICAgICAgICAgICAgICAgICAgICAgICAgIAogICAgICAgICAgICAgICAgICAgICAgICAgICAgICAgICAgICAgICAgICAgICAgICAgICAgICAgICAgICAgICAgICAgICAgICAgICAgICAgICAgICAgICAgICAgICAgICAgICAgCiAgICAgICAgICAgICAgICAgICAgICAgICAgICAgICAgICAgICAgICAgICAgICAgICAgICAgICAgICAgICAgICAgICAgICAgICAgICAgICAgICAgICAgICAgICAgICAgICAgICAKICAgICAgICAgICAgICAgICAgICAgICAgICAgICAgICAgICAgICAgICAgICAgICAgICAgICAgICAgICAgICAgICAgICAgICAgICAgICAgICAgICAgICAgICAgICAgICAgICAgIAogICAgICAgICAgICAgICAgICAgICAgICAgICAgICAgICAgICAgICAgICAgICAgICAgICAgICAgICAgICAgICAgICAgICAgICAgICAgICAgICAgICAgICAgICAgICAgICAgICAgCiAgICAgICAgICAgICAgICAgICAgICAgICAgICA8P3hwYWNrZXQgZW5kPSd3Jz8+/9sAQwAHBQUGBQQHBgUGCAcHCAoRCwoJCQoVDxAMERgVGhkYFRgXGx4nIRsdJR0XGCIuIiUoKSssKxogLzMvKjInKisq/9sAQwEHCAgKCQoUCwsUKhwYHCoqKioqKioqKioqKioqKioqKioqKioqKioqKioqKioqKioqKioqKioqKioqKioqKioq/8AAEQgAhQJvAwEiAAIRAQMRAf/EAB8AAAEFAQEBAQEBAAAAAAAAAAABAgMEBQYHCAkKC//EALUQAAIBAwMCBAMFBQQEAAABfQECAwAEEQUSITFBBhNRYQcicRQygZGhCCNCscEVUtHwJDNicoIJChYXGBkaJSYnKCkqNDU2Nzg5OkNERUZHSElKU1RVVldYWVpjZGVmZ2hpanN0dXZ3eHl6g4SFhoeIiYqSk5SVlpeYmZqio6Slpqeoqaqys7S1tre4ubrCw8TFxsfIycrS09TV1tfY2drh4uPk5ebn6Onq8fLz9PX29/j5+v/EAB8BAAMBAQEBAQEBAQEAAAAAAAABAgMEBQYHCAkKC//EALURAAIBAgQEAwQHBQQEAAECdwABAgMRBAUhMQYSQVEHYXETIjKBCBRCkaGxwQkjM1LwFWJy0QoWJDThJfEXGBkaJicoKSo1Njc4OTpDREVGR0hJSlNUVVZXWFlaY2RlZmdoaWpzdHV2d3h5eoKDhIWGh4iJipKTlJWWl5iZmqKjpKWmp6ipqrKztLW2t7i5usLDxMXGx8jJytLT1NXW19jZ2uLj5OXm5+jp6vLz9PX29/j5+v/aAAwDAQACEQMRAD8A+kaKK5Hxt8Q9P8GII3tbjUbwqsjW9sv+piLhPMkY8KuTgdyeAOuDrYOlzrqKKp6xqK6Rod9qTxmVbO3knKA4LBFLYz+FJtJXY0m3ZFyiuI0Dxr4m11NPul8C3Fvp18scgu21O3bZG4B3lAdx4OcYzXZvPDHKkTyosj/cQsAW+g71TTW5KaexJRSFgCASAT0psUsc0YeGRZEPRkbIpDH0UxpokkWN5EV3+6pYAt9BVK81ywsNZsNLuZdt1frI0K+ojALE+nUfnQBoUUySeKJC8sqIi9WZgAKR54o9nmSovmHCbmA3H29aAJKKR3WNC7sFVRkknAFJHKk0YkidZEYZDKcg/jQA6io0uIZJniSWNpE+8gYEr9R2oe4hjKh5UUudqgsBuPoPWgCSisLW/EL6T4j8PaYlusi6xcywvIWwYgkLSZA7524/GtqOWOZd0MiyLnGVbIzQA+imGeITCEyIJSNwTcNxHrileWONWaR1RVGWLHGB6mgB1FZ8N/dy67La/YALBbZJYr8XCkSOSQU2D5hgAHd0OfargnhM5hEqGUDJj3DcB64oAkopCQOpA7c01J4pXdIpUdkOHVWBKn39KAH0Ux54o5ESSREeQ4RWYAt9B3p24BgCRk9BmgBaKa0iIGLuqhRubJ6D1qjouuWOv6Lbapp0u+1uYxJGzcHaehI7UAaFFMWaNpWjWRTIgBZAwyuemRRHNFKWEUiOUOG2sDtPoaAH0VheEvEMniTTby5lt1gNvqFzZhVbduEUhQN+OM4ralnit4988iRJnG52AH60dEw62H0U15Y44jJI6pGBkuxwAPrQsiPGJEdWQjIYHII+tADqKj8+HzhF5qeYRuCbhuI9cUss0UCb5pEjXOMuwAzQA+iuWh8WX11ceKoLDSlu7jQ5Uit4FuBGbotCsmCzcJy2M+1a0mv2UGsWOk3T+VfXlu9wkWQQqoVDZP1cAevNG/8AXzA06KoWl7ez6vf21xp32e1t/L+z3Xnq/wBp3LlvkHKbTxz16irazwvM8SSo0ifeQMCV+o7UASUUySaKFGeWRI1X7zMwAH1pwYMoZSCpGQQeDQAtFRw3ENwpaCVJQDglGBwfwqpeXt7Bqun29tp32i2uGcXNz56p9mAXKnaeXyeOOnWgC/RWdpmu2Gr3F/DYzb3sLk2s3/XQKrED1xuA+ua0CQCMkDPT3oAWimJPFJGzxyoyKSGZWBAx15pYpY5oxJC6yI3RkOQfxoAdRTFmieVo1kRpF+8gYZH1FEk0UTIJZEQucKGYDcfQetAD6KwfCfiJ/EemXt3NAlv9m1C5tMBsgiKQpuz74zW3DPFcRiSCVJUPRkYEfmKOlw62H0UUUAFFFFABRRRQAUUUUAFFFFABRRRQAUUUUAFFFFABRRRQAUUUUAFFFFABRRRQAUUUUAFcV8Xv+SWat9YP/R6V2tUtY0ex17SpdN1aD7RaTbfMj3sudrBhypB6gd6ALhIXqQO3NYvjX/kQdf8A+wbcf+i2qxrvh7TPEtlDaazbm4hhuI7lFEjJiRDlTlSOh7dKuXtnBqNhcWV5H5lvcxNFKmSNysMEZHI4PaonFyg0VB8skzh/h1Z+LF8J+HJbjWdJk0z7BAfsyaZIs2zyxhfMMxGenO3n0FY3g/wp4d8W+CdR1vxZp9rd6teXV39svbhA01qUldAqOfmjCKq4CkYxmvULCxttL022sLGPyra1iWGGPcW2oowBk5J4Heuf1L4ceGNVv7m6u7KYG8YPdQw3s0MNy3TMkSOEc8c5Bz3zWlT3pNrrciC5YpPpY89t45fGGlfCpPEMss/22O4+1EsVNyggJwx6kMFGfUEjoa9g03TLDR7COy0myt7G0jzsgtohGi5OThRwMkk1DNoWmz3um3clqvnaXu+xlWKiHcmwgKCARt4wQcdq0KcndtrqCWiR4j4uXTfFHhHxR4k0rwTozW6xXONcv7oRXTSQgp5kQWJyMMnygumSO2a0tR0LSte+IvgGfW9JstQa80a4a5e6tUk85ljiK7twOcFiRnpk+tdjN8MvClxNdNNp8rQ3cjyzWf2yb7M7t95/I3+WG7528Hkc81e1bwZoms2unwXlvMv9mDFnLbXUsEsA27SFkRg3K8HnnvUR0Wvl+TT/AD/AqWr+/wDNW/I5GDwvouu/GXxIms6db39taabYCG1uYxJCpPnDd5Z+XcAuAcZAJx1NYnhjwF4bvvBXi1dQ0uC8a01DULSzkuVEj2cMbNsSFmyYwDkjbjk16tZaFp+n6ncajawMt3cwxQTStK7l0i3bAdxPI3Nz1Oec0lnoGm2Fne2lpbeXBfzSz3C+Yx3vKcuck5Gc9BgDtilJNppdn999/wAxp6p+a+5K35nmFjjxVN8NdL8TYvNNu9Ca+lguPmjvLlI4tocHh8BmbB789q1rTRbXSfidq3hzwxjSbDUdANxNBZrsjtrjzDGkqKOEYqT0xnYDXW3fgvQb3w/Y6LPYn7FpwQWflzyJJb7BtUpKGDggcZzk96NL8GaHo9lfW1naORqI23ks9xJNNONu3DSOxc8Egc8dsVc7Sbfr87339L/gvlEbpJenytb+vmzhfC+k2HgnXtD0vxF4M0m2v3JtrDxFpsaN9plEbZ8zIEiOyhic7gTnmovBHgzwt4j0TxLca/p1rqEx1rUIXmuVDvaqJWO2NjzH13fLjls13OmeAtB0rU4NQhivLi5tQRbNfajcXQt8jB2CV2CnHGQM4rlPC/wz0y/0/Vn8R6ddwz3WrXjSJHdzW63ULTMU8xY3AkBU8bgeOOlJ3k36P81/XQey+a/JnPWcB8V+G/hRDr0kl4lxc3AlaQnNxGkEu3d3IZVGc9QTnrXU2ukWHhf4xpbeGtPt9Ot73QJpprW0iEUUkkc0YRti4G7DsM+9dpJ4f0qSbS5TZoraQSbERkosGUMfCggEbSRgggVK+j2MmvRay8GdQht2tkm3txGzKzLtzjkqpzjPFOWsm15/irC6W8l+DueHaB4V1vxd8OYtTtPDuhNrt+WuV8RTao63kVwHJ3cW5K7SNvlh8YGK7G78O2niH41C38SQR30UHhy3kltJBugll8+QbmU8MBlsA8c5xkDHR3Hw28M3F9c3Qtbu3N3KZbiG11G4ghmc9WaJHCEnvxz3zW4ujWCa6+srBi/e2W0abe3MSsWC7c46sTnGaFa6f9bNaf10G9n/AF1T/Q881maXQ/Gvi6bRYlilsfCETWscagBCjT7QB7YHFbXgLwZ4XtvDmh6xZ6XZXGovax3J1V4le4lkkTLuZT8xJ3Hv3rqV0awTW59XW3H264t1tpZSzHdGpZlXbnHVm5xnmsfTPh94d0bUY7zS7a6tvJkaSK2S/n+zxs2clYN/ljqeAuBnilHRa/1q3+v4BLV6f1ol+n4mV8YIPtXgaG3MkkQl1awQvE5VlzcxjII5B9xVHWvDWieFfHngq68N6VaaXNcX01ncNaQrF58Rt5Gw+37/AMyKcnJyK7zVdHsdctEtdUg8+GOaOdV3suHjYOhypB4YA46etF9o9jqV5YXV7B5s2nTGe1bew8tyhQnAOD8rEYORzRHT77/Ky/yYS1+63z1/zR47p2g3/jOXxVc3/hTQ9Zu31S6sxe6hqTRXFmqHbGkai3fywq4YFWGc5ro7G21PTvHngC08RXCXGpxaLew3EyMWEsiiHJBIBOcZ6V0+p+APD+q6tNqc0F1b3lwqrcS2N/Pa+eFGBvETqGwOMnnFWNU8GaHrGn2Fne2smzTcfY5IbmSKWDC7fllRg444PPPfNEfdS+X5NfrcHq2/X87/AKHK3cFnqfxY8U2V1DDdxHw5bJLBKgdSfMmIBU8HsfyrlrPR9N039lGe+0/TrS0vbrQ1a4uIbdUkmYdC7AZY8nrmvU9E8GaD4dvZ7zSrJo7u5iEU9xJPJLJMoJI3s7EscsfmPOMDOABVW2+HXhq00m/0qGzuBpuoIY5rJr6cwqpJYhEL4jyST8mKErR5f63k/wBR395Sf9aJfoZeqab4X8B+CbmZtFW7bUFjtLgIq/aNRklbYBJISCxLOSSx4ya5zT9LbQfi54VSLwxonhk3ttepLFpF1va4RY1YCVRDGOGAIOW5r0/WND07X9Hl0rV7VbmymADRsSOhyCCCCCCAQQcgiszTfAnh/S9Tg1KC1nm1C33eXeXd5NcSqGUqV3yOTtwT8vQZyBnmmn71/wCtiLPlSMz4W/8AIv6t/wBh7UP/AEoesyLR9M8W/F7xJD4qsrfUo9JtbRNPtLyMSRRpIrM8gRsruLDG7GflAru9K0ex0W3lg0yDyI5p5LmRd7NmSRiztyT1JJx09Kztc8GaJ4hv4b/UIJ0voYzEl3Z3cttKEJyULxMpK55wcip/l8kl+Fi+svNv87nKaloWlah8VNI8Malp9s2g2GiPdWWmvGDbvN5oQkx/dbYhGAc43E1UjtLbQvEHjzQtDjS30ldDS7NnCMRW07rKGCKOE3KqkqPr3rtb7wRoOo6XY2NzazbNO/49Jo7uVJ4TjBKzBhJyOvzc981LpfhHRNH0m706xsysF9uN00kzySTlhtJeRmLsccZJ47UpJuLj6/O99/v/AAQ4tKSfp8rW2+78WeWah4R0TTf2f7HX7bT4BrltYWl7HqpQG6EuYznzfvY5xjOMcdK6V9J0/wAV/GXVbXxTZwajb6ZpVs1hZ3cYkiHms/mShGyC2VVc44Ars7jw1pN14XHh2e036UsCW4t/Mcfu1xtG4Hdxgc5zUGueDtF8Q3dvd6hBMl3bIY4rq0upbaVUPVd8bKxX2JxWk3ed1tdmcU1Cz3t+q/4J5TNp9npXgv4w2OmcWsDssaBsiIfZU+QegXoB2AA7Vuah4a0TVfjL4d/tTRbC9Sfw/M8v2m0SQSOjxBSdwOSAcAnoDXaW3gLwzZ6NqelW2lrHZasMXsSzSfv/AJQhJbdnJA5IIJOSSSSam1rwdouvtZSX8E6zWAZbae1u5beWJWADKHjZWwQBkZpLRp9rfk1+pT1VvX8Wn+h5/r+oX2kTfFi90gtHd29laNE6dY/9HOWHuBk/hTvFnhTw54U+H1jrvhaxtrTVbOa0ez1C3QCe6Z5EUh3HzSB1ZgQxOc5r0q20HTbS+v7uG2Hn6isa3bO7P5oRdqghiR90446981jaf8N/C+mX1tdWtjMTZv5lrBNezSwWzescTuUQ88YAx2xSjo7+n4Cesbev4nPR+GtJ8RfGvxKddsYdRhttOsTHbXSCSHc3nfOUbKlgBgEjIycdaztK8LSax4R8aeFNFmjs7e019ls4JATAsYWGYwMByImLMCB0DH6V6dBo9jba1d6tBBtvb2OOKeXex3rHu2DBOBje3Qc55qjceD9EubTULd7WVE1K6F5ctDdSxu0wCgOGVgynCL90gcfWktPu/VP+vuKerv6flY5vwQdL03xRdaPL4LsfC+u/ZBMx09IzBdwB9u5HRVPDdVZQRkdas+LgG+JXgUMMgz3oIPf/AEY1uaJ4R0jw/dz3dhFcSXdwgjkury7luZWQHIXfKzELk5wDirt3o9jfanYahdQeZdacztayb2Hll12twDg5HHOap6pE9/66Hn/wq8NaLZ6p4qvLfRbCC7tfEF1DBOlqiyQx7UwisBlVwTwOOau/FGwj1S+8HWM7yJDca4El8pyrMht5ty5HIBGQcdia6W38IaPaeJZ9dtIriC9uG3ziK7lWKZ9u3c0QbYzY4yVz+NXtQ0ex1S4sZ76DzZNPn+02zb2Xy5NpXdwRnhiMHI5pdI36W/C1/vH1lbrf8bnm/j7R4dP1Lwh4Z0HQtN/se9vJ5J9NaT7JbXMiRbkRyiNnJy20qdxQZqbStOu/AF34h8R6ppOmaH4bGnCSXS9JumnUzoTmRUMUaqWQhSB1IGa73XfD+l+JdNNhrdotzb71kUbmRkdejKykMrD1BBqjYeCND0+1vbcQ3N3HfxeTci/vZrrzI+fl/eu2ByemKWtn8/y/r8B6af11ueZXulLpGq+C9SsvBmi+GPtGtQRRz2l5uvJI5FbckirEAwK9f3jYPr1rodB8PaP4v8a+M7rxZptrql1aagtlbxXsQlFtbiFGXYGHy7i7Nkck10Vl8NvDFjNaypZ3E8llIklo13fzzm2KHKiPe52DgcDAOBnOKs6t4F0DWtWbUry3uI7ySMRTS2l7NbGdB0WTy3XeBn+LPpVafn+Nv8n95Ov5fr/n+B5z4Z8Jy+IfhXLp2lTwXKWXiS6nWHUGZ4L5I53/AHcxGSVPBzg8gEg11/gCbSYNS1XSrfwlbeFdYt1ikvLW1SPypUbcI5EeMAMOG6gEdxWqPAPhyPQ00i1sZLKyjuWu4ks7qWAxStnLKyMGUfMeAcc4xVzQvC+leHDcvpkMvnXbBri4ubiS4mlIGBukkZmIHYZwMmhaK3kvyS/Qb1+9/m3+pr0UUUgCiiigAooooAKKKKACiiigAooooAKKKKACiiigAooooAKKKKACiiigAooooAKKKKACiiigAooooAKKKKACiiigAooooAKKKKACiiigAooooAKKKKACiiigAooooAKKKKACiiigAooooAKKKKACiiigAooooAKKKKACiiigAooooAKKKKACiiigAooooAKKKKACiiigAooooAKKKKACiiigAooooAKKKKACiiigAooooAKKKKACiiigAooooAKKKKACiiigAooooAKKKKACiiigAooooAKKKKACiiigAooooAKKKKACiiigAooooAKKKKACiiigAooooAKKKKACiiigAooooAKKKKACiiigAooooAKKKKACiiigAooooAKKKKACiiigAooooAKKKKACiiigAooooAKKKKACiiigAooooAKKKKACiiigAooooAKKKKACiiigAoorFuPEcY8V2/h+wgN3dmPz7tg+1LSHkKzHB+Zjwq9TyeAKANqiiigAooooAKKxNB8SDVr7UNNvLVrDVNOk2z2rPuDRtny5kbA3IwHXAwQykZFbdABRRRQAUUUUAFFFFABRRRQAUUUUAFFFFABRRRQAUUUUAFFFFABRRRQAUUUUAFFFFABRRRQAUUUUAFFFFABRRRQAUUUUAFFFFABRRRQAUUUUAFFFFABRRRQAUUUUAFFFFABRRRQAUUUUAFFFFABRRRQAUVnaLrVvr1rLd2KSG1WZoop2AC3AXgunqucgHvjI4IJ0aACis211y3uNfvNGkR4L21RZlSTGJ4W4EiEdQGBU9CCORgqTpUAFFFFABXG/EDxvdeDdLub2105LqOztxcTtPI0anc4SOJCFOXZs/QDJ6iuyrjPid4e1LxFoWlppUH2v7Dq9rfXNmHVGuoY2JaNSxCg8g/MQOOtAFvUvGRsvF3hrQI9OeS41tJppd8m02kcce4lhg5O4hcZ9ea6ivMJNJ8W3nxcHiX+xWtrZ9PjsLV5LiFjaJ54eZ5FDH5mUHaE3jkZI5xd1D4gajafEi30JLKNrNt8bXAZzFkyQgMzBMqy73UjlcvHlgTgAHoVFFYeseMdE0HW9O0nVbmWC71ORYrQfZZWSV2OAvmBSgOexIPfpQBuUUUUAZHirxFa+E/Cuoa5fcxWcJfYOsjdFQe5YgD61m/D7RLrSfDCXOs/PreqN9t1KUjkyvzs+iLhAOwWub+LUz6l4i8DeFEG5NU1lbm4UfxQ2wEjKfY5B/wCA16bQAVh+KNS17T7SEeGNGi1O6kY7zcXQgihQDJLNgkk9AAPUkjHO5XFeNofFV9I0ej6NbalpVsgeaxmvRA+psT/qw2CFQDqGxuPB+XO4A0/B/iS+8UafJfXOknTrcEJEWnWXz2BId0K8GPptbjdycAYz0VYXhSTxBcWMl14ns7fTJZWAg023kEotYwOjSAAMxOc44AAA7k7tAHCfE2O40W1s/G+lRFrzQH33aIPmubFj+/jP0GHGehTNdrZ3cF/YwXllKs1tcRrLFKhyHRhkMPYgg0l9Zxajp1zZXI3Q3MTRSD1VgQf0NcB8C7+6n+GiaVqRZrzQbyfSpifWJuB9ArKv4UAejUUUUAFFFFABRRRQAUUUUAFFFFABRRRQAUUUUAFFFFABRRRQAUUUUAFFFFABRRRQAUUUUAFFFFABRRRQAUUUUAFFFFABRRRQAUUUUAFFFFABRRRQAUUUUAFFFFABRRRQAUUUUAFFFFABVbUb5NM0u6vpkkkjtoXmZIl3OwUE4UdzxwKs0UAch4f8dNqV94jtNX05NPfw+sT3LxXHnIQ8RkK7tq/MoGGHI5HNYXiTxzd6n+z1d+KrO1fTbnULQJBEX3tF50ohVt2Bzhw3TjNYr+G/GFp8P/G2hWWhyzaxreo3kq3puIVimilxghi24Ep8oUgYPXArU8V6LqcnwE1jTRZNajT7eFrC1YKZBDa+U4DbSQSxic4B6MB1FAHo+m2Fvo+j2un2abbezgWGJFHRVXAH5CuOh8e+If7Yi0+98E3FrJfn/iXE6hE5dR9550HzQqAQScNz8vUgHqZ9VluPDS6noFuuoyXEKS2kfmBFk342kt2XBBJGeAcAniuN0R/G0Gt/ZbvwxBDd3EyNqGvvfpNC8SnOyKPCuBgsqqQApJJLEksAW/HznS/FvgjWoW2yf2sdLlHIDxXMbZB9QHjjI9wK7quF+IaNqPiTwRo8AzM+trqDjPSK3jdmP/fTIPxFd1QBjHxJGCR/Zerf+AL05PEUbyKv9m6qu4gZaycAfWqh8Narn/kd9eH/AGwsP/kanReHNUjmR38Z65KqsCY3hscMPQ4tgcH2INAHQVlP4p8PxSNHJrumo6khla8jBBHYjNatY0ng7wzNK8s3h3SZJHYsztYxEsT1JO3k0AO/4Szw5/0H9L/8DY/8ajPiPwq12l02s6ObiNGjSU3UW5UYgsoOc4JVSR7D0rG1i3+HWg6lZWGr6RottdX8ixW0Z0xT5rscBQQhGSa2f+EK8Lf9C1o//gBF/wDE0AaFjq2naoHOmX9reeXjf9nmWTbnpnBOOh/KuG+LX/H54D/7G2z/APQJK7fTtF0vRxINJ02zsfNx5n2WBYt+M4ztAzjJ/OuL+J9hreqX/hYaJoF3qSaXrVvqdxJFNAi+WgcMg8yRSX+YHpj3oAn1fx/qml/Ey18Ix+HY7k6hbNPZXaXxAO373mr5f7sDDcgt0GAScDU8L+LpNc17X9Dv7BLLUtCliSdYp/OjdJU3xurFVPIByCOD61zmq2GvT/G7RfEEHhu+k0uz0+S0lnE9sMNIQchTLuwvQ8Z4OAad4NsNetfi14w1jUfDl7Zafrws/s08s9s2zyISjb1SVmGSeMA++KAKfiJmuP2m/B8JJ22uk3U4Hu4ZD/IV6nXl2vhoP2m/CkxwFutGuoBnuV3Of5ivUaAM+78QaNYXLW99q9jbTLjdFNcojDPIyCc1B/wlnhz/AKD+l/8AgbH/AI0+98MaDqV011qOiadd3D4DSz2kbu2BgZJGelQf8IV4W/6FrR//AAAi/wDiaAJP+Es8Of8AQf0v/wADY/8AGrljq+m6oXGmaha3nl43/Z5lk256ZwTjofyrP/4Qrwt/0LWj/wDgBF/8TV3TtD0nRzIdJ0yzsTLgSG2t0j346Z2gZ6n86AL1eXfCDdb+J/iNZHhE8STTqP8Arpz/AEFeo15f8JN03i34j3XOxvEMkIJ9UGD/ADFAHqFFFFABRRRQAUUUUAFFFFABRRRQAUUUUAFFFFABRRRQAUUUUAFFFFABRRRQAUUUUAFFFFABRRRQAUUUUAFFFFABRRRQAUUUUAFFFFABRRRQAUUUUAFFFFABRRRQAUUUUAFFFFABRRRQAUUUUAFBGRg0UUAZPhzQV8N6a+m2s5ksI5WazhZebaM8+Vuz8yg52+i4HOM1rUUUAZNroMcXia71y6l+0XcsS29vlAotoByUX13N8xPf5R0ArWoooAKKKKACiiigDy3x/qVtcfF/wfpl5Ji20uOfWLhFUszMP3UAVRyWLkgAckniuu8N+K5te17WtMudHuNPfSjD88rZEnmKWxnAG4Ac7Sw5HJrhtd8Can4g8V+OvED2c8WoQWcVt4bnSYxSLIkJcujKQQDI2OeDyD3ruvBt9rt9pcTa9ayW5itLeNjcR7JZbgIfPcgHAXcQBgDkMRkEUAdHRRRQAUUUUAeZ/FRDpnjDwB4oDFEsdYNjMw6LHcrsLH2G3H416ZWF418Mw+MfBmpaFO/lfa4sRSg/6qRSGjfj0YKfwqDwH4hm8ReFIJdRTyNWtCbTUrc9YrmPhx9D94ezCgDb1G9GnabcXjQT3AgjL+Tbxl5JMD7qqOpPSuW0TxzqOpaxHpGpeE9Q0rUWbzGjlmjkjS35/emRCQDkY29STxwGI2/Et5q9ppBHhyxW81KdvLhErbYojgku5/ugDp1JwO+RzPg2+11tVNk/he+02JXeTU9T1WZJJLuTGAIyh+bnBBwFVV2gDjAB3fmJ5nl7134ztzzj6U6vHXIfwL/bxjU6svjEYudv7zjUvIC7uuPK+TH93ivYqAGTzR21vJPMwSONS7sTwABkmvOfgTZzp8OX1i8TZca/qFxqjqRziRsD8woP41ofFC6mvtGt/B+lSMNT8RyfZsp1gtsgzzH2CfL9XFdhpun22k6Va6dYRiK1tIUhhQfwooAA/IUAWaKKKACiiigAooooAKKKKACiiigAooooAKKKKACiiigAooooAKKKKACiiigAooooAKKKKACiiigAooooAKKKKACiiigAooooAKKKKACiiigAooooAKKKKACiiigAooooAKKKKACiiigAooooAKKKKACiiigAooooAKKKKACiiigAooooAKKKKACiiigArEk8PmHxYuu6XOtu9wgh1GAplLtFB2N7SLnAbnK5Uj7pXbooAKKKKAOe/wCEK037XvEtyLT7f/aJsNy+T9o3bvM+7u+/8+3dt3c4roaKKAMTR/D72esX2s6ncC81K8/dhwu1beBSSkKDsOck/wATHPoBt0UUAFFFFABRRRQAUUUUAFFFFABRRRQAUUUUAFFFFABRRRQAUUUUAFFFFABRRRQAUUUUAFFFFABRRRQAUUUUAFFFFABRRRQAUUUUAFFFFABRRRQAUUUUAFFFFABRRRQAUUUUAFFFFABRRRQAUUUUAFFFFABRRRQAUUUUAFFFFABRRRQAUUUUAFFFFABRRRQAUUUUAFFFFABRRRQAUUUUAFFFFAH/2Q==)"
      ],
      "metadata": {
        "id": "APz1bMD2BIye"
      }
    },
    {
      "cell_type": "code",
      "source": [
        "k=0.4\n",
        "for i in range(0,18,30):\n",
        "  velocidad_friccion_u=k*(/math.log())"
      ],
      "metadata": {
        "id": "2BxrGTAUBth9"
      },
      "execution_count": null,
      "outputs": []
    },
    {
      "cell_type": "markdown",
      "source": [
        "Mediciones de turbulencias con sensor Lidar a 20 Hz"
      ],
      "metadata": {
        "id": "veWI5gVRjqUr"
      }
    },
    {
      "cell_type": "code",
      "source": [
        "df1 = pd.read_excel (\n",
        "    \"/content/TurbulenceDataSeries.xls\",\n",
        "    )\n",
        "df1.head(10)"
      ],
      "metadata": {
        "colab": {
          "base_uri": "https://localhost:8080/",
          "height": 320
        },
        "id": "MZc6lrvdjuVt",
        "outputId": "686da77b-315c-450a-8a9d-ed9080aa837c"
      },
      "execution_count": null,
      "outputs": [
        {
          "output_type": "execute_result",
          "data": {
            "text/html": [
              "\n",
              "  <div id=\"df-edbd30f1-8f7e-494c-8b58-01bcfcdc23f3\">\n",
              "    <div class=\"colab-df-container\">\n",
              "      <div>\n",
              "<style scoped>\n",
              "    .dataframe tbody tr th:only-of-type {\n",
              "        vertical-align: middle;\n",
              "    }\n",
              "\n",
              "    .dataframe tbody tr th {\n",
              "        vertical-align: top;\n",
              "    }\n",
              "\n",
              "    .dataframe thead th {\n",
              "        text-align: right;\n",
              "    }\n",
              "</style>\n",
              "<table border=\"1\" class=\"dataframe\">\n",
              "  <thead>\n",
              "    <tr style=\"text-align: right;\">\n",
              "      <th></th>\n",
              "      <th>u</th>\n",
              "      <th>v</th>\n",
              "      <th>w</th>\n",
              "    </tr>\n",
              "  </thead>\n",
              "  <tbody>\n",
              "    <tr>\n",
              "      <th>0</th>\n",
              "      <td>8.149239</td>\n",
              "      <td>-1.004577</td>\n",
              "      <td>-0.386437</td>\n",
              "    </tr>\n",
              "    <tr>\n",
              "      <th>1</th>\n",
              "      <td>8.179172</td>\n",
              "      <td>-1.038056</td>\n",
              "      <td>-0.366863</td>\n",
              "    </tr>\n",
              "    <tr>\n",
              "      <th>2</th>\n",
              "      <td>8.124179</td>\n",
              "      <td>-0.961820</td>\n",
              "      <td>-0.326073</td>\n",
              "    </tr>\n",
              "    <tr>\n",
              "      <th>3</th>\n",
              "      <td>8.294137</td>\n",
              "      <td>-0.965844</td>\n",
              "      <td>-0.388507</td>\n",
              "    </tr>\n",
              "    <tr>\n",
              "      <th>4</th>\n",
              "      <td>8.291696</td>\n",
              "      <td>-1.051260</td>\n",
              "      <td>-0.418475</td>\n",
              "    </tr>\n",
              "    <tr>\n",
              "      <th>5</th>\n",
              "      <td>8.217856</td>\n",
              "      <td>-1.129117</td>\n",
              "      <td>-0.377416</td>\n",
              "    </tr>\n",
              "    <tr>\n",
              "      <th>6</th>\n",
              "      <td>8.246213</td>\n",
              "      <td>-1.086458</td>\n",
              "      <td>-0.347818</td>\n",
              "    </tr>\n",
              "    <tr>\n",
              "      <th>7</th>\n",
              "      <td>8.263049</td>\n",
              "      <td>-1.017781</td>\n",
              "      <td>-0.348059</td>\n",
              "    </tr>\n",
              "    <tr>\n",
              "      <th>8</th>\n",
              "      <td>8.257217</td>\n",
              "      <td>-1.004772</td>\n",
              "      <td>-0.367977</td>\n",
              "    </tr>\n",
              "    <tr>\n",
              "      <th>9</th>\n",
              "      <td>8.297239</td>\n",
              "      <td>-0.988131</td>\n",
              "      <td>-0.298542</td>\n",
              "    </tr>\n",
              "  </tbody>\n",
              "</table>\n",
              "</div>\n",
              "      <button class=\"colab-df-convert\" onclick=\"convertToInteractive('df-edbd30f1-8f7e-494c-8b58-01bcfcdc23f3')\"\n",
              "              title=\"Convert this dataframe to an interactive table.\"\n",
              "              style=\"display:none;\">\n",
              "        \n",
              "  <svg xmlns=\"http://www.w3.org/2000/svg\" height=\"24px\"viewBox=\"0 0 24 24\"\n",
              "       width=\"24px\">\n",
              "    <path d=\"M0 0h24v24H0V0z\" fill=\"none\"/>\n",
              "    <path d=\"M18.56 5.44l.94 2.06.94-2.06 2.06-.94-2.06-.94-.94-2.06-.94 2.06-2.06.94zm-11 1L8.5 8.5l.94-2.06 2.06-.94-2.06-.94L8.5 2.5l-.94 2.06-2.06.94zm10 10l.94 2.06.94-2.06 2.06-.94-2.06-.94-.94-2.06-.94 2.06-2.06.94z\"/><path d=\"M17.41 7.96l-1.37-1.37c-.4-.4-.92-.59-1.43-.59-.52 0-1.04.2-1.43.59L10.3 9.45l-7.72 7.72c-.78.78-.78 2.05 0 2.83L4 21.41c.39.39.9.59 1.41.59.51 0 1.02-.2 1.41-.59l7.78-7.78 2.81-2.81c.8-.78.8-2.07 0-2.86zM5.41 20L4 18.59l7.72-7.72 1.47 1.35L5.41 20z\"/>\n",
              "  </svg>\n",
              "      </button>\n",
              "      \n",
              "  <style>\n",
              "    .colab-df-container {\n",
              "      display:flex;\n",
              "      flex-wrap:wrap;\n",
              "      gap: 12px;\n",
              "    }\n",
              "\n",
              "    .colab-df-convert {\n",
              "      background-color: #E8F0FE;\n",
              "      border: none;\n",
              "      border-radius: 50%;\n",
              "      cursor: pointer;\n",
              "      display: none;\n",
              "      fill: #1967D2;\n",
              "      height: 32px;\n",
              "      padding: 0 0 0 0;\n",
              "      width: 32px;\n",
              "    }\n",
              "\n",
              "    .colab-df-convert:hover {\n",
              "      background-color: #E2EBFA;\n",
              "      box-shadow: 0px 1px 2px rgba(60, 64, 67, 0.3), 0px 1px 3px 1px rgba(60, 64, 67, 0.15);\n",
              "      fill: #174EA6;\n",
              "    }\n",
              "\n",
              "    [theme=dark] .colab-df-convert {\n",
              "      background-color: #3B4455;\n",
              "      fill: #D2E3FC;\n",
              "    }\n",
              "\n",
              "    [theme=dark] .colab-df-convert:hover {\n",
              "      background-color: #434B5C;\n",
              "      box-shadow: 0px 1px 3px 1px rgba(0, 0, 0, 0.15);\n",
              "      filter: drop-shadow(0px 1px 2px rgba(0, 0, 0, 0.3));\n",
              "      fill: #FFFFFF;\n",
              "    }\n",
              "  </style>\n",
              "\n",
              "      <script>\n",
              "        const buttonEl =\n",
              "          document.querySelector('#df-edbd30f1-8f7e-494c-8b58-01bcfcdc23f3 button.colab-df-convert');\n",
              "        buttonEl.style.display =\n",
              "          google.colab.kernel.accessAllowed ? 'block' : 'none';\n",
              "\n",
              "        async function convertToInteractive(key) {\n",
              "          const element = document.querySelector('#df-edbd30f1-8f7e-494c-8b58-01bcfcdc23f3');\n",
              "          const dataTable =\n",
              "            await google.colab.kernel.invokeFunction('convertToInteractive',\n",
              "                                                     [key], {});\n",
              "          if (!dataTable) return;\n",
              "\n",
              "          const docLinkHtml = 'Like what you see? Visit the ' +\n",
              "            '<a target=\"_blank\" href=https://colab.research.google.com/notebooks/data_table.ipynb>data table notebook</a>'\n",
              "            + ' to learn more about interactive tables.';\n",
              "          element.innerHTML = '';\n",
              "          dataTable['output_type'] = 'display_data';\n",
              "          await google.colab.output.renderOutput(dataTable, element);\n",
              "          const docLink = document.createElement('div');\n",
              "          docLink.innerHTML = docLinkHtml;\n",
              "          element.appendChild(docLink);\n",
              "        }\n",
              "      </script>\n",
              "    </div>\n",
              "  </div>\n",
              "  "
            ],
            "text/plain": [
              "          u         v         w\n",
              "0  8.149239 -1.004577 -0.386437\n",
              "1  8.179172 -1.038056 -0.366863\n",
              "2  8.124179 -0.961820 -0.326073\n",
              "3  8.294137 -0.965844 -0.388507\n",
              "4  8.291696 -1.051260 -0.418475\n",
              "5  8.217856 -1.129117 -0.377416\n",
              "6  8.246213 -1.086458 -0.347818\n",
              "7  8.263049 -1.017781 -0.348059\n",
              "8  8.257217 -1.004772 -0.367977\n",
              "9  8.297239 -0.988131 -0.298542"
            ]
          },
          "metadata": {},
          "execution_count": 3
        }
      ]
    },
    {
      "cell_type": "markdown",
      "source": [
        "Calculo de VPN de proyecto eolico"
      ],
      "metadata": {
        "id": "NgDFbDIQVJhG"
      }
    },
    {
      "cell_type": "code",
      "source": [
        "Inver_inicial=-65000000\n",
        "AEP=110000000\n",
        "tarifa_venta=0.075\n",
        "precio_venta=AEP*tarifa_venta\n",
        "costos_oym=0.0091\n",
        "costos=costos_oym*AEP\n",
        "costos_netos=precio_venta-costos\n",
        "values = [Inver_inicial,costos_netos, costos_netos, costos_netos, costos_netos, costos_netos, costos_netos, costos_netos, costos_netos, costos_netos, costos_netos, costos_netos, costos_netos, costos_netos, costos_netos, costos_netos, costos_netos, costos_netos, costos_netos, costos_netos, costos_netos, -3000000]\n",
        "rate1 = 0.02\n",
        "rate2 = 0.08\n",
        "rate3 = 12\n",
        "#Printing NPV Values\n",
        "print(\"NPV value with rate \", rate1, \" is: \", np.npv(rate1, values))\n",
        "print(\"NPV value with rate \", rate2, \" is: \", np.npv(rate2, values))\n",
        "print(\"NPV value with rate \", rate3, \" is: \", np.npv(rate3, values))"
      ],
      "metadata": {
        "colab": {
          "base_uri": "https://localhost:8080/"
        },
        "id": "MUjOdh0aR1iy",
        "outputId": "eeca0cbe-f219-4bff-85b4-613fe731e989"
      },
      "execution_count": 5,
      "outputs": [
        {
          "output_type": "stream",
          "name": "stdout",
          "text": [
            "NPV value with rate  0.02  is:  51552212.86466666\n",
            "NPV value with rate  0.08  is:  5575783.313810826\n",
            "NPV value with rate  12  is:  -64395916.66666667\n"
          ]
        },
        {
          "output_type": "stream",
          "name": "stderr",
          "text": [
            "/usr/local/lib/python3.7/dist-packages/ipykernel_launcher.py:13: DeprecationWarning: numpy.npv is deprecated and will be removed from NumPy 1.20. Use numpy_financial.npv instead (https://pypi.org/project/numpy-financial/).\n",
            "  del sys.path[0]\n",
            "/usr/local/lib/python3.7/dist-packages/ipykernel_launcher.py:14: DeprecationWarning: numpy.npv is deprecated and will be removed from NumPy 1.20. Use numpy_financial.npv instead (https://pypi.org/project/numpy-financial/).\n",
            "  \n",
            "/usr/local/lib/python3.7/dist-packages/ipykernel_launcher.py:15: DeprecationWarning: numpy.npv is deprecated and will be removed from NumPy 1.20. Use numpy_financial.npv instead (https://pypi.org/project/numpy-financial/).\n",
            "  from ipykernel import kernelapp as app\n"
          ]
        }
      ]
    },
    {
      "cell_type": "code",
      "source": [
        "costos_netos"
      ],
      "metadata": {
        "colab": {
          "base_uri": "https://localhost:8080/"
        },
        "id": "_gxVofRUWz6V",
        "outputId": "e269ed92-c237-4590-a8e3-dc855160aff3"
      },
      "execution_count": 38,
      "outputs": [
        {
          "output_type": "execute_result",
          "data": {
            "text/plain": [
              "7249000.0"
            ]
          },
          "metadata": {},
          "execution_count": 38
        }
      ]
    },
    {
      "cell_type": "code",
      "source": [
        "precio_venta"
      ],
      "metadata": {
        "colab": {
          "base_uri": "https://localhost:8080/"
        },
        "id": "EwaTtG6nw5Zk",
        "outputId": "7e879fa6-05cb-4183-a953-18e6d3665459"
      },
      "execution_count": 23,
      "outputs": [
        {
          "output_type": "execute_result",
          "data": {
            "text/plain": [
              "8250000.0"
            ]
          },
          "metadata": {},
          "execution_count": 23
        }
      ]
    },
    {
      "cell_type": "code",
      "source": [
        "costos"
      ],
      "metadata": {
        "colab": {
          "base_uri": "https://localhost:8080/"
        },
        "id": "7Tyv2qyQxEWQ",
        "outputId": "2b85cd70-31b0-4564-a4de-8de300732076"
      },
      "execution_count": 24,
      "outputs": [
        {
          "output_type": "execute_result",
          "data": {
            "text/plain": [
              "1001000.0"
            ]
          },
          "metadata": {},
          "execution_count": 24
        }
      ]
    },
    {
      "cell_type": "markdown",
      "source": [
        "Valor presente neto del mantenimiento y reparaciones"
      ],
      "metadata": {
        "id": "GFcIVhAEmJiQ"
      }
    },
    {
      "cell_type": "code",
      "source": [
        "values1=[]\n",
        "a=1001000\n",
        "for i in range(20):\n",
        "  values1.append(a)\n",
        "print(\"NPV value with rate \", rate2, \" is: \", np.npv(rate2, values1))"
      ],
      "metadata": {
        "colab": {
          "base_uri": "https://localhost:8080/"
        },
        "id": "0BqKmEZHmOIR",
        "outputId": "d28c592d-d602-4297-bed8-e52c902db32c"
      },
      "execution_count": 15,
      "outputs": [
        {
          "output_type": "stream",
          "name": "stdout",
          "text": [
            "NPV value with rate  0.08  is:  10614202.799245276\n"
          ]
        },
        {
          "output_type": "stream",
          "name": "stderr",
          "text": [
            "/usr/local/lib/python3.7/dist-packages/ipykernel_launcher.py:5: DeprecationWarning: numpy.npv is deprecated and will be removed from NumPy 1.20. Use numpy_financial.npv instead (https://pypi.org/project/numpy-financial/).\n",
            "  \"\"\"\n"
          ]
        }
      ]
    },
    {
      "cell_type": "markdown",
      "source": [
        "Valor presente del desmantelamiento"
      ],
      "metadata": {
        "id": "pXzVPPW3qgJ1"
      }
    },
    {
      "cell_type": "code",
      "source": [
        "values2=[]\n",
        "a=1001000\n",
        "for i in range(20):\n",
        "  list.append(a)\n",
        "print(\"NPV value with rate \", rate2, \" is: \", np.npv(rate2, values1)  "
      ],
      "metadata": {
        "id": "BAxndBatrjVn"
      },
      "execution_count": 12,
      "outputs": []
    }
  ]
}