{
  "nbformat": 4,
  "nbformat_minor": 0,
  "metadata": {
    "colab": {
      "name": "Untitled50.ipynb",
      "provenance": [],
      "authorship_tag": "ABX9TyPOBt8NYhP1MtR7igH5hJe3",
      "include_colab_link": true
    },
    "kernelspec": {
      "name": "python3",
      "display_name": "Python 3"
    },
    "language_info": {
      "name": "python"
    }
  },
  "cells": [
    {
      "cell_type": "markdown",
      "metadata": {
        "id": "view-in-github",
        "colab_type": "text"
      },
      "source": [
        "<a href=\"https://colab.research.google.com/github/mteoraso/mteoraso/blob/main/Untitled50.ipynb\" target=\"_parent\"><img src=\"https://colab.research.google.com/assets/colab-badge.svg\" alt=\"Open In Colab\"/></a>"
      ]
    },
    {
      "cell_type": "markdown",
      "source": [
        "Calculo de rugosidad superficial para perfiles de viento de un mástil meteorológico en Høvsøre, Dinamarca. "
      ],
      "metadata": {
        "id": "MT6ukXz8cPuU"
      }
    },
    {
      "cell_type": "code",
      "source": [
        "import pandas as pd\n",
        "import matplotlib as mp\n",
        "import numpy as np\n",
        "import matplotlib.pyplot as plt\n",
        "import math as math\n",
        "import seaborn as sns"
      ],
      "metadata": {
        "id": "UMpIZHMWcUOF"
      },
      "execution_count": null,
      "outputs": []
    },
    {
      "cell_type": "code",
      "source": [
        "df = pd.read_excel (\n",
        "    \"/content/perfil_viento_V1.xls\",\n",
        "    )\n",
        "df.head(10)"
      ],
      "metadata": {
        "colab": {
          "base_uri": "https://localhost:8080/",
          "height": 461
        },
        "id": "fJhyxwITn34G",
        "outputId": "d0c8d62d-8ce4-473c-8579-59163cb40bc4"
      },
      "execution_count": null,
      "outputs": [
        {
          "output_type": "execute_result",
          "data": {
            "text/html": [
              "\n",
              "  <div id=\"df-92e1939c-b04d-4fd1-8722-cefa5ba38dfc\">\n",
              "    <div class=\"colab-df-container\">\n",
              "      <div>\n",
              "<style scoped>\n",
              "    .dataframe tbody tr th:only-of-type {\n",
              "        vertical-align: middle;\n",
              "    }\n",
              "\n",
              "    .dataframe tbody tr th {\n",
              "        vertical-align: top;\n",
              "    }\n",
              "\n",
              "    .dataframe thead th {\n",
              "        text-align: right;\n",
              "    }\n",
              "</style>\n",
              "<table border=\"1\" class=\"dataframe\">\n",
              "  <thead>\n",
              "    <tr style=\"text-align: right;\">\n",
              "      <th></th>\n",
              "      <th>time (hour)</th>\n",
              "      <th>u10 (m/s)</th>\n",
              "      <th>u40 (m/s)</th>\n",
              "      <th>u60 (m/s)</th>\n",
              "      <th>u80 (m/s)</th>\n",
              "      <th>u100 (m/s)</th>\n",
              "      <th>u116 (Um/s)</th>\n",
              "      <th>u160 (m/s)</th>\n",
              "      <th>dir10</th>\n",
              "      <th>dir60</th>\n",
              "      <th>dir100</th>\n",
              "      <th>Unnamed: 11</th>\n",
              "      <th>Unnamed: 12</th>\n",
              "      <th>time decimal hours</th>\n",
              "      <th>Unnamed: 14</th>\n",
              "      <th>Unnamed: 15</th>\n",
              "    </tr>\n",
              "  </thead>\n",
              "  <tbody>\n",
              "    <tr>\n",
              "      <th>0</th>\n",
              "      <td>00:00:00</td>\n",
              "      <td>4.25636</td>\n",
              "      <td>7.18414</td>\n",
              "      <td>8.56345</td>\n",
              "      <td>9.75567</td>\n",
              "      <td>10.9667</td>\n",
              "      <td>12.1298</td>\n",
              "      <td>13.8083</td>\n",
              "      <td>110.616</td>\n",
              "      <td>131.652</td>\n",
              "      <td>141.809</td>\n",
              "      <td>NaN</td>\n",
              "      <td>NaN</td>\n",
              "      <td>0.000000</td>\n",
              "      <td>NaN</td>\n",
              "      <td>midnight</td>\n",
              "    </tr>\n",
              "    <tr>\n",
              "      <th>1</th>\n",
              "      <td>00:10:00</td>\n",
              "      <td>4.54607</td>\n",
              "      <td>7.40763</td>\n",
              "      <td>8.62832</td>\n",
              "      <td>9.91782</td>\n",
              "      <td>11.2024</td>\n",
              "      <td>12.2694</td>\n",
              "      <td>14.1229</td>\n",
              "      <td>114.551</td>\n",
              "      <td>133.624</td>\n",
              "      <td>142.565</td>\n",
              "      <td>NaN</td>\n",
              "      <td>NaN</td>\n",
              "      <td>0.166667</td>\n",
              "      <td>NaN</td>\n",
              "      <td>NaN</td>\n",
              "    </tr>\n",
              "    <tr>\n",
              "      <th>2</th>\n",
              "      <td>00:20:00</td>\n",
              "      <td>4.48597</td>\n",
              "      <td>6.90398</td>\n",
              "      <td>8.06806</td>\n",
              "      <td>9.54922</td>\n",
              "      <td>10.9354</td>\n",
              "      <td>12.0622</td>\n",
              "      <td>14.1083</td>\n",
              "      <td>114.343</td>\n",
              "      <td>135.404</td>\n",
              "      <td>142.934</td>\n",
              "      <td>NaN</td>\n",
              "      <td>NaN</td>\n",
              "      <td>0.333333</td>\n",
              "      <td>NaN</td>\n",
              "      <td>NaN</td>\n",
              "    </tr>\n",
              "    <tr>\n",
              "      <th>3</th>\n",
              "      <td>00:30:00</td>\n",
              "      <td>4.29970</td>\n",
              "      <td>6.78310</td>\n",
              "      <td>8.18141</td>\n",
              "      <td>9.64565</td>\n",
              "      <td>10.9862</td>\n",
              "      <td>12.0684</td>\n",
              "      <td>13.8210</td>\n",
              "      <td>114.325</td>\n",
              "      <td>135.272</td>\n",
              "      <td>143.951</td>\n",
              "      <td>NaN</td>\n",
              "      <td>NaN</td>\n",
              "      <td>0.500000</td>\n",
              "      <td>NaN</td>\n",
              "      <td>NaN</td>\n",
              "    </tr>\n",
              "    <tr>\n",
              "      <th>4</th>\n",
              "      <td>00:40:00</td>\n",
              "      <td>4.32460</td>\n",
              "      <td>6.78405</td>\n",
              "      <td>8.07585</td>\n",
              "      <td>9.48084</td>\n",
              "      <td>10.7186</td>\n",
              "      <td>11.7632</td>\n",
              "      <td>13.6223</td>\n",
              "      <td>112.893</td>\n",
              "      <td>133.654</td>\n",
              "      <td>141.589</td>\n",
              "      <td>NaN</td>\n",
              "      <td>NaN</td>\n",
              "      <td>0.666667</td>\n",
              "      <td>NaN</td>\n",
              "      <td>NaN</td>\n",
              "    </tr>\n",
              "    <tr>\n",
              "      <th>5</th>\n",
              "      <td>00:50:00</td>\n",
              "      <td>4.39143</td>\n",
              "      <td>6.74700</td>\n",
              "      <td>8.17429</td>\n",
              "      <td>9.64272</td>\n",
              "      <td>10.8858</td>\n",
              "      <td>11.9759</td>\n",
              "      <td>13.9491</td>\n",
              "      <td>115.753</td>\n",
              "      <td>134.740</td>\n",
              "      <td>143.132</td>\n",
              "      <td>NaN</td>\n",
              "      <td>NaN</td>\n",
              "      <td>0.833333</td>\n",
              "      <td>NaN</td>\n",
              "      <td>NaN</td>\n",
              "    </tr>\n",
              "    <tr>\n",
              "      <th>6</th>\n",
              "      <td>01:00:00</td>\n",
              "      <td>4.37746</td>\n",
              "      <td>6.81312</td>\n",
              "      <td>8.31322</td>\n",
              "      <td>9.68177</td>\n",
              "      <td>10.9825</td>\n",
              "      <td>12.1531</td>\n",
              "      <td>14.3469</td>\n",
              "      <td>116.041</td>\n",
              "      <td>135.422</td>\n",
              "      <td>145.788</td>\n",
              "      <td>NaN</td>\n",
              "      <td>NaN</td>\n",
              "      <td>1.000000</td>\n",
              "      <td>NaN</td>\n",
              "      <td>NaN</td>\n",
              "    </tr>\n",
              "    <tr>\n",
              "      <th>7</th>\n",
              "      <td>01:10:00</td>\n",
              "      <td>4.42356</td>\n",
              "      <td>6.97187</td>\n",
              "      <td>8.32293</td>\n",
              "      <td>9.73835</td>\n",
              "      <td>11.0083</td>\n",
              "      <td>12.0661</td>\n",
              "      <td>13.9822</td>\n",
              "      <td>116.125</td>\n",
              "      <td>134.616</td>\n",
              "      <td>143.812</td>\n",
              "      <td>NaN</td>\n",
              "      <td>NaN</td>\n",
              "      <td>1.166667</td>\n",
              "      <td>NaN</td>\n",
              "      <td>NaN</td>\n",
              "    </tr>\n",
              "    <tr>\n",
              "      <th>8</th>\n",
              "      <td>01:20</td>\n",
              "      <td>4.35256</td>\n",
              "      <td>6.71715</td>\n",
              "      <td>8.04123</td>\n",
              "      <td>9.38698</td>\n",
              "      <td>10.8701</td>\n",
              "      <td>11.9126</td>\n",
              "      <td>13.5930</td>\n",
              "      <td>113.801</td>\n",
              "      <td>133.699</td>\n",
              "      <td>140.717</td>\n",
              "      <td>NaN</td>\n",
              "      <td>NaN</td>\n",
              "      <td>1.333333</td>\n",
              "      <td>NaN</td>\n",
              "      <td>NaN</td>\n",
              "    </tr>\n",
              "    <tr>\n",
              "      <th>9</th>\n",
              "      <td>01:30:00</td>\n",
              "      <td>4.20641</td>\n",
              "      <td>6.60790</td>\n",
              "      <td>7.88777</td>\n",
              "      <td>9.42703</td>\n",
              "      <td>10.8732</td>\n",
              "      <td>12.1210</td>\n",
              "      <td>13.8892</td>\n",
              "      <td>115.200</td>\n",
              "      <td>134.743</td>\n",
              "      <td>143.640</td>\n",
              "      <td>NaN</td>\n",
              "      <td>NaN</td>\n",
              "      <td>1.500000</td>\n",
              "      <td>NaN</td>\n",
              "      <td>NaN</td>\n",
              "    </tr>\n",
              "  </tbody>\n",
              "</table>\n",
              "</div>\n",
              "      <button class=\"colab-df-convert\" onclick=\"convertToInteractive('df-92e1939c-b04d-4fd1-8722-cefa5ba38dfc')\"\n",
              "              title=\"Convert this dataframe to an interactive table.\"\n",
              "              style=\"display:none;\">\n",
              "        \n",
              "  <svg xmlns=\"http://www.w3.org/2000/svg\" height=\"24px\"viewBox=\"0 0 24 24\"\n",
              "       width=\"24px\">\n",
              "    <path d=\"M0 0h24v24H0V0z\" fill=\"none\"/>\n",
              "    <path d=\"M18.56 5.44l.94 2.06.94-2.06 2.06-.94-2.06-.94-.94-2.06-.94 2.06-2.06.94zm-11 1L8.5 8.5l.94-2.06 2.06-.94-2.06-.94L8.5 2.5l-.94 2.06-2.06.94zm10 10l.94 2.06.94-2.06 2.06-.94-2.06-.94-.94-2.06-.94 2.06-2.06.94z\"/><path d=\"M17.41 7.96l-1.37-1.37c-.4-.4-.92-.59-1.43-.59-.52 0-1.04.2-1.43.59L10.3 9.45l-7.72 7.72c-.78.78-.78 2.05 0 2.83L4 21.41c.39.39.9.59 1.41.59.51 0 1.02-.2 1.41-.59l7.78-7.78 2.81-2.81c.8-.78.8-2.07 0-2.86zM5.41 20L4 18.59l7.72-7.72 1.47 1.35L5.41 20z\"/>\n",
              "  </svg>\n",
              "      </button>\n",
              "      \n",
              "  <style>\n",
              "    .colab-df-container {\n",
              "      display:flex;\n",
              "      flex-wrap:wrap;\n",
              "      gap: 12px;\n",
              "    }\n",
              "\n",
              "    .colab-df-convert {\n",
              "      background-color: #E8F0FE;\n",
              "      border: none;\n",
              "      border-radius: 50%;\n",
              "      cursor: pointer;\n",
              "      display: none;\n",
              "      fill: #1967D2;\n",
              "      height: 32px;\n",
              "      padding: 0 0 0 0;\n",
              "      width: 32px;\n",
              "    }\n",
              "\n",
              "    .colab-df-convert:hover {\n",
              "      background-color: #E2EBFA;\n",
              "      box-shadow: 0px 1px 2px rgba(60, 64, 67, 0.3), 0px 1px 3px 1px rgba(60, 64, 67, 0.15);\n",
              "      fill: #174EA6;\n",
              "    }\n",
              "\n",
              "    [theme=dark] .colab-df-convert {\n",
              "      background-color: #3B4455;\n",
              "      fill: #D2E3FC;\n",
              "    }\n",
              "\n",
              "    [theme=dark] .colab-df-convert:hover {\n",
              "      background-color: #434B5C;\n",
              "      box-shadow: 0px 1px 3px 1px rgba(0, 0, 0, 0.15);\n",
              "      filter: drop-shadow(0px 1px 2px rgba(0, 0, 0, 0.3));\n",
              "      fill: #FFFFFF;\n",
              "    }\n",
              "  </style>\n",
              "\n",
              "      <script>\n",
              "        const buttonEl =\n",
              "          document.querySelector('#df-92e1939c-b04d-4fd1-8722-cefa5ba38dfc button.colab-df-convert');\n",
              "        buttonEl.style.display =\n",
              "          google.colab.kernel.accessAllowed ? 'block' : 'none';\n",
              "\n",
              "        async function convertToInteractive(key) {\n",
              "          const element = document.querySelector('#df-92e1939c-b04d-4fd1-8722-cefa5ba38dfc');\n",
              "          const dataTable =\n",
              "            await google.colab.kernel.invokeFunction('convertToInteractive',\n",
              "                                                     [key], {});\n",
              "          if (!dataTable) return;\n",
              "\n",
              "          const docLinkHtml = 'Like what you see? Visit the ' +\n",
              "            '<a target=\"_blank\" href=https://colab.research.google.com/notebooks/data_table.ipynb>data table notebook</a>'\n",
              "            + ' to learn more about interactive tables.';\n",
              "          element.innerHTML = '';\n",
              "          dataTable['output_type'] = 'display_data';\n",
              "          await google.colab.output.renderOutput(dataTable, element);\n",
              "          const docLink = document.createElement('div');\n",
              "          docLink.innerHTML = docLinkHtml;\n",
              "          element.appendChild(docLink);\n",
              "        }\n",
              "      </script>\n",
              "    </div>\n",
              "  </div>\n",
              "  "
            ],
            "text/plain": [
              "  time (hour)  u10 (m/s)  ...  Unnamed: 14  Unnamed: 15\n",
              "0    00:00:00    4.25636  ...          NaN     midnight\n",
              "1    00:10:00    4.54607  ...          NaN          NaN\n",
              "2    00:20:00    4.48597  ...          NaN          NaN\n",
              "3    00:30:00    4.29970  ...          NaN          NaN\n",
              "4    00:40:00    4.32460  ...          NaN          NaN\n",
              "5    00:50:00    4.39143  ...          NaN          NaN\n",
              "6    01:00:00    4.37746  ...          NaN          NaN\n",
              "7    01:10:00    4.42356  ...          NaN          NaN\n",
              "8       01:20    4.35256  ...          NaN          NaN\n",
              "9    01:30:00    4.20641  ...          NaN          NaN\n",
              "\n",
              "[10 rows x 16 columns]"
            ]
          },
          "metadata": {},
          "execution_count": 149
        }
      ]
    },
    {
      "cell_type": "code",
      "source": [
        "df.columns"
      ],
      "metadata": {
        "colab": {
          "base_uri": "https://localhost:8080/"
        },
        "id": "GEVJFNigubUr",
        "outputId": "338b107d-21a6-422d-da71-a1ffc8ce97ec"
      },
      "execution_count": null,
      "outputs": [
        {
          "output_type": "execute_result",
          "data": {
            "text/plain": [
              "Index(['time (hour)', 'u10 (m/s)', 'u40 (m/s)', 'u60 (m/s)', 'u80 (m/s)',\n",
              "       'u100 (m/s)', 'u116 (Um/s)', 'u160 (m/s)', 'dir10', 'dir60', 'dir100',\n",
              "       'Unnamed: 11', 'Unnamed: 12', 'time decimal hours', 'Unnamed: 14',\n",
              "       'Unnamed: 15'],\n",
              "      dtype='object')"
            ]
          },
          "metadata": {},
          "execution_count": 150
        }
      ]
    },
    {
      "cell_type": "code",
      "source": [
        "df = df.drop(columns=['Unnamed: 11','Unnamed: 12', 'Unnamed: 14'])"
      ],
      "metadata": {
        "id": "ZcbOG2-dvLmG"
      },
      "execution_count": null,
      "outputs": []
    },
    {
      "cell_type": "code",
      "source": [
        "df.columns"
      ],
      "metadata": {
        "colab": {
          "base_uri": "https://localhost:8080/"
        },
        "id": "sfdHAV_twYB2",
        "outputId": "29993757-68fd-4073-ce8d-0da73d50d586"
      },
      "execution_count": null,
      "outputs": [
        {
          "output_type": "execute_result",
          "data": {
            "text/plain": [
              "Index(['time (hour)', 'u10 (m/s)', 'u40 (m/s)', 'u60 (m/s)', 'u80 (m/s)',\n",
              "       'u100 (m/s)', 'u116 (Um/s)', 'u160 (m/s)', 'dir10', 'dir60', 'dir100',\n",
              "       'time decimal hours', 'Unnamed: 15'],\n",
              "      dtype='object')"
            ]
          },
          "metadata": {},
          "execution_count": 152
        }
      ]
    },
    {
      "cell_type": "code",
      "source": [
        "df=df.rename(columns={'u116 (Um/s)':'u116 (m/s)'})\n",
        "df.columns"
      ],
      "metadata": {
        "colab": {
          "base_uri": "https://localhost:8080/"
        },
        "id": "imhDraLqxKPo",
        "outputId": "37d05b81-9710-461e-f5b4-0184dad1053c"
      },
      "execution_count": null,
      "outputs": [
        {
          "output_type": "execute_result",
          "data": {
            "text/plain": [
              "Index(['time (hour)', 'u10 (m/s)', 'u40 (m/s)', 'u60 (m/s)', 'u80 (m/s)',\n",
              "       'u100 (m/s)', 'u116 (m/s)', 'u160 (m/s)', 'dir10', 'dir60', 'dir100',\n",
              "       'time decimal hours', 'Unnamed: 15'],\n",
              "      dtype='object')"
            ]
          },
          "metadata": {},
          "execution_count": 153
        }
      ]
    },
    {
      "cell_type": "code",
      "source": [
        "df.plot('time (hour)', ['u10 (m/s)','u40 (m/s)','u80 (m/s)', 'u100 (m/s)', 'u116 (m/s)', 'u160 (m/s)'], figsize=(15,9))"
      ],
      "metadata": {
        "colab": {
          "base_uri": "https://localhost:8080/",
          "height": 524
        },
        "id": "LeKXpqeQx9oG",
        "outputId": "53f09948-24af-411b-9664-d630f6f9ed14"
      },
      "execution_count": null,
      "outputs": [
        {
          "output_type": "execute_result",
          "data": {
            "text/plain": [
              "<matplotlib.axes._subplots.AxesSubplot at 0x7f42f5c5ed90>"
            ]
          },
          "metadata": {},
          "execution_count": 154
        },
        {
          "output_type": "display_data",
          "data": {
            "image/png": "[encoded data removed]",
            "text/plain": [
              "<Figure size 1080x648 with 1 Axes>"
            ]
          },
          "metadata": {
            "needs_background": "light"
          }
        }
      ]
    },
    {
      "cell_type": "code",
      "source": [
        "df.median()"
      ],
      "metadata": {
        "colab": {
          "base_uri": "https://localhost:8080/"
        },
        "id": "fuzUyQYWfKKD",
        "outputId": "6c58a446-3f79-48d5-91eb-b59f97bb6eff"
      },
      "execution_count": null,
      "outputs": [
        {
          "output_type": "execute_result",
          "data": {
            "text/plain": [
              "u10 (m/s)               6.51214\n",
              "u40 (m/s)               7.95529\n",
              "u60 (m/s)               8.91432\n",
              "u80 (m/s)               9.97902\n",
              "u100 (m/s)             11.10360\n",
              "u116 (m/s)             12.06610\n",
              "u160 (m/s)             13.53930\n",
              "dir10                 123.54300\n",
              "dir60                 130.22600\n",
              "dir100                134.34600\n",
              "time decimal hours      9.00000\n",
              "dtype: float64"
            ]
          },
          "metadata": {},
          "execution_count": 155
        }
      ]
    },
    {
      "cell_type": "code",
      "source": [
        "df.mean()"
      ],
      "metadata": {
        "colab": {
          "base_uri": "https://localhost:8080/"
        },
        "id": "W9MLBLkBftGb",
        "outputId": "a2e626ea-e97d-4fbd-e657-c604b890dc4f"
      },
      "execution_count": null,
      "outputs": [
        {
          "output_type": "execute_result",
          "data": {
            "text/plain": [
              "u10 (m/s)               6.962781\n",
              "u40 (m/s)               9.270997\n",
              "u60 (m/s)              10.161209\n",
              "u80 (m/s)              10.961884\n",
              "u100 (m/s)             11.673099\n",
              "u116 (m/s)             12.314675\n",
              "u160 (m/s)             13.271278\n",
              "dir10                 122.491655\n",
              "dir60                 130.241761\n",
              "dir100                134.265936\n",
              "time decimal hours      9.000000\n",
              "dtype: float64"
            ]
          },
          "metadata": {},
          "execution_count": 156
        }
      ]
    },
    {
      "cell_type": "markdown",
      "source": [
        "Calculo de perfil de viento"
      ],
      "metadata": {
        "id": "BQrC9SXyBvlz"
      }
    },
    {
      "cell_type": "markdown",
      "source": [
        "![perfil_logaritmico_viento.JPG](data:image/jpeg;base64,/9j/4AAQSkZJRgABAQEAeAB4AAD/4RCCRXhpZgAATU0AKgAAAAgABAE7AAIAAAAFAAAISodpAAQAAAABAAAIUJydAAEAAAAKAAAQcOocAAcAAAgMAAAAPgAAAAAc6gAAAAgAAAAAAAAAAAAAAAAAAAAAAAAAAAAAAAAAAAAAAAAAAAAAAAAAAAAAAAAAAAAAAAAAAAAAAAAAAAAAAAAAAAAAAAAAAAAAAAAAAAAAAAAAAAAAAAAAAAAAAAAAAAAAAAAAAAAAAAAAAAAAAAAAAAAAAAAAAAAAAAAAAAAAAAAAAAAAAAAAAAAAAAAAAAAAAAAAAAAAAAAAAAAAAAAAAAAAAAAAAAAAAAAAAAAAAAAAAAAAAAAAAAAAAAAAAAAAAAAAAAAAAAAAAAAAAAAAAAAAAAAAAAAAAAAAAAAAAAAAAAAAAAAAAAAAAAAAAAAAAAAAAAAAAAAAAAAAAAAAAAAAAAAAAAAAAAAAAAAAAAAAAAAAAAAAAAAAAAAAAAAAAAAAAAAAAAAAAAAAAAAAAAAAAAAAAAAAAAAAAAAAAAAAAAAAAAAAAAAAAAAAAAAAAAAAAAAAAAAAAAAAAAAAAAAAAAAAAAAAAAAAAAAAAAAAAAAAAAAAAAAAAAAAAAAAAAAAAAAAAAAAAAAAAAAAAAAAAAAAAAAAAAAAAAAAAAAAAAAAAAAAAAAAAAAAAAAAAAAAAAAAAAAAAAAAAAAAAAAAAAAAAAAAAAAAAAAAAAAAAAAAAAAAAAAAAAAAAAAAAAAAAAAAAAAAAAAAAAAAAAAAAAAAAAAAAAAAAAAAAAAAAAAAAAAAAAAAAAAAAAAAAAAAAAAAAAAAAAAAAAAAAAAAAAAAAAAAAAAAAAAAAAAAAAAAAAAAAAAAAAAAAAAAAAAAAAAAAAAAAAAAAAAAAAAAAAAAAAAAAAAAAAAAAAAAAAAAAAAAAAAAAAAAAAAAAAAAAAAAAAAAAAAAAAAAAAAAAAAAAAAAAAAAAAAAAAAAAAAAAAAAAAAAAAAAAAAAAAAAAAAAAAAAAAAAAAAAAAAAAAAAAAAAAAAAAAAAAAAAAAAAAAAAAAAAAAAAAAAAAAAAAAAAAAAAAAAAAAAAAAAAAAAAAAAAAAAAAAAAAAAAAAAAAAAAAAAAAAAAAAAAAAAAAAAAAAAAAAAAAAAAAAAAAAAAAAAAAAAAAAAAAAAAAAAAAAAAAAAAAAAAAAAAAAAAAAAAAAAAAAAAAAAAAAAAAAAAAAAAAAAAAAAAAAAAAAAAAAAAAAAAAAAAAAAAAAAAAAAAAAAAAAAAAAAAAAAAAAAAAAAAAAAAAAAAAAAAAAAAAAAAAAAAAAAAAAAAAAAAAAAAAAAAAAAAAAAAAAAAAAAAAAAAAAAAAAAAAAAAAAAAAAAAAAAAAAAAAAAAAAAAAAAAAAAAAAAAAAAAAAAAAAAAAAAAAAAAAAAAAAAAAAAAAAAAAAAAAAAAAAAAAAAAAAAAAAAAAAAAAAAAAAAAAAAAAAAAAAAAAAAAAAAAAAAAAAAAAAAAAAAAAAAAAAAAAAAAAAAAAAAAAAAAAAAAAAAAAAAAAAAAAAAAAAAAAAAAAAAAAAAAAAAAAAAAAAAAAAAAAAAAAAAAAAAAAAAAAAAAAAAAAAAAAAAAAAAAAAAAAAAAAAAAAAAAAAAAAAAAAAAAAAAAAAAAAAAAAAAAAAAAAAAAAAAAAAAAAAAAAAAAAAAAAAAAAAAAAAAAAAAAAAAAAAAAAAAAAAAAAAAAAAAAAAAAAAAAAAAAAAAAAAAAAAAAAAAAAAAAAAAAAAAAAAAAAAAAAAAAAAAAAAAAAAAAAAAAAAAAAAAAAAAAAAAAAAAAAAAAAAAAAAAAAAAAAAAAAAAAAAAAAAAAAAAAAAAAAAAAAAAAAAAAAAAAAAAAAAAAAAAAAAAAAAAAAAAAAAAAAAAAAAAAAAAAAAAAAAAAAAAAAAAAAAAAAAAAAAAAAAAAAAAAAAAAAAAAAAAAAAAAAAAAAAAAAAAAAAAAAAAAAAAAAAAAAAAAAAAAAAAAAAAAAAAAAAAAAAAAAAAAAAAAAAAAAAAAAAAAAAAAAAAAAAAAAAAAAAAAAAAAAAAAAAAAAAAAAAAAAAAAAAAAAAAAAAAAAAAAAAAAAAAAAAAAAAAAAAAAAAAAAAAAAAAAAAAAAAAAAAAAAAAAAAAAAAAAAAAAAAAAAAAAAAAAAAAAAAAAAAAAAAAAAAAAAAAAAAAAAAAAAAAAAAAAAAAAAAAAAAAAAAAAAAAAAAAAAAAAAAAAAAAAAAAAAAAAAAAAAAAAAAAAAAAAAAAAAAAAAAAAAAAAAAAAAAAAAAAAAAAAAAAAAAAAAAAAAAAAAAAAAAAAAAAAAAAAAAAAAAAAAAAAAAAAAAAAAAAAAAAAAAAAAAAAAAAAAAAAAAAAAAAAAAAAAAAAAAAAAAAAAAAAAAAAAAAAAAAAAAAAAAAAAAAAAAAAAAAAAAAAAAAAAAAAAAAAAAAAAAAAAAAAAAAAAAAAAAAAAAAAAAAAAAAAAAAAAAAAAAAAAAAAAAAAAAAAAAAAAAAAAAAAAAAAAAAAAAAAAAAAAAAAAAAAAAAAAAAAAAAAAAAAAAAAAAAAAAAAAAAAAAAAAAAAAAAAAAAAAAAAAAAAAAAAAAAAAAAAAAAAAAAAAAAAAAAAAAAAAAAAAAAAAAAAAAAAAAAAAAAAAAAAAAAAAAAAAAAAAAAAAAAAAAAAAAAAAAAAAAAAAAAAAAAAAAAAAAAAAAAAAAAAAAAAAAAAAAAAAAAAAAAAAAAAAAAAAAAAAAAAAAAAAAAAAAAAAAAAAAAAAAAAAAAAAAAAAAAAAAAAAAAAAAAAAAAAAAAAAAAAAAAAAAAAAAAAAAAAAEFzdXMAAAAB6hwABwAACAwAAAhiAAAAABzqAAAACAAAAAAAAAAAAAAAAAAAAAAAAAAAAAAAAAAAAAAAAAAAAAAAAAAAAAAAAAAAAAAAAAAAAAAAAAAAAAAAAAAAAAAAAAAAAAAAAAAAAAAAAAAAAAAAAAAAAAAAAAAAAAAAAAAAAAAAAAAAAAAAAAAAAAAAAAAAAAAAAAAAAAAAAAAAAAAAAAAAAAAAAAAAAAAAAAAAAAAAAAAAAAAAAAAAAAAAAAAAAAAAAAAAAAAAAAAAAAAAAAAAAAAAAAAAAAAAAAAAAAAAAAAAAAAAAAAAAAAAAAAAAAAAAAAAAAAAAAAAAAAAAAAAAAAAAAAAAAAAAAAAAAAAAAAAAAAAAAAAAAAAAAAAAAAAAAAAAAAAAAAAAAAAAAAAAAAAAAAAAAAAAAAAAAAAAAAAAAAAAAAAAAAAAAAAAAAAAAAAAAAAAAAAAAAAAAAAAAAAAAAAAAAAAAAAAAAAAAAAAAAAAAAAAAAAAAAAAAAAAAAAAAAAAAAAAAAAAAAAAAAAAAAAAAAAAAAAAAAAAAAAAAAAAAAAAAAAAAAAAAAAAAAAAAAAAAAAAAAAAAAAAAAAAAAAAAAAAAAAAAAAAAAAAAAAAAAAAAAAAAAAAAAAAAAAAAAAAAAAAAAAAAAAAAAAAAAAAAAAAAAAAAAAAAAAAAAAAAAAAAAAAAAAAAAAAAAAAAAAAAAAAAAAAAAAAAAAAAAAAAAAAAAAAAAAAAAAAAAAAAAAAAAAAAAAAAAAAAAAAAAAAAAAAAAAAAAAAAAAAAAAAAAAAAAAAAAAAAAAAAAAAAAAAAAAAAAAAAAAAAAAAAAAAAAAAAAAAAAAAAAAAAAAAAAAAAAAAAAAAAAAAAAAAAAAAAAAAAAAAAAAAAAAAAAAAAAAAAAAAAAAAAAAAAAAAAAAAAAAAAAAAAAAAAAAAAAAAAAAAAAAAAAAAAAAAAAAAAAAAAAAAAAAAAAAAAAAAAAAAAAAAAAAAAAAAAAAAAAAAAAAAAAAAAAAAAAAAAAAAAAAAAAAAAAAAAAAAAAAAAAAAAAAAAAAAAAAAAAAAAAAAAAAAAAAAAAAAAAAAAAAAAAAAAAAAAAAAAAAAAAAAAAAAAAAAAAAAAAAAAAAAAAAAAAAAAAAAAAAAAAAAAAAAAAAAAAAAAAAAAAAAAAAAAAAAAAAAAAAAAAAAAAAAAAAAAAAAAAAAAAAAAAAAAAAAAAAAAAAAAAAAAAAAAAAAAAAAAAAAAAAAAAAAAAAAAAAAAAAAAAAAAAAAAAAAAAAAAAAAAAAAAAAAAAAAAAAAAAAAAAAAAAAAAAAAAAAAAAAAAAAAAAAAAAAAAAAAAAAAAAAAAAAAAAAAAAAAAAAAAAAAAAAAAAAAAAAAAAAAAAAAAAAAAAAAAAAAAAAAAAAAAAAAAAAAAAAAAAAAAAAAAAAAAAAAAAAAAAAAAAAAAAAAAAAAAAAAAAAAAAAAAAAAAAAAAAAAAAAAAAAAAAAAAAAAAAAAAAAAAAAAAAAAAAAAAAAAAAAAAAAAAAAAAAAAAAAAAAAAAAAAAAAAAAAAAAAAAAAAAAAAAAAAAAAAAAAAAAAAAAAAAAAAAAAAAAAAAAAAAAAAAAAAAAAAAAAAAAAAAAAAAAAAAAAAAAAAAAAAAAAAAAAAAAAAAAAAAAAAAAAAAAAAAAAAAAAAAAAAAAAAAAAAAAAAAAAAAAAAAAAAAAAAAAAAAAAAAAAAAAAAAAAAAAAAAAAAAAAAAAAAAAAAAAAAAAAAAAAAAAAAAAAAAAAAAAAAAAAAAAAAAAAAAAAAAAAAAAAAAAAAAAAAAAAAAAAAAAAAAAAAAAAAAAAAAAAAAAAAAAAAAAAAAAAAAAAAAAAAAAAAAAAAAAAAAAAAAAAAAAAAAAAAAAAAAAAAAAAAAAAAAAAAAAAAAAAAAAAAAAAAAAAAAAAAAAAAAAAAAAAAAAAAAAAAAAAAAAAAAAAAAAAAAAAAAAAAAAAAAAAAAAAAAAAAAAAAAAAAAAAAAAAAAAAAAAAAAAAAAAAAAAAAAAAAAAAAAAAAAAAAAAAAAAAAAAAAAAAAAAAAAAAAAAAAAAAAAAAAAAAAAAAAAAAAAAAAAAAAAAAAAAAAAAAAAAAAAAAAAAAAAAAAAAAAAAAAAAAAAAAAAAAAAAAAAAAAAAAAAAAAAAAAAAAAAAAAAAAAAAAAAAAAAAAAAAAAAAAAAAAAAAAAAAAAAAAAAAAAAAAAAAAAAAAAAAAAAAAAAAAAAAAAAAAAAAAAAAAAAAAAAAAAAAAAAAAAAAAAAAAAAAAAAAAAAAAAAAAAAAAAAAAAAAAAAAAAAAAAAAAAAAAAAAAAAAAAAAAAAAAAAAAAAAAAAAAAAAAAAAAAAAAAAAAAAAAAAAAAAAAAAAAAAAAAAAAAAAAAAAAAAAAAAAAAAAAAAAAAAAAAAAAAAAAAAAAAAAAAAAAAAAAAAAAAAAAAAAAAAAAAAAAAAAAAAAAAAAAAAAAAAAAAAAAAAAAAAAAAAAAAAAAAAAAAAAAAAAAAAAAAAAAAAAAAAAAAAAAAAAAAAAAAAAAAAAAAAAAAAAAAAAAAAAAAAAAAAAAAAAAAAAAAAAAAAAAAAAAAAAAAAAAAAAAAAAAAAAAAAAAAAAAAAAAAAAAAAAAAAAAAAAAAAAAAAAAAAAAAAAAAAAAAAAAAAAAAAAAAAAAAAAAAAAAAAAAAAAAAAAAAAAAAAAAAAAAAAAAAAAAAAAAAAAAAAAAAAAAAAAAAAAAAAAAAAAAAAAAAABBAHMAdQBzAAAA/+EKXWh0dHA6Ly9ucy5hZG9iZS5jb20veGFwLzEuMC8APD94cGFja2V0IGJlZ2luPSfvu78nIGlkPSdXNU0wTXBDZWhpSHpyZVN6TlRjemtjOWQnPz4NCjx4OnhtcG1ldGEgeG1sbnM6eD0iYWRvYmU6bnM6bWV0YS8iPjxyZGY6UkRGIHhtbG5zOnJkZj0iaHR0cDovL3d3dy53My5vcmcvMTk5OS8wMi8yMi1yZGYtc3ludGF4LW5zIyI+PHJkZjpEZXNjcmlwdGlvbiByZGY6YWJvdXQ9InV1aWQ6ZmFmNWJkZDUtYmEzZC0xMWRhLWFkMzEtZDMzZDc1MTgyZjFiIiB4bWxuczpkYz0iaHR0cDovL3B1cmwub3JnL2RjL2VsZW1lbnRzLzEuMS8iLz48cmRmOkRlc2NyaXB0aW9uIHJkZjphYm91dD0idXVpZDpmYWY1YmRkNS1iYTNkLTExZGEtYWQzMS1kMzNkNzUxODJmMWIiIHhtbG5zOmRjPSJodHRwOi8vcHVybC5vcmcvZGMvZWxlbWVudHMvMS4xLyI+PGRjOmNyZWF0b3I+PHJkZjpTZXEgeG1sbnM6cmRmPSJodHRwOi8vd3d3LnczLm9yZy8xOTk5LzAyLzIyLXJkZi1zeW50YXgtbnMjIj48cmRmOmxpPkFzdXM8L3JkZjpsaT48L3JkZjpTZXE+DQoJCQk8L2RjOmNyZWF0b3I+PC9yZGY6RGVzY3JpcHRpb24+PC9yZGY6UkRGPjwveDp4bXBtZXRhPg0KICAgICAgICAgICAgICAgICAgICAgICAgICAgICAgICAgICAgICAgICAgICAgICAgICAgICAgICAgICAgICAgICAgICAgICAgICAgICAgICAgICAgICAgICAgICAgICAgICAgIAogICAgICAgICAgICAgICAgICAgICAgICAgICAgICAgICAgICAgICAgICAgICAgICAgICAgICAgICAgICAgICAgICAgICAgICAgICAgICAgICAgICAgICAgICAgICAgICAgICAgCiAgICAgICAgICAgICAgICAgICAgICAgICAgICAgICAgICAgICAgICAgICAgICAgICAgICAgICAgICAgICAgICAgICAgICAgICAgICAgICAgICAgICAgICAgICAgICAgICAgICAKICAgICAgICAgICAgICAgICAgICAgICAgICAgICAgICAgICAgICAgICAgICAgICAgICAgICAgICAgICAgICAgICAgICAgICAgICAgICAgICAgICAgICAgICAgICAgICAgICAgIAogICAgICAgICAgICAgICAgICAgICAgICAgICAgICAgICAgICAgICAgICAgICAgICAgICAgICAgICAgICAgICAgICAgICAgICAgICAgICAgICAgICAgICAgICAgICAgICAgICAgCiAgICAgICAgICAgICAgICAgICAgICAgICAgICAgICAgICAgICAgICAgICAgICAgICAgICAgICAgICAgICAgICAgICAgICAgICAgICAgICAgICAgICAgICAgICAgICAgICAgICAKICAgICAgICAgICAgICAgICAgICAgICAgICAgICAgICAgICAgICAgICAgICAgICAgICAgICAgICAgICAgICAgICAgICAgICAgICAgICAgICAgICAgICAgICAgICAgICAgICAgIAogICAgICAgICAgICAgICAgICAgICAgICAgICAgICAgICAgICAgICAgICAgICAgICAgICAgICAgICAgICAgICAgICAgICAgICAgICAgICAgICAgICAgICAgICAgICAgICAgICAgCiAgICAgICAgICAgICAgICAgICAgICAgICAgICAgICAgICAgICAgICAgICAgICAgICAgICAgICAgICAgICAgICAgICAgICAgICAgICAgICAgICAgICAgICAgICAgICAgICAgICAKICAgICAgICAgICAgICAgICAgICAgICAgICAgICAgICAgICAgICAgICAgICAgICAgICAgICAgICAgICAgICAgICAgICAgICAgICAgICAgICAgICAgICAgICAgICAgICAgICAgIAogICAgICAgICAgICAgICAgICAgICAgICAgICAgICAgICAgICAgICAgICAgICAgICAgICAgICAgICAgICAgICAgICAgICAgICAgICAgICAgICAgICAgICAgICAgICAgICAgICAgCiAgICAgICAgICAgICAgICAgICAgICAgICAgICAgICAgICAgICAgICAgICAgICAgICAgICAgICAgICAgICAgICAgICAgICAgICAgICAgICAgICAgICAgICAgICAgICAgICAgICAKICAgICAgICAgICAgICAgICAgICAgICAgICAgICAgICAgICAgICAgICAgICAgICAgICAgICAgICAgICAgICAgICAgICAgICAgICAgICAgICAgICAgICAgICAgICAgICAgICAgIAogICAgICAgICAgICAgICAgICAgICAgICAgICAgICAgICAgICAgICAgICAgICAgICAgICAgICAgICAgICAgICAgICAgICAgICAgICAgICAgICAgICAgICAgICAgICAgICAgICAgCiAgICAgICAgICAgICAgICAgICAgICAgICAgICAgICAgICAgICAgICAgICAgICAgICAgICAgICAgICAgICAgICAgICAgICAgICAgICAgICAgICAgICAgICAgICAgICAgICAgICAKICAgICAgICAgICAgICAgICAgICAgICAgICAgICAgICAgICAgICAgICAgICAgICAgICAgICAgICAgICAgICAgICAgICAgICAgICAgICAgICAgICAgICAgICAgICAgICAgICAgIAogICAgICAgICAgICAgICAgICAgICAgICAgICAgICAgICAgICAgICAgICAgICAgICAgICAgICAgICAgICAgICAgICAgICAgICAgICAgICAgICAgICAgICAgICAgICAgICAgICAgCiAgICAgICAgICAgICAgICAgICAgICAgICAgICAgICAgICAgICAgICAgICAgICAgICAgICAgICAgICAgICAgICAgICAgICAgICAgICAgICAgICAgICAgICAgICAgICAgICAgICAKICAgICAgICAgICAgICAgICAgICAgICAgICAgICAgICAgICAgICAgICAgICAgICAgICAgICAgICAgICAgICAgICAgICAgICAgICAgICAgICAgICAgICAgICAgICAgICAgICAgIAogICAgICAgICAgICAgICAgICAgICAgICAgICAgICAgICAgICAgICAgICAgICAgICAgICAgICAgICAgICAgICAgICAgICAgICAgICAgICAgICAgICAgICAgICAgICAgICAgICAgCiAgICAgICAgICAgICAgICAgICAgICAgICAgICA8P3hwYWNrZXQgZW5kPSd3Jz8+/9sAQwAHBQUGBQQHBgUGCAcHCAoRCwoJCQoVDxAMERgVGhkYFRgXGx4nIRsdJR0XGCIuIiUoKSssKxogLzMvKjInKisq/9sAQwEHCAgKCQoUCwsUKhwYHCoqKioqKioqKioqKioqKioqKioqKioqKioqKioqKioqKioqKioqKioqKioqKioqKioq/8AAEQgAhQJvAwEiAAIRAQMRAf/EAB8AAAEFAQEBAQEBAAAAAAAAAAABAgMEBQYHCAkKC//EALUQAAIBAwMCBAMFBQQEAAABfQECAwAEEQUSITFBBhNRYQcicRQygZGhCCNCscEVUtHwJDNicoIJChYXGBkaJSYnKCkqNDU2Nzg5OkNERUZHSElKU1RVVldYWVpjZGVmZ2hpanN0dXZ3eHl6g4SFhoeIiYqSk5SVlpeYmZqio6Slpqeoqaqys7S1tre4ubrCw8TFxsfIycrS09TV1tfY2drh4uPk5ebn6Onq8fLz9PX29/j5+v/EAB8BAAMBAQEBAQEBAQEAAAAAAAABAgMEBQYHCAkKC//EALURAAIBAgQEAwQHBQQEAAECdwABAgMRBAUhMQYSQVEHYXETIjKBCBRCkaGxwQkjM1LwFWJy0QoWJDThJfEXGBkaJicoKSo1Njc4OTpDREVGR0hJSlNUVVZXWFlaY2RlZmdoaWpzdHV2d3h5eoKDhIWGh4iJipKTlJWWl5iZmqKjpKWmp6ipqrKztLW2t7i5usLDxMXGx8jJytLT1NXW19jZ2uLj5OXm5+jp6vLz9PX29/j5+v/aAAwDAQACEQMRAD8A+kaKK5Hxt8Q9P8GII3tbjUbwqsjW9sv+piLhPMkY8KuTgdyeAOuDrYOlzrqKKp6xqK6Rod9qTxmVbO3knKA4LBFLYz+FJtJXY0m3ZFyiuI0Dxr4m11NPul8C3Fvp18scgu21O3bZG4B3lAdx4OcYzXZvPDHKkTyosj/cQsAW+g71TTW5KaexJRSFgCASAT0psUsc0YeGRZEPRkbIpDH0UxpokkWN5EV3+6pYAt9BVK81ywsNZsNLuZdt1frI0K+ojALE+nUfnQBoUUySeKJC8sqIi9WZgAKR54o9nmSovmHCbmA3H29aAJKKR3WNC7sFVRkknAFJHKk0YkidZEYZDKcg/jQA6io0uIZJniSWNpE+8gYEr9R2oe4hjKh5UUudqgsBuPoPWgCSisLW/EL6T4j8PaYlusi6xcywvIWwYgkLSZA7524/GtqOWOZd0MiyLnGVbIzQA+imGeITCEyIJSNwTcNxHrileWONWaR1RVGWLHGB6mgB1FZ8N/dy67La/YALBbZJYr8XCkSOSQU2D5hgAHd0OfargnhM5hEqGUDJj3DcB64oAkopCQOpA7c01J4pXdIpUdkOHVWBKn39KAH0Ux54o5ESSREeQ4RWYAt9B3p24BgCRk9BmgBaKa0iIGLuqhRubJ6D1qjouuWOv6Lbapp0u+1uYxJGzcHaehI7UAaFFMWaNpWjWRTIgBZAwyuemRRHNFKWEUiOUOG2sDtPoaAH0VheEvEMniTTby5lt1gNvqFzZhVbduEUhQN+OM4ralnit4988iRJnG52AH60dEw62H0U15Y44jJI6pGBkuxwAPrQsiPGJEdWQjIYHII+tADqKj8+HzhF5qeYRuCbhuI9cUss0UCb5pEjXOMuwAzQA+iuWh8WX11ceKoLDSlu7jQ5Uit4FuBGbotCsmCzcJy2M+1a0mv2UGsWOk3T+VfXlu9wkWQQqoVDZP1cAevNG/8AXzA06KoWl7ez6vf21xp32e1t/L+z3Xnq/wBp3LlvkHKbTxz16irazwvM8SSo0ifeQMCV+o7UASUUySaKFGeWRI1X7zMwAH1pwYMoZSCpGQQeDQAtFRw3ENwpaCVJQDglGBwfwqpeXt7Bqun29tp32i2uGcXNz56p9mAXKnaeXyeOOnWgC/RWdpmu2Gr3F/DYzb3sLk2s3/XQKrED1xuA+ua0CQCMkDPT3oAWimJPFJGzxyoyKSGZWBAx15pYpY5oxJC6yI3RkOQfxoAdRTFmieVo1kRpF+8gYZH1FEk0UTIJZEQucKGYDcfQetAD6KwfCfiJ/EemXt3NAlv9m1C5tMBsgiKQpuz74zW3DPFcRiSCVJUPRkYEfmKOlw62H0UUUAFFFFABRRRQAUUUUAFFFFABRRRQAUUUUAFFFFABRRRQAUUUUAFFFFABRRRQAUUUUAFcV8Xv+SWat9YP/R6V2tUtY0ex17SpdN1aD7RaTbfMj3sudrBhypB6gd6ALhIXqQO3NYvjX/kQdf8A+wbcf+i2qxrvh7TPEtlDaazbm4hhuI7lFEjJiRDlTlSOh7dKuXtnBqNhcWV5H5lvcxNFKmSNysMEZHI4PaonFyg0VB8skzh/h1Z+LF8J+HJbjWdJk0z7BAfsyaZIs2zyxhfMMxGenO3n0FY3g/wp4d8W+CdR1vxZp9rd6teXV39svbhA01qUldAqOfmjCKq4CkYxmvULCxttL022sLGPyra1iWGGPcW2oowBk5J4Heuf1L4ceGNVv7m6u7KYG8YPdQw3s0MNy3TMkSOEc8c5Bz3zWlT3pNrrciC5YpPpY89t45fGGlfCpPEMss/22O4+1EsVNyggJwx6kMFGfUEjoa9g03TLDR7COy0myt7G0jzsgtohGi5OThRwMkk1DNoWmz3um3clqvnaXu+xlWKiHcmwgKCARt4wQcdq0KcndtrqCWiR4j4uXTfFHhHxR4k0rwTozW6xXONcv7oRXTSQgp5kQWJyMMnygumSO2a0tR0LSte+IvgGfW9JstQa80a4a5e6tUk85ljiK7twOcFiRnpk+tdjN8MvClxNdNNp8rQ3cjyzWf2yb7M7t95/I3+WG7528Hkc81e1bwZoms2unwXlvMv9mDFnLbXUsEsA27SFkRg3K8HnnvUR0Wvl+TT/AD/AqWr+/wDNW/I5GDwvouu/GXxIms6db39taabYCG1uYxJCpPnDd5Z+XcAuAcZAJx1NYnhjwF4bvvBXi1dQ0uC8a01DULSzkuVEj2cMbNsSFmyYwDkjbjk16tZaFp+n6ncajawMt3cwxQTStK7l0i3bAdxPI3Nz1Oec0lnoGm2Fne2lpbeXBfzSz3C+Yx3vKcuck5Gc9BgDtilJNppdn999/wAxp6p+a+5K35nmFjjxVN8NdL8TYvNNu9Ca+lguPmjvLlI4tocHh8BmbB789q1rTRbXSfidq3hzwxjSbDUdANxNBZrsjtrjzDGkqKOEYqT0xnYDXW3fgvQb3w/Y6LPYn7FpwQWflzyJJb7BtUpKGDggcZzk96NL8GaHo9lfW1naORqI23ks9xJNNONu3DSOxc8Egc8dsVc7Sbfr87339L/gvlEbpJenytb+vmzhfC+k2HgnXtD0vxF4M0m2v3JtrDxFpsaN9plEbZ8zIEiOyhic7gTnmovBHgzwt4j0TxLca/p1rqEx1rUIXmuVDvaqJWO2NjzH13fLjls13OmeAtB0rU4NQhivLi5tQRbNfajcXQt8jB2CV2CnHGQM4rlPC/wz0y/0/Vn8R6ddwz3WrXjSJHdzW63ULTMU8xY3AkBU8bgeOOlJ3k36P81/XQey+a/JnPWcB8V+G/hRDr0kl4lxc3AlaQnNxGkEu3d3IZVGc9QTnrXU2ukWHhf4xpbeGtPt9Ot73QJpprW0iEUUkkc0YRti4G7DsM+9dpJ4f0qSbS5TZoraQSbERkosGUMfCggEbSRgggVK+j2MmvRay8GdQht2tkm3txGzKzLtzjkqpzjPFOWsm15/irC6W8l+DueHaB4V1vxd8OYtTtPDuhNrt+WuV8RTao63kVwHJ3cW5K7SNvlh8YGK7G78O2niH41C38SQR30UHhy3kltJBugll8+QbmU8MBlsA8c5xkDHR3Hw28M3F9c3Qtbu3N3KZbiG11G4ghmc9WaJHCEnvxz3zW4ujWCa6+srBi/e2W0abe3MSsWC7c46sTnGaFa6f9bNaf10G9n/AF1T/Q881maXQ/Gvi6bRYlilsfCETWscagBCjT7QB7YHFbXgLwZ4XtvDmh6xZ6XZXGovax3J1V4le4lkkTLuZT8xJ3Hv3rqV0awTW59XW3H264t1tpZSzHdGpZlXbnHVm5xnmsfTPh94d0bUY7zS7a6tvJkaSK2S/n+zxs2clYN/ljqeAuBnilHRa/1q3+v4BLV6f1ol+n4mV8YIPtXgaG3MkkQl1awQvE5VlzcxjII5B9xVHWvDWieFfHngq68N6VaaXNcX01ncNaQrF58Rt5Gw+37/AMyKcnJyK7zVdHsdctEtdUg8+GOaOdV3suHjYOhypB4YA46etF9o9jqV5YXV7B5s2nTGe1bew8tyhQnAOD8rEYORzRHT77/Ky/yYS1+63z1/zR47p2g3/jOXxVc3/hTQ9Zu31S6sxe6hqTRXFmqHbGkai3fywq4YFWGc5ro7G21PTvHngC08RXCXGpxaLew3EyMWEsiiHJBIBOcZ6V0+p+APD+q6tNqc0F1b3lwqrcS2N/Pa+eFGBvETqGwOMnnFWNU8GaHrGn2Fne2smzTcfY5IbmSKWDC7fllRg444PPPfNEfdS+X5NfrcHq2/X87/AKHK3cFnqfxY8U2V1DDdxHw5bJLBKgdSfMmIBU8HsfyrlrPR9N039lGe+0/TrS0vbrQ1a4uIbdUkmYdC7AZY8nrmvU9E8GaD4dvZ7zSrJo7u5iEU9xJPJLJMoJI3s7EscsfmPOMDOABVW2+HXhq00m/0qGzuBpuoIY5rJr6cwqpJYhEL4jyST8mKErR5f63k/wBR395Sf9aJfoZeqab4X8B+CbmZtFW7bUFjtLgIq/aNRklbYBJISCxLOSSx4ya5zT9LbQfi54VSLwxonhk3ttepLFpF1va4RY1YCVRDGOGAIOW5r0/WND07X9Hl0rV7VbmymADRsSOhyCCCCCCAQQcgiszTfAnh/S9Tg1KC1nm1C33eXeXd5NcSqGUqV3yOTtwT8vQZyBnmmn71/wCtiLPlSMz4W/8AIv6t/wBh7UP/AEoesyLR9M8W/F7xJD4qsrfUo9JtbRNPtLyMSRRpIrM8gRsruLDG7GflAru9K0ex0W3lg0yDyI5p5LmRd7NmSRiztyT1JJx09Kztc8GaJ4hv4b/UIJ0voYzEl3Z3cttKEJyULxMpK55wcip/l8kl+Fi+svNv87nKaloWlah8VNI8Malp9s2g2GiPdWWmvGDbvN5oQkx/dbYhGAc43E1UjtLbQvEHjzQtDjS30ldDS7NnCMRW07rKGCKOE3KqkqPr3rtb7wRoOo6XY2NzazbNO/49Jo7uVJ4TjBKzBhJyOvzc981LpfhHRNH0m706xsysF9uN00kzySTlhtJeRmLsccZJ47UpJuLj6/O99/v/AAQ4tKSfp8rW2+78WeWah4R0TTf2f7HX7bT4BrltYWl7HqpQG6EuYznzfvY5xjOMcdK6V9J0/wAV/GXVbXxTZwajb6ZpVs1hZ3cYkiHms/mShGyC2VVc44Ars7jw1pN14XHh2e036UsCW4t/Mcfu1xtG4Hdxgc5zUGueDtF8Q3dvd6hBMl3bIY4rq0upbaVUPVd8bKxX2JxWk3ed1tdmcU1Cz3t+q/4J5TNp9npXgv4w2OmcWsDssaBsiIfZU+QegXoB2AA7Vuah4a0TVfjL4d/tTRbC9Sfw/M8v2m0SQSOjxBSdwOSAcAnoDXaW3gLwzZ6NqelW2lrHZasMXsSzSfv/AJQhJbdnJA5IIJOSSSSam1rwdouvtZSX8E6zWAZbae1u5beWJWADKHjZWwQBkZpLRp9rfk1+pT1VvX8Wn+h5/r+oX2kTfFi90gtHd29laNE6dY/9HOWHuBk/hTvFnhTw54U+H1jrvhaxtrTVbOa0ez1C3QCe6Z5EUh3HzSB1ZgQxOc5r0q20HTbS+v7uG2Hn6isa3bO7P5oRdqghiR90446981jaf8N/C+mX1tdWtjMTZv5lrBNezSwWzescTuUQ88YAx2xSjo7+n4Cesbev4nPR+GtJ8RfGvxKddsYdRhttOsTHbXSCSHc3nfOUbKlgBgEjIycdaztK8LSax4R8aeFNFmjs7e019ls4JATAsYWGYwMByImLMCB0DH6V6dBo9jba1d6tBBtvb2OOKeXex3rHu2DBOBje3Qc55qjceD9EubTULd7WVE1K6F5ctDdSxu0wCgOGVgynCL90gcfWktPu/VP+vuKerv6flY5vwQdL03xRdaPL4LsfC+u/ZBMx09IzBdwB9u5HRVPDdVZQRkdas+LgG+JXgUMMgz3oIPf/AEY1uaJ4R0jw/dz3dhFcSXdwgjkury7luZWQHIXfKzELk5wDirt3o9jfanYahdQeZdacztayb2Hll12twDg5HHOap6pE9/66Hn/wq8NaLZ6p4qvLfRbCC7tfEF1DBOlqiyQx7UwisBlVwTwOOau/FGwj1S+8HWM7yJDca4El8pyrMht5ty5HIBGQcdia6W38IaPaeJZ9dtIriC9uG3ziK7lWKZ9u3c0QbYzY4yVz+NXtQ0ex1S4sZ76DzZNPn+02zb2Xy5NpXdwRnhiMHI5pdI36W/C1/vH1lbrf8bnm/j7R4dP1Lwh4Z0HQtN/se9vJ5J9NaT7JbXMiRbkRyiNnJy20qdxQZqbStOu/AF34h8R6ppOmaH4bGnCSXS9JumnUzoTmRUMUaqWQhSB1IGa73XfD+l+JdNNhrdotzb71kUbmRkdejKykMrD1BBqjYeCND0+1vbcQ3N3HfxeTci/vZrrzI+fl/eu2ByemKWtn8/y/r8B6af11ueZXulLpGq+C9SsvBmi+GPtGtQRRz2l5uvJI5FbckirEAwK9f3jYPr1rodB8PaP4v8a+M7rxZptrql1aagtlbxXsQlFtbiFGXYGHy7i7Nkck10Vl8NvDFjNaypZ3E8llIklo13fzzm2KHKiPe52DgcDAOBnOKs6t4F0DWtWbUry3uI7ySMRTS2l7NbGdB0WTy3XeBn+LPpVafn+Nv8n95Ov5fr/n+B5z4Z8Jy+IfhXLp2lTwXKWXiS6nWHUGZ4L5I53/AHcxGSVPBzg8gEg11/gCbSYNS1XSrfwlbeFdYt1ikvLW1SPypUbcI5EeMAMOG6gEdxWqPAPhyPQ00i1sZLKyjuWu4ks7qWAxStnLKyMGUfMeAcc4xVzQvC+leHDcvpkMvnXbBri4ubiS4mlIGBukkZmIHYZwMmhaK3kvyS/Qb1+9/m3+pr0UUUgCiiigAooooAKKKKACiiigAooooAKKKKACiiigAooooAKKKKACiiigAooooAKKKKACiiigAooooAKKKKACiiigAooooAKKKKACiiigAooooAKKKKACiiigAooooAKKKKACiiigAooooAKKKKACiiigAooooAKKKKACiiigAooooAKKKKACiiigAooooAKKKKACiiigAooooAKKKKACiiigAooooAKKKKACiiigAooooAKKKKACiiigAooooAKKKKACiiigAooooAKKKKACiiigAooooAKKKKACiiigAooooAKKKKACiiigAooooAKKKKACiiigAooooAKKKKACiiigAooooAKKKKACiiigAooooAKKKKACiiigAooooAKKKKACiiigAooooAKKKKACiiigAooooAKKKKACiiigAooooAKKKKACiiigAooooAKKKKACiiigAoorFuPEcY8V2/h+wgN3dmPz7tg+1LSHkKzHB+Zjwq9TyeAKANqiiigAooooAKKxNB8SDVr7UNNvLVrDVNOk2z2rPuDRtny5kbA3IwHXAwQykZFbdABRRRQAUUUUAFFFFABRRRQAUUUUAFFFFABRRRQAUUUUAFFFFABRRRQAUUUUAFFFFABRRRQAUUUUAFFFFABRRRQAUUUUAFFFFABRRRQAUUUUAFFFFABRRRQAUUUUAFFFFABRRRQAUUUUAFFFFABRRRQAUVnaLrVvr1rLd2KSG1WZoop2AC3AXgunqucgHvjI4IJ0aACis211y3uNfvNGkR4L21RZlSTGJ4W4EiEdQGBU9CCORgqTpUAFFFFABXG/EDxvdeDdLub2105LqOztxcTtPI0anc4SOJCFOXZs/QDJ6iuyrjPid4e1LxFoWlppUH2v7Dq9rfXNmHVGuoY2JaNSxCg8g/MQOOtAFvUvGRsvF3hrQI9OeS41tJppd8m02kcce4lhg5O4hcZ9ea6ivMJNJ8W3nxcHiX+xWtrZ9PjsLV5LiFjaJ54eZ5FDH5mUHaE3jkZI5xd1D4gajafEi30JLKNrNt8bXAZzFkyQgMzBMqy73UjlcvHlgTgAHoVFFYeseMdE0HW9O0nVbmWC71ORYrQfZZWSV2OAvmBSgOexIPfpQBuUUUUAZHirxFa+E/Cuoa5fcxWcJfYOsjdFQe5YgD61m/D7RLrSfDCXOs/PreqN9t1KUjkyvzs+iLhAOwWub+LUz6l4i8DeFEG5NU1lbm4UfxQ2wEjKfY5B/wCA16bQAVh+KNS17T7SEeGNGi1O6kY7zcXQgihQDJLNgkk9AAPUkjHO5XFeNofFV9I0ej6NbalpVsgeaxmvRA+psT/qw2CFQDqGxuPB+XO4A0/B/iS+8UafJfXOknTrcEJEWnWXz2BId0K8GPptbjdycAYz0VYXhSTxBcWMl14ns7fTJZWAg023kEotYwOjSAAMxOc44AAA7k7tAHCfE2O40W1s/G+lRFrzQH33aIPmubFj+/jP0GHGehTNdrZ3cF/YwXllKs1tcRrLFKhyHRhkMPYgg0l9Zxajp1zZXI3Q3MTRSD1VgQf0NcB8C7+6n+GiaVqRZrzQbyfSpifWJuB9ArKv4UAejUUUUAFFFFABRRRQAUUUUAFFFFABRRRQAUUUUAFFFFABRRRQAUUUUAFFFFABRRRQAUUUUAFFFFABRRRQAUUUUAFFFFABRRRQAUUUUAFFFFABRRRQAUUUUAFFFFABRRRQAUUUUAFFFFABVbUb5NM0u6vpkkkjtoXmZIl3OwUE4UdzxwKs0UAch4f8dNqV94jtNX05NPfw+sT3LxXHnIQ8RkK7tq/MoGGHI5HNYXiTxzd6n+z1d+KrO1fTbnULQJBEX3tF50ohVt2Bzhw3TjNYr+G/GFp8P/G2hWWhyzaxreo3kq3puIVimilxghi24Ep8oUgYPXArU8V6LqcnwE1jTRZNajT7eFrC1YKZBDa+U4DbSQSxic4B6MB1FAHo+m2Fvo+j2un2abbezgWGJFHRVXAH5CuOh8e+If7Yi0+98E3FrJfn/iXE6hE5dR9550HzQqAQScNz8vUgHqZ9VluPDS6noFuuoyXEKS2kfmBFk342kt2XBBJGeAcAniuN0R/G0Gt/ZbvwxBDd3EyNqGvvfpNC8SnOyKPCuBgsqqQApJJLEksAW/HznS/FvgjWoW2yf2sdLlHIDxXMbZB9QHjjI9wK7quF+IaNqPiTwRo8AzM+trqDjPSK3jdmP/fTIPxFd1QBjHxJGCR/Zerf+AL05PEUbyKv9m6qu4gZaycAfWqh8Narn/kd9eH/AGwsP/kanReHNUjmR38Z65KqsCY3hscMPQ4tgcH2INAHQVlP4p8PxSNHJrumo6khla8jBBHYjNatY0ng7wzNK8s3h3SZJHYsztYxEsT1JO3k0AO/4Szw5/0H9L/8DY/8ajPiPwq12l02s6ObiNGjSU3UW5UYgsoOc4JVSR7D0rG1i3+HWg6lZWGr6RottdX8ixW0Z0xT5rscBQQhGSa2f+EK8Lf9C1o//gBF/wDE0AaFjq2naoHOmX9reeXjf9nmWTbnpnBOOh/KuG+LX/H54D/7G2z/APQJK7fTtF0vRxINJ02zsfNx5n2WBYt+M4ztAzjJ/OuL+J9hreqX/hYaJoF3qSaXrVvqdxJFNAi+WgcMg8yRSX+YHpj3oAn1fx/qml/Ey18Ix+HY7k6hbNPZXaXxAO373mr5f7sDDcgt0GAScDU8L+LpNc17X9Dv7BLLUtCliSdYp/OjdJU3xurFVPIByCOD61zmq2GvT/G7RfEEHhu+k0uz0+S0lnE9sMNIQchTLuwvQ8Z4OAad4NsNetfi14w1jUfDl7Zafrws/s08s9s2zyISjb1SVmGSeMA++KAKfiJmuP2m/B8JJ22uk3U4Hu4ZD/IV6nXl2vhoP2m/CkxwFutGuoBnuV3Of5ivUaAM+78QaNYXLW99q9jbTLjdFNcojDPIyCc1B/wlnhz/AKD+l/8AgbH/AI0+98MaDqV011qOiadd3D4DSz2kbu2BgZJGelQf8IV4W/6FrR//AAAi/wDiaAJP+Es8Of8AQf0v/wADY/8AGrljq+m6oXGmaha3nl43/Z5lk256ZwTjofyrP/4Qrwt/0LWj/wDgBF/8TV3TtD0nRzIdJ0yzsTLgSG2t0j346Z2gZ6n86AL1eXfCDdb+J/iNZHhE8STTqP8Arpz/AEFeo15f8JN03i34j3XOxvEMkIJ9UGD/ADFAHqFFFFABRRRQAUUUUAFFFFABRRRQAUUUUAFFFFABRRRQAUUUUAFFFFABRRRQAUUUUAFFFFABRRRQAUUUUAFFFFABRRRQAUUUUAFFFFABRRRQAUUUUAFFFFABRRRQAUUUUAFFFFABRRRQAUUUUAFBGRg0UUAZPhzQV8N6a+m2s5ksI5WazhZebaM8+Vuz8yg52+i4HOM1rUUUAZNroMcXia71y6l+0XcsS29vlAotoByUX13N8xPf5R0ArWoooAKKKKACiiigDy3x/qVtcfF/wfpl5Ji20uOfWLhFUszMP3UAVRyWLkgAckniuu8N+K5te17WtMudHuNPfSjD88rZEnmKWxnAG4Ac7Sw5HJrhtd8Can4g8V+OvED2c8WoQWcVt4bnSYxSLIkJcujKQQDI2OeDyD3ruvBt9rt9pcTa9ayW5itLeNjcR7JZbgIfPcgHAXcQBgDkMRkEUAdHRRRQAUUUUAeZ/FRDpnjDwB4oDFEsdYNjMw6LHcrsLH2G3H416ZWF418Mw+MfBmpaFO/lfa4sRSg/6qRSGjfj0YKfwqDwH4hm8ReFIJdRTyNWtCbTUrc9YrmPhx9D94ezCgDb1G9GnabcXjQT3AgjL+Tbxl5JMD7qqOpPSuW0TxzqOpaxHpGpeE9Q0rUWbzGjlmjkjS35/emRCQDkY29STxwGI2/Et5q9ppBHhyxW81KdvLhErbYojgku5/ugDp1JwO+RzPg2+11tVNk/he+02JXeTU9T1WZJJLuTGAIyh+bnBBwFVV2gDjAB3fmJ5nl7134ztzzj6U6vHXIfwL/bxjU6svjEYudv7zjUvIC7uuPK+TH93ivYqAGTzR21vJPMwSONS7sTwABkmvOfgTZzp8OX1i8TZca/qFxqjqRziRsD8woP41ofFC6mvtGt/B+lSMNT8RyfZsp1gtsgzzH2CfL9XFdhpun22k6Va6dYRiK1tIUhhQfwooAA/IUAWaKKKACiiigAooooAKKKKACiiigAooooAKKKKACiiigAooooAKKKKACiiigAooooAKKKKACiiigAooooAKKKKACiiigAooooAKKKKACiiigAooooAKKKKACiiigAooooAKKKKACiiigAooooAKKKKACiiigAooooAKKKKACiiigAooooAKKKKACiiigArEk8PmHxYuu6XOtu9wgh1GAplLtFB2N7SLnAbnK5Uj7pXbooAKKKKAOe/wCEK037XvEtyLT7f/aJsNy+T9o3bvM+7u+/8+3dt3c4roaKKAMTR/D72esX2s6ncC81K8/dhwu1beBSSkKDsOck/wATHPoBt0UUAFFFFABRRRQAUUUUAFFFFABRRRQAUUUUAFFFFABRRRQAUUUUAFFFFABRRRQAUUUUAFFFFABRRRQAUUUUAFFFFABRRRQAUUUUAFFFFABRRRQAUUUUAFFFFABRRRQAUUUUAFFFFABRRRQAUUUUAFFFFABRRRQAUUUUAFFFFABRRRQAUUUUAFFFFABRRRQAUUUUAFFFFABRRRQAUUUUAFFFFAH/2Q==)"
      ],
      "metadata": {
        "id": "APz1bMD2BIye"
      }
    },
    {
      "cell_type": "code",
      "source": [
        "k=0.4\n",
        "for i in range(0,18,30):\n",
        "  velocidad_friccion_u=k*(/math.log())"
      ],
      "metadata": {
        "id": "2BxrGTAUBth9"
      },
      "execution_count": null,
      "outputs": []
    },
    {
      "cell_type": "markdown",
      "source": [
        "Mediciones de turbulencias con sensor Lidar de 20 Hz, en periodos de 30 min "
      ],
      "metadata": {
        "id": "veWI5gVRjqUr"
      }
    },
    {
      "cell_type": "code",
      "source": [
        "df1 = pd.read_excel (\n",
        "    \"/content/TurbulenceDataSeries.xls\",\n",
        "    )\n",
        "df1.head(10)"
      ],
      "metadata": {
        "colab": {
          "base_uri": "https://localhost:8080/",
          "height": 363
        },
        "id": "MZc6lrvdjuVt",
        "outputId": "38ec1547-dae2-40be-db31-c5c47d62daa9"
      },
      "execution_count": null,
      "outputs": [
        {
          "output_type": "execute_result",
          "data": {
            "text/html": [
              "\n",
              "  <div id=\"df-99df79fb-81c3-432f-a34e-f99b72e76cac\">\n",
              "    <div class=\"colab-df-container\">\n",
              "      <div>\n",
              "<style scoped>\n",
              "    .dataframe tbody tr th:only-of-type {\n",
              "        vertical-align: middle;\n",
              "    }\n",
              "\n",
              "    .dataframe tbody tr th {\n",
              "        vertical-align: top;\n",
              "    }\n",
              "\n",
              "    .dataframe thead th {\n",
              "        text-align: right;\n",
              "    }\n",
              "</style>\n",
              "<table border=\"1\" class=\"dataframe\">\n",
              "  <thead>\n",
              "    <tr style=\"text-align: right;\">\n",
              "      <th></th>\n",
              "      <th>u</th>\n",
              "      <th>v</th>\n",
              "      <th>w</th>\n",
              "    </tr>\n",
              "  </thead>\n",
              "  <tbody>\n",
              "    <tr>\n",
              "      <th>0</th>\n",
              "      <td>8.149239</td>\n",
              "      <td>-1.004577</td>\n",
              "      <td>-0.386437</td>\n",
              "    </tr>\n",
              "    <tr>\n",
              "      <th>1</th>\n",
              "      <td>8.179172</td>\n",
              "      <td>-1.038056</td>\n",
              "      <td>-0.366863</td>\n",
              "    </tr>\n",
              "    <tr>\n",
              "      <th>2</th>\n",
              "      <td>8.124179</td>\n",
              "      <td>-0.961820</td>\n",
              "      <td>-0.326073</td>\n",
              "    </tr>\n",
              "    <tr>\n",
              "      <th>3</th>\n",
              "      <td>8.294137</td>\n",
              "      <td>-0.965844</td>\n",
              "      <td>-0.388507</td>\n",
              "    </tr>\n",
              "    <tr>\n",
              "      <th>4</th>\n",
              "      <td>8.291696</td>\n",
              "      <td>-1.051260</td>\n",
              "      <td>-0.418475</td>\n",
              "    </tr>\n",
              "    <tr>\n",
              "      <th>5</th>\n",
              "      <td>8.217856</td>\n",
              "      <td>-1.129117</td>\n",
              "      <td>-0.377416</td>\n",
              "    </tr>\n",
              "    <tr>\n",
              "      <th>6</th>\n",
              "      <td>8.246213</td>\n",
              "      <td>-1.086458</td>\n",
              "      <td>-0.347818</td>\n",
              "    </tr>\n",
              "    <tr>\n",
              "      <th>7</th>\n",
              "      <td>8.263049</td>\n",
              "      <td>-1.017781</td>\n",
              "      <td>-0.348059</td>\n",
              "    </tr>\n",
              "    <tr>\n",
              "      <th>8</th>\n",
              "      <td>8.257217</td>\n",
              "      <td>-1.004772</td>\n",
              "      <td>-0.367977</td>\n",
              "    </tr>\n",
              "    <tr>\n",
              "      <th>9</th>\n",
              "      <td>8.297239</td>\n",
              "      <td>-0.988131</td>\n",
              "      <td>-0.298542</td>\n",
              "    </tr>\n",
              "  </tbody>\n",
              "</table>\n",
              "</div>\n",
              "      <button class=\"colab-df-convert\" onclick=\"convertToInteractive('df-99df79fb-81c3-432f-a34e-f99b72e76cac')\"\n",
              "              title=\"Convert this dataframe to an interactive table.\"\n",
              "              style=\"display:none;\">\n",
              "        \n",
              "  <svg xmlns=\"http://www.w3.org/2000/svg\" height=\"24px\"viewBox=\"0 0 24 24\"\n",
              "       width=\"24px\">\n",
              "    <path d=\"M0 0h24v24H0V0z\" fill=\"none\"/>\n",
              "    <path d=\"M18.56 5.44l.94 2.06.94-2.06 2.06-.94-2.06-.94-.94-2.06-.94 2.06-2.06.94zm-11 1L8.5 8.5l.94-2.06 2.06-.94-2.06-.94L8.5 2.5l-.94 2.06-2.06.94zm10 10l.94 2.06.94-2.06 2.06-.94-2.06-.94-.94-2.06-.94 2.06-2.06.94z\"/><path d=\"M17.41 7.96l-1.37-1.37c-.4-.4-.92-.59-1.43-.59-.52 0-1.04.2-1.43.59L10.3 9.45l-7.72 7.72c-.78.78-.78 2.05 0 2.83L4 21.41c.39.39.9.59 1.41.59.51 0 1.02-.2 1.41-.59l7.78-7.78 2.81-2.81c.8-.78.8-2.07 0-2.86zM5.41 20L4 18.59l7.72-7.72 1.47 1.35L5.41 20z\"/>\n",
              "  </svg>\n",
              "      </button>\n",
              "      \n",
              "  <style>\n",
              "    .colab-df-container {\n",
              "      display:flex;\n",
              "      flex-wrap:wrap;\n",
              "      gap: 12px;\n",
              "    }\n",
              "\n",
              "    .colab-df-convert {\n",
              "      background-color: #E8F0FE;\n",
              "      border: none;\n",
              "      border-radius: 50%;\n",
              "      cursor: pointer;\n",
              "      display: none;\n",
              "      fill: #1967D2;\n",
              "      height: 32px;\n",
              "      padding: 0 0 0 0;\n",
              "      width: 32px;\n",
              "    }\n",
              "\n",
              "    .colab-df-convert:hover {\n",
              "      background-color: #E2EBFA;\n",
              "      box-shadow: 0px 1px 2px rgba(60, 64, 67, 0.3), 0px 1px 3px 1px rgba(60, 64, 67, 0.15);\n",
              "      fill: #174EA6;\n",
              "    }\n",
              "\n",
              "    [theme=dark] .colab-df-convert {\n",
              "      background-color: #3B4455;\n",
              "      fill: #D2E3FC;\n",
              "    }\n",
              "\n",
              "    [theme=dark] .colab-df-convert:hover {\n",
              "      background-color: #434B5C;\n",
              "      box-shadow: 0px 1px 3px 1px rgba(0, 0, 0, 0.15);\n",
              "      filter: drop-shadow(0px 1px 2px rgba(0, 0, 0, 0.3));\n",
              "      fill: #FFFFFF;\n",
              "    }\n",
              "  </style>\n",
              "\n",
              "      <script>\n",
              "        const buttonEl =\n",
              "          document.querySelector('#df-99df79fb-81c3-432f-a34e-f99b72e76cac button.colab-df-convert');\n",
              "        buttonEl.style.display =\n",
              "          google.colab.kernel.accessAllowed ? 'block' : 'none';\n",
              "\n",
              "        async function convertToInteractive(key) {\n",
              "          const element = document.querySelector('#df-99df79fb-81c3-432f-a34e-f99b72e76cac');\n",
              "          const dataTable =\n",
              "            await google.colab.kernel.invokeFunction('convertToInteractive',\n",
              "                                                     [key], {});\n",
              "          if (!dataTable) return;\n",
              "\n",
              "          const docLinkHtml = 'Like what you see? Visit the ' +\n",
              "            '<a target=\"_blank\" href=https://colab.research.google.com/notebooks/data_table.ipynb>data table notebook</a>'\n",
              "            + ' to learn more about interactive tables.';\n",
              "          element.innerHTML = '';\n",
              "          dataTable['output_type'] = 'display_data';\n",
              "          await google.colab.output.renderOutput(dataTable, element);\n",
              "          const docLink = document.createElement('div');\n",
              "          docLink.innerHTML = docLinkHtml;\n",
              "          element.appendChild(docLink);\n",
              "        }\n",
              "      </script>\n",
              "    </div>\n",
              "  </div>\n",
              "  "
            ],
            "text/plain": [
              "          u         v         w\n",
              "0  8.149239 -1.004577 -0.386437\n",
              "1  8.179172 -1.038056 -0.366863\n",
              "2  8.124179 -0.961820 -0.326073\n",
              "3  8.294137 -0.965844 -0.388507\n",
              "4  8.291696 -1.051260 -0.418475\n",
              "5  8.217856 -1.129117 -0.377416\n",
              "6  8.246213 -1.086458 -0.347818\n",
              "7  8.263049 -1.017781 -0.348059\n",
              "8  8.257217 -1.004772 -0.367977\n",
              "9  8.297239 -0.988131 -0.298542"
            ]
          },
          "metadata": {},
          "execution_count": 157
        }
      ]
    },
    {
      "cell_type": "code",
      "source": [
        "lista1=[]\n",
        "for i in range(36000):\n",
        "  lista1.append(i)\n",
        "len(lista1)"
      ],
      "metadata": {
        "colab": {
          "base_uri": "https://localhost:8080/"
        },
        "id": "Lfl7pzO3ayNA",
        "outputId": "88914ece-ee96-4311-b391-127279747274"
      },
      "execution_count": null,
      "outputs": [
        {
          "output_type": "execute_result",
          "data": {
            "text/plain": [
              "36000"
            ]
          },
          "metadata": {},
          "execution_count": 158
        }
      ]
    },
    {
      "cell_type": "code",
      "source": [
        "df1.head()"
      ],
      "metadata": {
        "colab": {
          "base_uri": "https://localhost:8080/",
          "height": 206
        },
        "id": "1juH7VR5cVZ3",
        "outputId": "48363356-62e8-4562-cb64-02c3edff6fdc"
      },
      "execution_count": null,
      "outputs": [
        {
          "output_type": "execute_result",
          "data": {
            "text/html": [
              "\n",
              "  <div id=\"df-cd57c0fe-d4b9-4dfd-9517-5952331e6eb4\">\n",
              "    <div class=\"colab-df-container\">\n",
              "      <div>\n",
              "<style scoped>\n",
              "    .dataframe tbody tr th:only-of-type {\n",
              "        vertical-align: middle;\n",
              "    }\n",
              "\n",
              "    .dataframe tbody tr th {\n",
              "        vertical-align: top;\n",
              "    }\n",
              "\n",
              "    .dataframe thead th {\n",
              "        text-align: right;\n",
              "    }\n",
              "</style>\n",
              "<table border=\"1\" class=\"dataframe\">\n",
              "  <thead>\n",
              "    <tr style=\"text-align: right;\">\n",
              "      <th></th>\n",
              "      <th>u</th>\n",
              "      <th>v</th>\n",
              "      <th>w</th>\n",
              "    </tr>\n",
              "  </thead>\n",
              "  <tbody>\n",
              "    <tr>\n",
              "      <th>0</th>\n",
              "      <td>8.149239</td>\n",
              "      <td>-1.004577</td>\n",
              "      <td>-0.386437</td>\n",
              "    </tr>\n",
              "    <tr>\n",
              "      <th>1</th>\n",
              "      <td>8.179172</td>\n",
              "      <td>-1.038056</td>\n",
              "      <td>-0.366863</td>\n",
              "    </tr>\n",
              "    <tr>\n",
              "      <th>2</th>\n",
              "      <td>8.124179</td>\n",
              "      <td>-0.961820</td>\n",
              "      <td>-0.326073</td>\n",
              "    </tr>\n",
              "    <tr>\n",
              "      <th>3</th>\n",
              "      <td>8.294137</td>\n",
              "      <td>-0.965844</td>\n",
              "      <td>-0.388507</td>\n",
              "    </tr>\n",
              "    <tr>\n",
              "      <th>4</th>\n",
              "      <td>8.291696</td>\n",
              "      <td>-1.051260</td>\n",
              "      <td>-0.418475</td>\n",
              "    </tr>\n",
              "  </tbody>\n",
              "</table>\n",
              "</div>\n",
              "      <button class=\"colab-df-convert\" onclick=\"convertToInteractive('df-cd57c0fe-d4b9-4dfd-9517-5952331e6eb4')\"\n",
              "              title=\"Convert this dataframe to an interactive table.\"\n",
              "              style=\"display:none;\">\n",
              "        \n",
              "  <svg xmlns=\"http://www.w3.org/2000/svg\" height=\"24px\"viewBox=\"0 0 24 24\"\n",
              "       width=\"24px\">\n",
              "    <path d=\"M0 0h24v24H0V0z\" fill=\"none\"/>\n",
              "    <path d=\"M18.56 5.44l.94 2.06.94-2.06 2.06-.94-2.06-.94-.94-2.06-.94 2.06-2.06.94zm-11 1L8.5 8.5l.94-2.06 2.06-.94-2.06-.94L8.5 2.5l-.94 2.06-2.06.94zm10 10l.94 2.06.94-2.06 2.06-.94-2.06-.94-.94-2.06-.94 2.06-2.06.94z\"/><path d=\"M17.41 7.96l-1.37-1.37c-.4-.4-.92-.59-1.43-.59-.52 0-1.04.2-1.43.59L10.3 9.45l-7.72 7.72c-.78.78-.78 2.05 0 2.83L4 21.41c.39.39.9.59 1.41.59.51 0 1.02-.2 1.41-.59l7.78-7.78 2.81-2.81c.8-.78.8-2.07 0-2.86zM5.41 20L4 18.59l7.72-7.72 1.47 1.35L5.41 20z\"/>\n",
              "  </svg>\n",
              "      </button>\n",
              "      \n",
              "  <style>\n",
              "    .colab-df-container {\n",
              "      display:flex;\n",
              "      flex-wrap:wrap;\n",
              "      gap: 12px;\n",
              "    }\n",
              "\n",
              "    .colab-df-convert {\n",
              "      background-color: #E8F0FE;\n",
              "      border: none;\n",
              "      border-radius: 50%;\n",
              "      cursor: pointer;\n",
              "      display: none;\n",
              "      fill: #1967D2;\n",
              "      height: 32px;\n",
              "      padding: 0 0 0 0;\n",
              "      width: 32px;\n",
              "    }\n",
              "\n",
              "    .colab-df-convert:hover {\n",
              "      background-color: #E2EBFA;\n",
              "      box-shadow: 0px 1px 2px rgba(60, 64, 67, 0.3), 0px 1px 3px 1px rgba(60, 64, 67, 0.15);\n",
              "      fill: #174EA6;\n",
              "    }\n",
              "\n",
              "    [theme=dark] .colab-df-convert {\n",
              "      background-color: #3B4455;\n",
              "      fill: #D2E3FC;\n",
              "    }\n",
              "\n",
              "    [theme=dark] .colab-df-convert:hover {\n",
              "      background-color: #434B5C;\n",
              "      box-shadow: 0px 1px 3px 1px rgba(0, 0, 0, 0.15);\n",
              "      filter: drop-shadow(0px 1px 2px rgba(0, 0, 0, 0.3));\n",
              "      fill: #FFFFFF;\n",
              "    }\n",
              "  </style>\n",
              "\n",
              "      <script>\n",
              "        const buttonEl =\n",
              "          document.querySelector('#df-cd57c0fe-d4b9-4dfd-9517-5952331e6eb4 button.colab-df-convert');\n",
              "        buttonEl.style.display =\n",
              "          google.colab.kernel.accessAllowed ? 'block' : 'none';\n",
              "\n",
              "        async function convertToInteractive(key) {\n",
              "          const element = document.querySelector('#df-cd57c0fe-d4b9-4dfd-9517-5952331e6eb4');\n",
              "          const dataTable =\n",
              "            await google.colab.kernel.invokeFunction('convertToInteractive',\n",
              "                                                     [key], {});\n",
              "          if (!dataTable) return;\n",
              "\n",
              "          const docLinkHtml = 'Like what you see? Visit the ' +\n",
              "            '<a target=\"_blank\" href=https://colab.research.google.com/notebooks/data_table.ipynb>data table notebook</a>'\n",
              "            + ' to learn more about interactive tables.';\n",
              "          element.innerHTML = '';\n",
              "          dataTable['output_type'] = 'display_data';\n",
              "          await google.colab.output.renderOutput(dataTable, element);\n",
              "          const docLink = document.createElement('div');\n",
              "          docLink.innerHTML = docLinkHtml;\n",
              "          element.appendChild(docLink);\n",
              "        }\n",
              "      </script>\n",
              "    </div>\n",
              "  </div>\n",
              "  "
            ],
            "text/plain": [
              "          u         v         w\n",
              "0  8.149239 -1.004577 -0.386437\n",
              "1  8.179172 -1.038056 -0.366863\n",
              "2  8.124179 -0.961820 -0.326073\n",
              "3  8.294137 -0.965844 -0.388507\n",
              "4  8.291696 -1.051260 -0.418475"
            ]
          },
          "metadata": {},
          "execution_count": 159
        }
      ]
    },
    {
      "cell_type": "code",
      "source": [
        "df1.median()"
      ],
      "metadata": {
        "colab": {
          "base_uri": "https://localhost:8080/"
        },
        "id": "FwAx6LiFgA9J",
        "outputId": "39a06bf4-facd-49b1-ea36-c03840623875"
      },
      "execution_count": null,
      "outputs": [
        {
          "output_type": "execute_result",
          "data": {
            "text/plain": [
              "u    9.104761\n",
              "v    0.015297\n",
              "w    0.061710\n",
              "dtype: float64"
            ]
          },
          "metadata": {},
          "execution_count": 160
        }
      ]
    },
    {
      "cell_type": "code",
      "source": [
        "df1.min()"
      ],
      "metadata": {
        "colab": {
          "base_uri": "https://localhost:8080/"
        },
        "id": "WsgnPBECgOfw",
        "outputId": "9aa7ddef-b6b4-4d24-aca1-0e9a3f190f7e"
      },
      "execution_count": null,
      "outputs": [
        {
          "output_type": "execute_result",
          "data": {
            "text/plain": [
              "u    6.668239\n",
              "v   -2.603525\n",
              "w   -2.361832\n",
              "dtype: float64"
            ]
          },
          "metadata": {},
          "execution_count": 161
        }
      ]
    },
    {
      "cell_type": "code",
      "source": [
        "df1.max()"
      ],
      "metadata": {
        "colab": {
          "base_uri": "https://localhost:8080/"
        },
        "id": "lZnxbOJJgTGP",
        "outputId": "5f60b974-62a7-4d45-ff1e-947c5ed4c32a"
      },
      "execution_count": null,
      "outputs": [
        {
          "output_type": "execute_result",
          "data": {
            "text/plain": [
              "u    12.061346\n",
              "v     2.487530\n",
              "w     1.429760\n",
              "dtype: float64"
            ]
          },
          "metadata": {},
          "execution_count": 162
        }
      ]
    },
    {
      "cell_type": "code",
      "source": [
        "#Diagrama de frecuencias de 'u'\n",
        "sns.histplot(df1['u'])"
      ],
      "metadata": {
        "colab": {
          "base_uri": "https://localhost:8080/",
          "height": 298
        },
        "id": "WUx-3zcWcZ_x",
        "outputId": "1ad1952d-cf65-4d13-98c2-1e8eac94439d"
      },
      "execution_count": null,
      "outputs": [
        {
          "output_type": "execute_result",
          "data": {
            "text/plain": [
              "<matplotlib.axes._subplots.AxesSubplot at 0x7f42a0670b50>"
            ]
          },
          "metadata": {},
          "execution_count": 179
        },
        {
          "output_type": "display_data",
          "data": {
            "image/png": "[encoded data removed]",
            "text/plain": [
              "<Figure size 432x288 with 1 Axes>"
            ]
          },
          "metadata": {
            "needs_background": "light"
          }
        }
      ]
    },
    {
      "cell_type": "code",
      "source": [
        "#Diagrama de frecuencias de 'v'\n",
        "sns.histplot(df1['v'])"
      ],
      "metadata": {
        "colab": {
          "base_uri": "https://localhost:8080/",
          "height": 298
        },
        "id": "DCh70qcETgZF",
        "outputId": "8c2a2db6-9415-4338-94e3-6b2c80e682b0"
      },
      "execution_count": null,
      "outputs": [
        {
          "output_type": "execute_result",
          "data": {
            "text/plain": [
              "<matplotlib.axes._subplots.AxesSubplot at 0x7f429f3f3490>"
            ]
          },
          "metadata": {},
          "execution_count": 180
        },
        {
          "output_type": "display_data",
          "data": {
            "image/png": "[encoded data removed]",
            "text/plain": [
              "<Figure size 432x288 with 1 Axes>"
            ]
          },
          "metadata": {
            "needs_background": "light"
          }
        }
      ]
    },
    {
      "cell_type": "code",
      "source": [
        "#Diagrama de frecuencias de 'w'\n",
        "sns.histplot(df1['w'])"
      ],
      "metadata": {
        "colab": {
          "base_uri": "https://localhost:8080/",
          "height": 300
        },
        "id": "LJKVI4lFTjxe",
        "outputId": "76c0adab-49b1-4c41-97cb-7640c79b1dac"
      },
      "execution_count": null,
      "outputs": [
        {
          "output_type": "execute_result",
          "data": {
            "text/plain": [
              "<matplotlib.axes._subplots.AxesSubplot at 0x7f429dd43e10>"
            ]
          },
          "metadata": {},
          "execution_count": 181
        },
        {
          "output_type": "display_data",
          "data": {
            "image/png": "[encoded data removed]",
            "text/plain": [
              "<Figure size 432x288 with 1 Axes>"
            ]
          },
          "metadata": {
            "needs_background": "light"
          }
        }
      ]
    },
    {
      "cell_type": "markdown",
      "source": [
        "Calculo de VPN de proyecto eolico"
      ],
      "metadata": {
        "id": "NgDFbDIQVJhG"
      }
    },
    {
      "cell_type": "code",
      "source": [
        "Inver_inicial=-65000000\n",
        "AEP=110000000\n",
        "tarifa_venta=0.075\n",
        "precio_venta=AEP*tarifa_venta\n",
        "costos_oym=0.0091\n",
        "costos=costos_oym*AEP\n",
        "costos_netos=precio_venta-costos\n",
        "values = [Inver_inicial,costos_netos, costos_netos, costos_netos, costos_netos, costos_netos, costos_netos, costos_netos, costos_netos, costos_netos, costos_netos, costos_netos, costos_netos, costos_netos, costos_netos, costos_netos, costos_netos, costos_netos, costos_netos, costos_netos, costos_netos, -3000000]\n",
        "rate1 = 0.02\n",
        "rate2 = 0.08\n",
        "rate3 = 12\n",
        "#Printing NPV Values\n",
        "print(\"NPV value with rate \", rate1, \" is: \", np.npv(rate1, values))\n",
        "print(\"NPV value with rate \", rate2, \" is: \", np.npv(rate2, values))\n",
        "print(\"NPV value with rate \", rate3, \" is: \", np.npv(rate3, values))"
      ],
      "metadata": {
        "colab": {
          "base_uri": "https://localhost:8080/"
        },
        "id": "MUjOdh0aR1iy",
        "outputId": "07d6644f-249b-4a63-8eb5-112f28110580"
      },
      "execution_count": null,
      "outputs": [
        {
          "output_type": "stream",
          "name": "stdout",
          "text": [
            "NPV value with rate  0.02  is:  51552212.86466666\n",
            "NPV value with rate  0.08  is:  5575783.313810826\n",
            "NPV value with rate  12  is:  -64395916.66666667\n"
          ]
        },
        {
          "output_type": "stream",
          "name": "stderr",
          "text": [
            "/usr/local/lib/python3.7/dist-packages/ipykernel_launcher.py:13: DeprecationWarning: numpy.npv is deprecated and will be removed from NumPy 1.20. Use numpy_financial.npv instead (https://pypi.org/project/numpy-financial/).\n",
            "  del sys.path[0]\n",
            "/usr/local/lib/python3.7/dist-packages/ipykernel_launcher.py:14: DeprecationWarning: numpy.npv is deprecated and will be removed from NumPy 1.20. Use numpy_financial.npv instead (https://pypi.org/project/numpy-financial/).\n",
            "  \n",
            "/usr/local/lib/python3.7/dist-packages/ipykernel_launcher.py:15: DeprecationWarning: numpy.npv is deprecated and will be removed from NumPy 1.20. Use numpy_financial.npv instead (https://pypi.org/project/numpy-financial/).\n",
            "  from ipykernel import kernelapp as app\n"
          ]
        }
      ]
    },
    {
      "cell_type": "code",
      "source": [
        "costos_netos"
      ],
      "metadata": {
        "colab": {
          "base_uri": "https://localhost:8080/"
        },
        "id": "_gxVofRUWz6V",
        "outputId": "efac381f-edec-4a24-f28c-194f51f6eaeb"
      },
      "execution_count": null,
      "outputs": [
        {
          "output_type": "execute_result",
          "data": {
            "text/plain": [
              "7249000.0"
            ]
          },
          "metadata": {},
          "execution_count": 3
        }
      ]
    },
    {
      "cell_type": "code",
      "source": [
        "precio_venta"
      ],
      "metadata": {
        "colab": {
          "base_uri": "https://localhost:8080/"
        },
        "id": "EwaTtG6nw5Zk",
        "outputId": "cbee1edc-bad5-4598-fbc6-5c5d7fb799d0"
      },
      "execution_count": null,
      "outputs": [
        {
          "output_type": "execute_result",
          "data": {
            "text/plain": [
              "8250000.0"
            ]
          },
          "metadata": {},
          "execution_count": 4
        }
      ]
    },
    {
      "cell_type": "code",
      "source": [
        "costos"
      ],
      "metadata": {
        "colab": {
          "base_uri": "https://localhost:8080/"
        },
        "id": "7Tyv2qyQxEWQ",
        "outputId": "10e95c2f-9261-410b-807f-87789ef0b6a4"
      },
      "execution_count": null,
      "outputs": [
        {
          "output_type": "execute_result",
          "data": {
            "text/plain": [
              "1001000.0"
            ]
          },
          "metadata": {},
          "execution_count": 5
        }
      ]
    },
    {
      "cell_type": "markdown",
      "source": [
        "Valor presente neto del mantenimiento y reparaciones"
      ],
      "metadata": {
        "id": "GFcIVhAEmJiQ"
      }
    },
    {
      "cell_type": "code",
      "source": [
        "values1=[]\n",
        "a=1001000\n",
        "for i in range(20):\n",
        "  values1.append(a)\n",
        "print(\"NPV value with rate \", rate2, \" is: \", np.npv(rate2, values1))"
      ],
      "metadata": {
        "colab": {
          "base_uri": "https://localhost:8080/"
        },
        "id": "0BqKmEZHmOIR",
        "outputId": "c191d6ff-c765-4e25-e1fd-35e063a03eac"
      },
      "execution_count": null,
      "outputs": [
        {
          "output_type": "stream",
          "name": "stdout",
          "text": [
            "NPV value with rate  0.08  is:  10614202.799245276\n"
          ]
        },
        {
          "output_type": "stream",
          "name": "stderr",
          "text": [
            "/usr/local/lib/python3.7/dist-packages/ipykernel_launcher.py:5: DeprecationWarning: numpy.npv is deprecated and will be removed from NumPy 1.20. Use numpy_financial.npv instead (https://pypi.org/project/numpy-financial/).\n",
            "  \"\"\"\n"
          ]
        }
      ]
    },
    {
      "cell_type": "markdown",
      "source": [
        "Valor presente del desmantelamiento"
      ],
      "metadata": {
        "id": "pXzVPPW3qgJ1"
      }
    },
    {
      "cell_type": "code",
      "source": [
        "tasa_descuento=0.08\n",
        "desmonte=3000000\n",
        "VPNdes=desmonte*(1/(1+tasa_descuento)**20)\n",
        "VPNdes"
      ],
      "metadata": {
        "id": "BAxndBatrjVn",
        "colab": {
          "base_uri": "https://localhost:8080/"
        },
        "outputId": "26c42c29-1497-4dbe-d518-2b4f42eb0f31"
      },
      "execution_count": null,
      "outputs": [
        {
          "output_type": "execute_result",
          "data": {
            "text/plain": [
              "643644.6222121693"
            ]
          },
          "metadata": {},
          "execution_count": 62
        }
      ]
    },
    {
      "cell_type": "markdown",
      "source": [
        "Valor presente de Costos"
      ],
      "metadata": {
        "id": "a2VrV69dk-U-"
      }
    },
    {
      "cell_type": "code",
      "source": [
        "inv_capital=65000000\n",
        "VPN_OM=18537037\n",
        "VPN_costos=VPNdes+VPN_OM+inv_capital\n",
        "VPN_costos"
      ],
      "metadata": {
        "colab": {
          "base_uri": "https://localhost:8080/"
        },
        "id": "39DLBlf4lAHE",
        "outputId": "31996a0e-af2d-45a0-ec79-1590d666e5e9"
      },
      "execution_count": null,
      "outputs": [
        {
          "output_type": "execute_result",
          "data": {
            "text/plain": [
              "84180681.62221217"
            ]
          },
          "metadata": {},
          "execution_count": 52
        }
      ]
    },
    {
      "cell_type": "markdown",
      "source": [
        "Costo anual nivelado de energia (Euros/año)"
      ],
      "metadata": {
        "id": "iBysonulm6Kw"
      }
    },
    {
      "cell_type": "code",
      "source": [
        "costo_nivel_anual=((-74250000*0.08)/(1-(1+0.08)**-20))\n",
        "costo_nivel_anual"
      ],
      "metadata": {
        "colab": {
          "base_uri": "https://localhost:8080/"
        },
        "id": "OZrEQdAcnCCf",
        "outputId": "1b0ac54e-bd40-474f-ffad-d4316970eaac"
      },
      "execution_count": null,
      "outputs": [
        {
          "output_type": "execute_result",
          "data": {
            "text/plain": [
              "-7562526.505118931"
            ]
          },
          "metadata": {},
          "execution_count": 55
        }
      ]
    },
    {
      "cell_type": "markdown",
      "source": [
        "Costo nivelado de energia (Euros/kWh)"
      ],
      "metadata": {
        "id": "Yjlwm1V6oVYl"
      }
    },
    {
      "cell_type": "code",
      "source": [
        "AEP=110000000\n",
        "lcoe_kwh=7662526/AEP\n",
        "lcoe_kwh"
      ],
      "metadata": {
        "colab": {
          "base_uri": "https://localhost:8080/"
        },
        "id": "ffBxYc63oFb3",
        "outputId": "1cd8870e-b72d-4160-ed6d-a29c385f54d0"
      },
      "execution_count": null,
      "outputs": [
        {
          "output_type": "execute_result",
          "data": {
            "text/plain": [
              "0.06965932727272728"
            ]
          },
          "metadata": {},
          "execution_count": 61
        }
      ]
    },
    {
      "cell_type": "markdown",
      "source": [
        ""
      ],
      "metadata": {
        "id": "n0dEFcxvopsK"
      }
    },
    {
      "cell_type": "code",
      "source": [
        "lcoe_cen=lcoe_kwh*100\n",
        "lcoe_cen"
      ],
      "metadata": {
        "colab": {
          "base_uri": "https://localhost:8080/"
        },
        "id": "58H64x2kojk9",
        "outputId": "c27efab5-a51b-40e1-f31f-5ce8f9a6050b"
      },
      "execution_count": null,
      "outputs": [
        {
          "output_type": "execute_result",
          "data": {
            "text/plain": [
              "6.965932727272728"
            ]
          },
          "metadata": {},
          "execution_count": 60
        }
      ]
    },
    {
      "cell_type": "code",
      "source": [
        "df.columns"
      ],
      "metadata": {
        "colab": {
          "base_uri": "https://localhost:8080/"
        },
        "id": "NLJf8K4HX5Q6",
        "outputId": "043418a9-4718-484d-cd3a-83914a1ec70c"
      },
      "execution_count": null,
      "outputs": [
        {
          "output_type": "execute_result",
          "data": {
            "text/plain": [
              "Index(['Time', 'WindSpeed', 'Power'], dtype='object')"
            ]
          },
          "metadata": {},
          "execution_count": 5
        }
      ]
    },
    {
      "cell_type": "code",
      "source": [
        "df2 = pd.read_csv (\n",
        "    \"/content/Wind Time Series Dataset(10min).csv\",\n",
        "    )\n",
        "df2.head(10)"
      ],
      "metadata": {
        "colab": {
          "base_uri": "https://localhost:8080/",
          "height": 363
        },
        "id": "M_WHua_JX9O8",
        "outputId": "feebd5a8-20d4-4819-ea12-8757922d2a5a"
      },
      "execution_count": null,
      "outputs": [
        {
          "output_type": "execute_result",
          "data": {
            "text/html": [
              "\n",
              "  <div id=\"df-ca8b52f2-f261-4200-8361-100091c298ad\">\n",
              "    <div class=\"colab-df-container\">\n",
              "      <div>\n",
              "<style scoped>\n",
              "    .dataframe tbody tr th:only-of-type {\n",
              "        vertical-align: middle;\n",
              "    }\n",
              "\n",
              "    .dataframe tbody tr th {\n",
              "        vertical-align: top;\n",
              "    }\n",
              "\n",
              "    .dataframe thead th {\n",
              "        text-align: right;\n",
              "    }\n",
              "</style>\n",
              "<table border=\"1\" class=\"dataframe\">\n",
              "  <thead>\n",
              "    <tr style=\"text-align: right;\">\n",
              "      <th></th>\n",
              "      <th>Time</th>\n",
              "      <th>WindSpeed</th>\n",
              "      <th>Power</th>\n",
              "    </tr>\n",
              "  </thead>\n",
              "  <tbody>\n",
              "    <tr>\n",
              "      <th>0</th>\n",
              "      <td>2014-10-07 01:20:00</td>\n",
              "      <td>8.22</td>\n",
              "      <td>40.526173</td>\n",
              "    </tr>\n",
              "    <tr>\n",
              "      <th>1</th>\n",
              "      <td>2014-10-07 01:30:00</td>\n",
              "      <td>8.09</td>\n",
              "      <td>38.552540</td>\n",
              "    </tr>\n",
              "    <tr>\n",
              "      <th>2</th>\n",
              "      <td>2014-10-07 01:50:00</td>\n",
              "      <td>7.21</td>\n",
              "      <td>21.313683</td>\n",
              "    </tr>\n",
              "    <tr>\n",
              "      <th>3</th>\n",
              "      <td>2014-10-07 02:00:00</td>\n",
              "      <td>6.75</td>\n",
              "      <td>18.031418</td>\n",
              "    </tr>\n",
              "    <tr>\n",
              "      <th>4</th>\n",
              "      <td>2014-10-07 02:10:00</td>\n",
              "      <td>6.52</td>\n",
              "      <td>16.593281</td>\n",
              "    </tr>\n",
              "    <tr>\n",
              "      <th>5</th>\n",
              "      <td>2014-10-07 02:20:00</td>\n",
              "      <td>5.94</td>\n",
              "      <td>11.799710</td>\n",
              "    </tr>\n",
              "    <tr>\n",
              "      <th>6</th>\n",
              "      <td>2014-10-07 02:30:00</td>\n",
              "      <td>5.62</td>\n",
              "      <td>9.668083</td>\n",
              "    </tr>\n",
              "    <tr>\n",
              "      <th>7</th>\n",
              "      <td>2014-10-07 02:40:00</td>\n",
              "      <td>5.74</td>\n",
              "      <td>10.459349</td>\n",
              "    </tr>\n",
              "    <tr>\n",
              "      <th>8</th>\n",
              "      <td>2014-10-07 02:50:00</td>\n",
              "      <td>5.65</td>\n",
              "      <td>11.492787</td>\n",
              "    </tr>\n",
              "    <tr>\n",
              "      <th>9</th>\n",
              "      <td>2014-10-07 03:00:00</td>\n",
              "      <td>6.06</td>\n",
              "      <td>14.288767</td>\n",
              "    </tr>\n",
              "  </tbody>\n",
              "</table>\n",
              "</div>\n",
              "      <button class=\"colab-df-convert\" onclick=\"convertToInteractive('df-ca8b52f2-f261-4200-8361-100091c298ad')\"\n",
              "              title=\"Convert this dataframe to an interactive table.\"\n",
              "              style=\"display:none;\">\n",
              "        \n",
              "  <svg xmlns=\"http://www.w3.org/2000/svg\" height=\"24px\"viewBox=\"0 0 24 24\"\n",
              "       width=\"24px\">\n",
              "    <path d=\"M0 0h24v24H0V0z\" fill=\"none\"/>\n",
              "    <path d=\"M18.56 5.44l.94 2.06.94-2.06 2.06-.94-2.06-.94-.94-2.06-.94 2.06-2.06.94zm-11 1L8.5 8.5l.94-2.06 2.06-.94-2.06-.94L8.5 2.5l-.94 2.06-2.06.94zm10 10l.94 2.06.94-2.06 2.06-.94-2.06-.94-.94-2.06-.94 2.06-2.06.94z\"/><path d=\"M17.41 7.96l-1.37-1.37c-.4-.4-.92-.59-1.43-.59-.52 0-1.04.2-1.43.59L10.3 9.45l-7.72 7.72c-.78.78-.78 2.05 0 2.83L4 21.41c.39.39.9.59 1.41.59.51 0 1.02-.2 1.41-.59l7.78-7.78 2.81-2.81c.8-.78.8-2.07 0-2.86zM5.41 20L4 18.59l7.72-7.72 1.47 1.35L5.41 20z\"/>\n",
              "  </svg>\n",
              "      </button>\n",
              "      \n",
              "  <style>\n",
              "    .colab-df-container {\n",
              "      display:flex;\n",
              "      flex-wrap:wrap;\n",
              "      gap: 12px;\n",
              "    }\n",
              "\n",
              "    .colab-df-convert {\n",
              "      background-color: #E8F0FE;\n",
              "      border: none;\n",
              "      border-radius: 50%;\n",
              "      cursor: pointer;\n",
              "      display: none;\n",
              "      fill: #1967D2;\n",
              "      height: 32px;\n",
              "      padding: 0 0 0 0;\n",
              "      width: 32px;\n",
              "    }\n",
              "\n",
              "    .colab-df-convert:hover {\n",
              "      background-color: #E2EBFA;\n",
              "      box-shadow: 0px 1px 2px rgba(60, 64, 67, 0.3), 0px 1px 3px 1px rgba(60, 64, 67, 0.15);\n",
              "      fill: #174EA6;\n",
              "    }\n",
              "\n",
              "    [theme=dark] .colab-df-convert {\n",
              "      background-color: #3B4455;\n",
              "      fill: #D2E3FC;\n",
              "    }\n",
              "\n",
              "    [theme=dark] .colab-df-convert:hover {\n",
              "      background-color: #434B5C;\n",
              "      box-shadow: 0px 1px 3px 1px rgba(0, 0, 0, 0.15);\n",
              "      filter: drop-shadow(0px 1px 2px rgba(0, 0, 0, 0.3));\n",
              "      fill: #FFFFFF;\n",
              "    }\n",
              "  </style>\n",
              "\n",
              "      <script>\n",
              "        const buttonEl =\n",
              "          document.querySelector('#df-ca8b52f2-f261-4200-8361-100091c298ad button.colab-df-convert');\n",
              "        buttonEl.style.display =\n",
              "          google.colab.kernel.accessAllowed ? 'block' : 'none';\n",
              "\n",
              "        async function convertToInteractive(key) {\n",
              "          const element = document.querySelector('#df-ca8b52f2-f261-4200-8361-100091c298ad');\n",
              "          const dataTable =\n",
              "            await google.colab.kernel.invokeFunction('convertToInteractive',\n",
              "                                                     [key], {});\n",
              "          if (!dataTable) return;\n",
              "\n",
              "          const docLinkHtml = 'Like what you see? Visit the ' +\n",
              "            '<a target=\"_blank\" href=https://colab.research.google.com/notebooks/data_table.ipynb>data table notebook</a>'\n",
              "            + ' to learn more about interactive tables.';\n",
              "          element.innerHTML = '';\n",
              "          dataTable['output_type'] = 'display_data';\n",
              "          await google.colab.output.renderOutput(dataTable, element);\n",
              "          const docLink = document.createElement('div');\n",
              "          docLink.innerHTML = docLinkHtml;\n",
              "          element.appendChild(docLink);\n",
              "        }\n",
              "      </script>\n",
              "    </div>\n",
              "  </div>\n",
              "  "
            ],
            "text/plain": [
              "                  Time  WindSpeed      Power\n",
              "0  2014-10-07 01:20:00       8.22  40.526173\n",
              "1  2014-10-07 01:30:00       8.09  38.552540\n",
              "2  2014-10-07 01:50:00       7.21  21.313683\n",
              "3  2014-10-07 02:00:00       6.75  18.031418\n",
              "4  2014-10-07 02:10:00       6.52  16.593281\n",
              "5  2014-10-07 02:20:00       5.94  11.799710\n",
              "6  2014-10-07 02:30:00       5.62   9.668083\n",
              "7  2014-10-07 02:40:00       5.74  10.459349\n",
              "8  2014-10-07 02:50:00       5.65  11.492787\n",
              "9  2014-10-07 03:00:00       6.06  14.288767"
            ]
          },
          "metadata": {},
          "execution_count": 163
        }
      ]
    },
    {
      "cell_type": "code",
      "source": [
        "print(\"Estadisticos descriptivos\")\n",
        "print(\"Las medias son:\\n\", df2.mean())\n",
        "print(\"Las medianas son:\\n\", df2.median())\n",
        "print(\"Valor minimo de velocidad de viento:\", df2['WindSpeed'].min())\n",
        "print(\"Valor minimo de Potencia:\", df2['Power'].min())\n",
        "print(\"Valor maximo de velocidad de viento:\", df2['WindSpeed'].max())\n",
        "print(\"Valor maximo de Potencia:\", df2['Power'].max())"
      ],
      "metadata": {
        "colab": {
          "base_uri": "https://localhost:8080/"
        },
        "id": "TqlFplUb2EOl",
        "outputId": "e513d22a-59cc-4559-d51a-a6aab4dfc39e"
      },
      "execution_count": null,
      "outputs": [
        {
          "output_type": "stream",
          "name": "stdout",
          "text": [
            "Estadisticos descriptivos\n",
            "Las medias son:\n",
            " WindSpeed     6.863497\n",
            "Power        30.415774\n",
            "dtype: float64\n",
            "Las medianas son:\n",
            " WindSpeed     6.670000\n",
            "Power        22.314745\n",
            "dtype: float64\n",
            "Valor minimo de velocidad de viento: 0.09\n",
            "Valor minimo de Potencia: -0.00712269160040405\n",
            "Valor maximo de velocidad de viento: 19.79\n",
            "Valor maximo de Potencia: 100.0\n"
          ]
        }
      ]
    },
    {
      "cell_type": "code",
      "source": [
        "df2['Fecha'], df2['Hora'] = df2['Time'].str.split(' ', 1).str\n"
      ],
      "metadata": {
        "colab": {
          "base_uri": "https://localhost:8080/"
        },
        "id": "4k0HmP_H50md",
        "outputId": "f63d5b61-5845-4cbc-9f18-0c52bfb48171"
      },
      "execution_count": null,
      "outputs": [
        {
          "output_type": "stream",
          "name": "stderr",
          "text": [
            "/usr/local/lib/python3.7/dist-packages/ipykernel_launcher.py:1: FutureWarning: Columnar iteration over characters will be deprecated in future releases.\n",
            "  \"\"\"Entry point for launching an IPython kernel.\n"
          ]
        }
      ]
    },
    {
      "cell_type": "code",
      "source": [
        "df2"
      ],
      "metadata": {
        "colab": {
          "base_uri": "https://localhost:8080/",
          "height": 423
        },
        "id": "07PRq2Fw7Nsy",
        "outputId": "e39978c5-a3de-4f41-d4f4-37d3082b61e2"
      },
      "execution_count": null,
      "outputs": [
        {
          "output_type": "execute_result",
          "data": {
            "text/html": [
              "\n",
              "  <div id=\"df-38c638e3-7fa1-4a68-ab15-abbf7828c84f\">\n",
              "    <div class=\"colab-df-container\">\n",
              "      <div>\n",
              "<style scoped>\n",
              "    .dataframe tbody tr th:only-of-type {\n",
              "        vertical-align: middle;\n",
              "    }\n",
              "\n",
              "    .dataframe tbody tr th {\n",
              "        vertical-align: top;\n",
              "    }\n",
              "\n",
              "    .dataframe thead th {\n",
              "        text-align: right;\n",
              "    }\n",
              "</style>\n",
              "<table border=\"1\" class=\"dataframe\">\n",
              "  <thead>\n",
              "    <tr style=\"text-align: right;\">\n",
              "      <th></th>\n",
              "      <th>Time</th>\n",
              "      <th>WindSpeed</th>\n",
              "      <th>Power</th>\n",
              "      <th>Fecha</th>\n",
              "      <th>Hora</th>\n",
              "    </tr>\n",
              "  </thead>\n",
              "  <tbody>\n",
              "    <tr>\n",
              "      <th>0</th>\n",
              "      <td>2014-10-07 01:20:00</td>\n",
              "      <td>8.22</td>\n",
              "      <td>40.526173</td>\n",
              "      <td>2014-10-07</td>\n",
              "      <td>01:20:00</td>\n",
              "    </tr>\n",
              "    <tr>\n",
              "      <th>1</th>\n",
              "      <td>2014-10-07 01:30:00</td>\n",
              "      <td>8.09</td>\n",
              "      <td>38.552540</td>\n",
              "      <td>2014-10-07</td>\n",
              "      <td>01:30:00</td>\n",
              "    </tr>\n",
              "    <tr>\n",
              "      <th>2</th>\n",
              "      <td>2014-10-07 01:50:00</td>\n",
              "      <td>7.21</td>\n",
              "      <td>21.313683</td>\n",
              "      <td>2014-10-07</td>\n",
              "      <td>01:50:00</td>\n",
              "    </tr>\n",
              "    <tr>\n",
              "      <th>3</th>\n",
              "      <td>2014-10-07 02:00:00</td>\n",
              "      <td>6.75</td>\n",
              "      <td>18.031418</td>\n",
              "      <td>2014-10-07</td>\n",
              "      <td>02:00:00</td>\n",
              "    </tr>\n",
              "    <tr>\n",
              "      <th>4</th>\n",
              "      <td>2014-10-07 02:10:00</td>\n",
              "      <td>6.52</td>\n",
              "      <td>16.593281</td>\n",
              "      <td>2014-10-07</td>\n",
              "      <td>02:10:00</td>\n",
              "    </tr>\n",
              "    <tr>\n",
              "      <th>...</th>\n",
              "      <td>...</td>\n",
              "      <td>...</td>\n",
              "      <td>...</td>\n",
              "      <td>...</td>\n",
              "      <td>...</td>\n",
              "    </tr>\n",
              "    <tr>\n",
              "      <th>39190</th>\n",
              "      <td>2015-10-06 23:10:00</td>\n",
              "      <td>7.45</td>\n",
              "      <td>30.580953</td>\n",
              "      <td>2015-10-06</td>\n",
              "      <td>23:10:00</td>\n",
              "    </tr>\n",
              "    <tr>\n",
              "      <th>39191</th>\n",
              "      <td>2015-10-06 23:20:00</td>\n",
              "      <td>7.15</td>\n",
              "      <td>28.455153</td>\n",
              "      <td>2015-10-06</td>\n",
              "      <td>23:20:00</td>\n",
              "    </tr>\n",
              "    <tr>\n",
              "      <th>39192</th>\n",
              "      <td>2015-10-06 23:30:00</td>\n",
              "      <td>7.27</td>\n",
              "      <td>30.080422</td>\n",
              "      <td>2015-10-06</td>\n",
              "      <td>23:30:00</td>\n",
              "    </tr>\n",
              "    <tr>\n",
              "      <th>39193</th>\n",
              "      <td>2015-10-06 23:40:00</td>\n",
              "      <td>8.19</td>\n",
              "      <td>42.483618</td>\n",
              "      <td>2015-10-06</td>\n",
              "      <td>23:40:00</td>\n",
              "    </tr>\n",
              "    <tr>\n",
              "      <th>39194</th>\n",
              "      <td>2015-10-06 23:50:00</td>\n",
              "      <td>7.85</td>\n",
              "      <td>38.560957</td>\n",
              "      <td>2015-10-06</td>\n",
              "      <td>23:50:00</td>\n",
              "    </tr>\n",
              "  </tbody>\n",
              "</table>\n",
              "<p>39195 rows × 5 columns</p>\n",
              "</div>\n",
              "      <button class=\"colab-df-convert\" onclick=\"convertToInteractive('df-38c638e3-7fa1-4a68-ab15-abbf7828c84f')\"\n",
              "              title=\"Convert this dataframe to an interactive table.\"\n",
              "              style=\"display:none;\">\n",
              "        \n",
              "  <svg xmlns=\"http://www.w3.org/2000/svg\" height=\"24px\"viewBox=\"0 0 24 24\"\n",
              "       width=\"24px\">\n",
              "    <path d=\"M0 0h24v24H0V0z\" fill=\"none\"/>\n",
              "    <path d=\"M18.56 5.44l.94 2.06.94-2.06 2.06-.94-2.06-.94-.94-2.06-.94 2.06-2.06.94zm-11 1L8.5 8.5l.94-2.06 2.06-.94-2.06-.94L8.5 2.5l-.94 2.06-2.06.94zm10 10l.94 2.06.94-2.06 2.06-.94-2.06-.94-.94-2.06-.94 2.06-2.06.94z\"/><path d=\"M17.41 7.96l-1.37-1.37c-.4-.4-.92-.59-1.43-.59-.52 0-1.04.2-1.43.59L10.3 9.45l-7.72 7.72c-.78.78-.78 2.05 0 2.83L4 21.41c.39.39.9.59 1.41.59.51 0 1.02-.2 1.41-.59l7.78-7.78 2.81-2.81c.8-.78.8-2.07 0-2.86zM5.41 20L4 18.59l7.72-7.72 1.47 1.35L5.41 20z\"/>\n",
              "  </svg>\n",
              "      </button>\n",
              "      \n",
              "  <style>\n",
              "    .colab-df-container {\n",
              "      display:flex;\n",
              "      flex-wrap:wrap;\n",
              "      gap: 12px;\n",
              "    }\n",
              "\n",
              "    .colab-df-convert {\n",
              "      background-color: #E8F0FE;\n",
              "      border: none;\n",
              "      border-radius: 50%;\n",
              "      cursor: pointer;\n",
              "      display: none;\n",
              "      fill: #1967D2;\n",
              "      height: 32px;\n",
              "      padding: 0 0 0 0;\n",
              "      width: 32px;\n",
              "    }\n",
              "\n",
              "    .colab-df-convert:hover {\n",
              "      background-color: #E2EBFA;\n",
              "      box-shadow: 0px 1px 2px rgba(60, 64, 67, 0.3), 0px 1px 3px 1px rgba(60, 64, 67, 0.15);\n",
              "      fill: #174EA6;\n",
              "    }\n",
              "\n",
              "    [theme=dark] .colab-df-convert {\n",
              "      background-color: #3B4455;\n",
              "      fill: #D2E3FC;\n",
              "    }\n",
              "\n",
              "    [theme=dark] .colab-df-convert:hover {\n",
              "      background-color: #434B5C;\n",
              "      box-shadow: 0px 1px 3px 1px rgba(0, 0, 0, 0.15);\n",
              "      filter: drop-shadow(0px 1px 2px rgba(0, 0, 0, 0.3));\n",
              "      fill: #FFFFFF;\n",
              "    }\n",
              "  </style>\n",
              "\n",
              "      <script>\n",
              "        const buttonEl =\n",
              "          document.querySelector('#df-38c638e3-7fa1-4a68-ab15-abbf7828c84f button.colab-df-convert');\n",
              "        buttonEl.style.display =\n",
              "          google.colab.kernel.accessAllowed ? 'block' : 'none';\n",
              "\n",
              "        async function convertToInteractive(key) {\n",
              "          const element = document.querySelector('#df-38c638e3-7fa1-4a68-ab15-abbf7828c84f');\n",
              "          const dataTable =\n",
              "            await google.colab.kernel.invokeFunction('convertToInteractive',\n",
              "                                                     [key], {});\n",
              "          if (!dataTable) return;\n",
              "\n",
              "          const docLinkHtml = 'Like what you see? Visit the ' +\n",
              "            '<a target=\"_blank\" href=https://colab.research.google.com/notebooks/data_table.ipynb>data table notebook</a>'\n",
              "            + ' to learn more about interactive tables.';\n",
              "          element.innerHTML = '';\n",
              "          dataTable['output_type'] = 'display_data';\n",
              "          await google.colab.output.renderOutput(dataTable, element);\n",
              "          const docLink = document.createElement('div');\n",
              "          docLink.innerHTML = docLinkHtml;\n",
              "          element.appendChild(docLink);\n",
              "        }\n",
              "      </script>\n",
              "    </div>\n",
              "  </div>\n",
              "  "
            ],
            "text/plain": [
              "                      Time  WindSpeed      Power       Fecha      Hora\n",
              "0      2014-10-07 01:20:00       8.22  40.526173  2014-10-07  01:20:00\n",
              "1      2014-10-07 01:30:00       8.09  38.552540  2014-10-07  01:30:00\n",
              "2      2014-10-07 01:50:00       7.21  21.313683  2014-10-07  01:50:00\n",
              "3      2014-10-07 02:00:00       6.75  18.031418  2014-10-07  02:00:00\n",
              "4      2014-10-07 02:10:00       6.52  16.593281  2014-10-07  02:10:00\n",
              "...                    ...        ...        ...         ...       ...\n",
              "39190  2015-10-06 23:10:00       7.45  30.580953  2015-10-06  23:10:00\n",
              "39191  2015-10-06 23:20:00       7.15  28.455153  2015-10-06  23:20:00\n",
              "39192  2015-10-06 23:30:00       7.27  30.080422  2015-10-06  23:30:00\n",
              "39193  2015-10-06 23:40:00       8.19  42.483618  2015-10-06  23:40:00\n",
              "39194  2015-10-06 23:50:00       7.85  38.560957  2015-10-06  23:50:00\n",
              "\n",
              "[39195 rows x 5 columns]"
            ]
          },
          "metadata": {},
          "execution_count": 166
        }
      ]
    },
    {
      "cell_type": "code",
      "source": [
        "df2=df2.drop(['Time'], axis=1)\n",
        "df2"
      ],
      "metadata": {
        "colab": {
          "base_uri": "https://localhost:8080/",
          "height": 423
        },
        "id": "cQfl0p8M7muT",
        "outputId": "fb21617b-84bc-44cd-9aa1-49b7ec909052"
      },
      "execution_count": null,
      "outputs": [
        {
          "output_type": "execute_result",
          "data": {
            "text/html": [
              "\n",
              "  <div id=\"df-f01cd241-c3ca-4f93-b021-f87fcb2aa64c\">\n",
              "    <div class=\"colab-df-container\">\n",
              "      <div>\n",
              "<style scoped>\n",
              "    .dataframe tbody tr th:only-of-type {\n",
              "        vertical-align: middle;\n",
              "    }\n",
              "\n",
              "    .dataframe tbody tr th {\n",
              "        vertical-align: top;\n",
              "    }\n",
              "\n",
              "    .dataframe thead th {\n",
              "        text-align: right;\n",
              "    }\n",
              "</style>\n",
              "<table border=\"1\" class=\"dataframe\">\n",
              "  <thead>\n",
              "    <tr style=\"text-align: right;\">\n",
              "      <th></th>\n",
              "      <th>WindSpeed</th>\n",
              "      <th>Power</th>\n",
              "      <th>Fecha</th>\n",
              "      <th>Hora</th>\n",
              "    </tr>\n",
              "  </thead>\n",
              "  <tbody>\n",
              "    <tr>\n",
              "      <th>0</th>\n",
              "      <td>8.22</td>\n",
              "      <td>40.526173</td>\n",
              "      <td>2014-10-07</td>\n",
              "      <td>01:20:00</td>\n",
              "    </tr>\n",
              "    <tr>\n",
              "      <th>1</th>\n",
              "      <td>8.09</td>\n",
              "      <td>38.552540</td>\n",
              "      <td>2014-10-07</td>\n",
              "      <td>01:30:00</td>\n",
              "    </tr>\n",
              "    <tr>\n",
              "      <th>2</th>\n",
              "      <td>7.21</td>\n",
              "      <td>21.313683</td>\n",
              "      <td>2014-10-07</td>\n",
              "      <td>01:50:00</td>\n",
              "    </tr>\n",
              "    <tr>\n",
              "      <th>3</th>\n",
              "      <td>6.75</td>\n",
              "      <td>18.031418</td>\n",
              "      <td>2014-10-07</td>\n",
              "      <td>02:00:00</td>\n",
              "    </tr>\n",
              "    <tr>\n",
              "      <th>4</th>\n",
              "      <td>6.52</td>\n",
              "      <td>16.593281</td>\n",
              "      <td>2014-10-07</td>\n",
              "      <td>02:10:00</td>\n",
              "    </tr>\n",
              "    <tr>\n",
              "      <th>...</th>\n",
              "      <td>...</td>\n",
              "      <td>...</td>\n",
              "      <td>...</td>\n",
              "      <td>...</td>\n",
              "    </tr>\n",
              "    <tr>\n",
              "      <th>39190</th>\n",
              "      <td>7.45</td>\n",
              "      <td>30.580953</td>\n",
              "      <td>2015-10-06</td>\n",
              "      <td>23:10:00</td>\n",
              "    </tr>\n",
              "    <tr>\n",
              "      <th>39191</th>\n",
              "      <td>7.15</td>\n",
              "      <td>28.455153</td>\n",
              "      <td>2015-10-06</td>\n",
              "      <td>23:20:00</td>\n",
              "    </tr>\n",
              "    <tr>\n",
              "      <th>39192</th>\n",
              "      <td>7.27</td>\n",
              "      <td>30.080422</td>\n",
              "      <td>2015-10-06</td>\n",
              "      <td>23:30:00</td>\n",
              "    </tr>\n",
              "    <tr>\n",
              "      <th>39193</th>\n",
              "      <td>8.19</td>\n",
              "      <td>42.483618</td>\n",
              "      <td>2015-10-06</td>\n",
              "      <td>23:40:00</td>\n",
              "    </tr>\n",
              "    <tr>\n",
              "      <th>39194</th>\n",
              "      <td>7.85</td>\n",
              "      <td>38.560957</td>\n",
              "      <td>2015-10-06</td>\n",
              "      <td>23:50:00</td>\n",
              "    </tr>\n",
              "  </tbody>\n",
              "</table>\n",
              "<p>39195 rows × 4 columns</p>\n",
              "</div>\n",
              "      <button class=\"colab-df-convert\" onclick=\"convertToInteractive('df-f01cd241-c3ca-4f93-b021-f87fcb2aa64c')\"\n",
              "              title=\"Convert this dataframe to an interactive table.\"\n",
              "              style=\"display:none;\">\n",
              "        \n",
              "  <svg xmlns=\"http://www.w3.org/2000/svg\" height=\"24px\"viewBox=\"0 0 24 24\"\n",
              "       width=\"24px\">\n",
              "    <path d=\"M0 0h24v24H0V0z\" fill=\"none\"/>\n",
              "    <path d=\"M18.56 5.44l.94 2.06.94-2.06 2.06-.94-2.06-.94-.94-2.06-.94 2.06-2.06.94zm-11 1L8.5 8.5l.94-2.06 2.06-.94-2.06-.94L8.5 2.5l-.94 2.06-2.06.94zm10 10l.94 2.06.94-2.06 2.06-.94-2.06-.94-.94-2.06-.94 2.06-2.06.94z\"/><path d=\"M17.41 7.96l-1.37-1.37c-.4-.4-.92-.59-1.43-.59-.52 0-1.04.2-1.43.59L10.3 9.45l-7.72 7.72c-.78.78-.78 2.05 0 2.83L4 21.41c.39.39.9.59 1.41.59.51 0 1.02-.2 1.41-.59l7.78-7.78 2.81-2.81c.8-.78.8-2.07 0-2.86zM5.41 20L4 18.59l7.72-7.72 1.47 1.35L5.41 20z\"/>\n",
              "  </svg>\n",
              "      </button>\n",
              "      \n",
              "  <style>\n",
              "    .colab-df-container {\n",
              "      display:flex;\n",
              "      flex-wrap:wrap;\n",
              "      gap: 12px;\n",
              "    }\n",
              "\n",
              "    .colab-df-convert {\n",
              "      background-color: #E8F0FE;\n",
              "      border: none;\n",
              "      border-radius: 50%;\n",
              "      cursor: pointer;\n",
              "      display: none;\n",
              "      fill: #1967D2;\n",
              "      height: 32px;\n",
              "      padding: 0 0 0 0;\n",
              "      width: 32px;\n",
              "    }\n",
              "\n",
              "    .colab-df-convert:hover {\n",
              "      background-color: #E2EBFA;\n",
              "      box-shadow: 0px 1px 2px rgba(60, 64, 67, 0.3), 0px 1px 3px 1px rgba(60, 64, 67, 0.15);\n",
              "      fill: #174EA6;\n",
              "    }\n",
              "\n",
              "    [theme=dark] .colab-df-convert {\n",
              "      background-color: #3B4455;\n",
              "      fill: #D2E3FC;\n",
              "    }\n",
              "\n",
              "    [theme=dark] .colab-df-convert:hover {\n",
              "      background-color: #434B5C;\n",
              "      box-shadow: 0px 1px 3px 1px rgba(0, 0, 0, 0.15);\n",
              "      filter: drop-shadow(0px 1px 2px rgba(0, 0, 0, 0.3));\n",
              "      fill: #FFFFFF;\n",
              "    }\n",
              "  </style>\n",
              "\n",
              "      <script>\n",
              "        const buttonEl =\n",
              "          document.querySelector('#df-f01cd241-c3ca-4f93-b021-f87fcb2aa64c button.colab-df-convert');\n",
              "        buttonEl.style.display =\n",
              "          google.colab.kernel.accessAllowed ? 'block' : 'none';\n",
              "\n",
              "        async function convertToInteractive(key) {\n",
              "          const element = document.querySelector('#df-f01cd241-c3ca-4f93-b021-f87fcb2aa64c');\n",
              "          const dataTable =\n",
              "            await google.colab.kernel.invokeFunction('convertToInteractive',\n",
              "                                                     [key], {});\n",
              "          if (!dataTable) return;\n",
              "\n",
              "          const docLinkHtml = 'Like what you see? Visit the ' +\n",
              "            '<a target=\"_blank\" href=https://colab.research.google.com/notebooks/data_table.ipynb>data table notebook</a>'\n",
              "            + ' to learn more about interactive tables.';\n",
              "          element.innerHTML = '';\n",
              "          dataTable['output_type'] = 'display_data';\n",
              "          await google.colab.output.renderOutput(dataTable, element);\n",
              "          const docLink = document.createElement('div');\n",
              "          docLink.innerHTML = docLinkHtml;\n",
              "          element.appendChild(docLink);\n",
              "        }\n",
              "      </script>\n",
              "    </div>\n",
              "  </div>\n",
              "  "
            ],
            "text/plain": [
              "       WindSpeed      Power       Fecha      Hora\n",
              "0           8.22  40.526173  2014-10-07  01:20:00\n",
              "1           8.09  38.552540  2014-10-07  01:30:00\n",
              "2           7.21  21.313683  2014-10-07  01:50:00\n",
              "3           6.75  18.031418  2014-10-07  02:00:00\n",
              "4           6.52  16.593281  2014-10-07  02:10:00\n",
              "...          ...        ...         ...       ...\n",
              "39190       7.45  30.580953  2015-10-06  23:10:00\n",
              "39191       7.15  28.455153  2015-10-06  23:20:00\n",
              "39192       7.27  30.080422  2015-10-06  23:30:00\n",
              "39193       8.19  42.483618  2015-10-06  23:40:00\n",
              "39194       7.85  38.560957  2015-10-06  23:50:00\n",
              "\n",
              "[39195 rows x 4 columns]"
            ]
          },
          "metadata": {},
          "execution_count": 167
        }
      ]
    },
    {
      "cell_type": "code",
      "source": [
        "df2.plot('Fecha','WindSpeed', figsize=(15,7))\n"
      ],
      "metadata": {
        "colab": {
          "base_uri": "https://localhost:8080/",
          "height": 420
        },
        "id": "UOqfRZsK7u4Y",
        "outputId": "bb3229ff-b74d-41ff-e942-e998483c392a"
      },
      "execution_count": null,
      "outputs": [
        {
          "output_type": "execute_result",
          "data": {
            "text/plain": [
              "<matplotlib.axes._subplots.AxesSubplot at 0x7f42adec8810>"
            ]
          },
          "metadata": {},
          "execution_count": 168
        },
        {
          "output_type": "display_data",
          "data": {
            "image/png": "[encoded data removed]",
            "text/plain": [
              "<Figure size 1080x504 with 1 Axes>"
            ]
          },
          "metadata": {
            "needs_background": "light"
          }
        }
      ]
    },
    {
      "cell_type": "code",
      "source": [
        "df2.plot('Fecha','Power', figsize=(15,7))"
      ],
      "metadata": {
        "colab": {
          "base_uri": "https://localhost:8080/",
          "height": 422
        },
        "id": "1gBL1p528fz8",
        "outputId": "99589e6c-0081-4598-e684-3efa94c74181"
      },
      "execution_count": null,
      "outputs": [
        {
          "output_type": "execute_result",
          "data": {
            "text/plain": [
              "<matplotlib.axes._subplots.AxesSubplot at 0x7f42ad4c2c90>"
            ]
          },
          "metadata": {},
          "execution_count": 169
        },
        {
          "output_type": "display_data",
          "data": {
            "image/png": "[encoded data removed]",
            "text/plain": [
              "<Figure size 1080x504 with 1 Axes>"
            ]
          },
          "metadata": {
            "needs_background": "light"
          }
        }
      ]
    },
    {
      "cell_type": "code",
      "source": [
        "sns.histplot(df2['Power'])"
      ],
      "metadata": {
        "colab": {
          "base_uri": "https://localhost:8080/",
          "height": 298
        },
        "id": "YPvD9-WKSoBz",
        "outputId": "0c9859a8-188e-4fe6-ddc6-86b6a5dce8e2"
      },
      "execution_count": null,
      "outputs": [
        {
          "output_type": "execute_result",
          "data": {
            "text/plain": [
              "<matplotlib.axes._subplots.AxesSubplot at 0x7f42ab1edd10>"
            ]
          },
          "metadata": {},
          "execution_count": 172
        },
        {
          "output_type": "display_data",
          "data": {
            "image/png": "[encoded data removed]",
            "text/plain": [
              "<Figure size 432x288 with 1 Axes>"
            ]
          },
          "metadata": {
            "needs_background": "light"
          }
        }
      ]
    },
    {
      "cell_type": "code",
      "source": [
        "sns.histplot(df2['WindSpeed'])"
      ],
      "metadata": {
        "colab": {
          "base_uri": "https://localhost:8080/",
          "height": 298
        },
        "id": "jtaLoT1nSyLk",
        "outputId": "ff3a2bf6-6474-4215-c62a-768fb094cb1b"
      },
      "execution_count": null,
      "outputs": [
        {
          "output_type": "execute_result",
          "data": {
            "text/plain": [
              "<matplotlib.axes._subplots.AxesSubplot at 0x7f42aa3d1790>"
            ]
          },
          "metadata": {},
          "execution_count": 173
        },
        {
          "output_type": "display_data",
          "data": {
            "image/png": "[encoded data removed]",
            "text/plain": [
              "<Figure size 432x288 with 1 Axes>"
            ]
          },
          "metadata": {
            "needs_background": "light"
          }
        }
      ]
    },
    {
      "cell_type": "code",
      "source": [
        "sns.boxplot(df2['Power'])"
      ],
      "metadata": {
        "colab": {
          "base_uri": "https://localhost:8080/",
          "height": 355
        },
        "id": "5Ws1ojlYUdfR",
        "outputId": "5503cba6-0a45-45ac-aad1-0d5ad1698ed6"
      },
      "execution_count": null,
      "outputs": [
        {
          "output_type": "stream",
          "name": "stderr",
          "text": [
            "/usr/local/lib/python3.7/dist-packages/seaborn/_decorators.py:43: FutureWarning: Pass the following variable as a keyword arg: x. From version 0.12, the only valid positional argument will be `data`, and passing other arguments without an explicit keyword will result in an error or misinterpretation.\n",
            "  FutureWarning\n"
          ]
        },
        {
          "output_type": "execute_result",
          "data": {
            "text/plain": [
              "<matplotlib.axes._subplots.AxesSubplot at 0x7f429b86d9d0>"
            ]
          },
          "metadata": {},
          "execution_count": 183
        },
        {
          "output_type": "display_data",
          "data": {
            "image/png": "[encoded data removed]",
            "text/plain": [
              "<Figure size 432x288 with 1 Axes>"
            ]
          },
          "metadata": {
            "needs_background": "light"
          }
        }
      ]
    },
    {
      "cell_type": "code",
      "source": [
        "sns.boxplot(df2['WindSpeed'])"
      ],
      "metadata": {
        "colab": {
          "base_uri": "https://localhost:8080/",
          "height": 355
        },
        "id": "xLtQomiMUUk8",
        "outputId": "ecab8d5b-1116-4635-d3c9-d84d2664cfa9"
      },
      "execution_count": null,
      "outputs": [
        {
          "output_type": "stream",
          "name": "stderr",
          "text": [
            "/usr/local/lib/python3.7/dist-packages/seaborn/_decorators.py:43: FutureWarning: Pass the following variable as a keyword arg: x. From version 0.12, the only valid positional argument will be `data`, and passing other arguments without an explicit keyword will result in an error or misinterpretation.\n",
            "  FutureWarning\n"
          ]
        },
        {
          "output_type": "execute_result",
          "data": {
            "text/plain": [
              "<matplotlib.axes._subplots.AxesSubplot at 0x7f42a8160f10>"
            ]
          },
          "metadata": {},
          "execution_count": 182
        },
        {
          "output_type": "display_data",
          "data": {
            "image/png": "[encoded data removed]",
            "text/plain": [
              "<Figure size 432x288 with 1 Axes>"
            ]
          },
          "metadata": {
            "needs_background": "light"
          }
        }
      ]
    },
    {
      "cell_type": "code",
      "source": [
        "#Diagramas de caja\n",
        "sns.boxplot(x='WindSpeed', y='Power', data=df2)"
      ],
      "metadata": {
        "colab": {
          "base_uri": "https://localhost:8080/",
          "height": 298
        },
        "id": "5qM5_Cb7VGCd",
        "outputId": "12a616c2-2536-40ff-f99b-1563bde08e73"
      },
      "execution_count": null,
      "outputs": [
        {
          "output_type": "execute_result",
          "data": {
            "text/plain": [
              "<matplotlib.axes._subplots.AxesSubplot at 0x7f4245ae02d0>"
            ]
          },
          "metadata": {},
          "execution_count": 186
        },
        {
          "output_type": "display_data",
          "data": {
            "image/png": "[encoded data removed]",
            "text/plain": [
              "<Figure size 432x288 with 1 Axes>"
            ]
          },
          "metadata": {
            "needs_background": "light"
          }
        }
      ]
    },
    {
      "cell_type": "markdown",
      "source": [
        "Potencia en funcion de area\n",
        "\n",
        "![potencia_funcion_area.JPG](data:image/jpeg;base64,/9j/4AAQSkZJRgABAQEAeAB4AAD/4RDaRXhpZgAATU0AKgAAAAgABAE7AAIAAAAFAAAISodpAAQAAAABAAAIUJydAAEAAAAKAAAQyOocAAcAAAgMAAAAPgAAAAAc6gAAAAgAAAAAAAAAAAAAAAAAAAAAAAAAAAAAAAAAAAAAAAAAAAAAAAAAAAAAAAAAAAAAAAAAAAAAAAAAAAAAAAAAAAAAAAAAAAAAAAAAAAAAAAAAAAAAAAAAAAAAAAAAAAAAAAAAAAAAAAAAAAAAAAAAAAAAAAAAAAAAAAAAAAAAAAAAAAAAAAAAAAAAAAAAAAAAAAAAAAAAAAAAAAAAAAAAAAAAAAAAAAAAAAAAAAAAAAAAAAAAAAAAAAAAAAAAAAAAAAAAAAAAAAAAAAAAAAAAAAAAAAAAAAAAAAAAAAAAAAAAAAAAAAAAAAAAAAAAAAAAAAAAAAAAAAAAAAAAAAAAAAAAAAAAAAAAAAAAAAAAAAAAAAAAAAAAAAAAAAAAAAAAAAAAAAAAAAAAAAAAAAAAAAAAAAAAAAAAAAAAAAAAAAAAAAAAAAAAAAAAAAAAAAAAAAAAAAAAAAAAAAAAAAAAAAAAAAAAAAAAAAAAAAAAAAAAAAAAAAAAAAAAAAAAAAAAAAAAAAAAAAAAAAAAAAAAAAAAAAAAAAAAAAAAAAAAAAAAAAAAAAAAAAAAAAAAAAAAAAAAAAAAAAAAAAAAAAAAAAAAAAAAAAAAAAAAAAAAAAAAAAAAAAAAAAAAAAAAAAAAAAAAAAAAAAAAAAAAAAAAAAAAAAAAAAAAAAAAAAAAAAAAAAAAAAAAAAAAAAAAAAAAAAAAAAAAAAAAAAAAAAAAAAAAAAAAAAAAAAAAAAAAAAAAAAAAAAAAAAAAAAAAAAAAAAAAAAAAAAAAAAAAAAAAAAAAAAAAAAAAAAAAAAAAAAAAAAAAAAAAAAAAAAAAAAAAAAAAAAAAAAAAAAAAAAAAAAAAAAAAAAAAAAAAAAAAAAAAAAAAAAAAAAAAAAAAAAAAAAAAAAAAAAAAAAAAAAAAAAAAAAAAAAAAAAAAAAAAAAAAAAAAAAAAAAAAAAAAAAAAAAAAAAAAAAAAAAAAAAAAAAAAAAAAAAAAAAAAAAAAAAAAAAAAAAAAAAAAAAAAAAAAAAAAAAAAAAAAAAAAAAAAAAAAAAAAAAAAAAAAAAAAAAAAAAAAAAAAAAAAAAAAAAAAAAAAAAAAAAAAAAAAAAAAAAAAAAAAAAAAAAAAAAAAAAAAAAAAAAAAAAAAAAAAAAAAAAAAAAAAAAAAAAAAAAAAAAAAAAAAAAAAAAAAAAAAAAAAAAAAAAAAAAAAAAAAAAAAAAAAAAAAAAAAAAAAAAAAAAAAAAAAAAAAAAAAAAAAAAAAAAAAAAAAAAAAAAAAAAAAAAAAAAAAAAAAAAAAAAAAAAAAAAAAAAAAAAAAAAAAAAAAAAAAAAAAAAAAAAAAAAAAAAAAAAAAAAAAAAAAAAAAAAAAAAAAAAAAAAAAAAAAAAAAAAAAAAAAAAAAAAAAAAAAAAAAAAAAAAAAAAAAAAAAAAAAAAAAAAAAAAAAAAAAAAAAAAAAAAAAAAAAAAAAAAAAAAAAAAAAAAAAAAAAAAAAAAAAAAAAAAAAAAAAAAAAAAAAAAAAAAAAAAAAAAAAAAAAAAAAAAAAAAAAAAAAAAAAAAAAAAAAAAAAAAAAAAAAAAAAAAAAAAAAAAAAAAAAAAAAAAAAAAAAAAAAAAAAAAAAAAAAAAAAAAAAAAAAAAAAAAAAAAAAAAAAAAAAAAAAAAAAAAAAAAAAAAAAAAAAAAAAAAAAAAAAAAAAAAAAAAAAAAAAAAAAAAAAAAAAAAAAAAAAAAAAAAAAAAAAAAAAAAAAAAAAAAAAAAAAAAAAAAAAAAAAAAAAAAAAAAAAAAAAAAAAAAAAAAAAAAAAAAAAAAAAAAAAAAAAAAAAAAAAAAAAAAAAAAAAAAAAAAAAAAAAAAAAAAAAAAAAAAAAAAAAAAAAAAAAAAAAAAAAAAAAAAAAAAAAAAAAAAAAAAAAAAAAAAAAAAAAAAAAAAAAAAAAAAAAAAAAAAAAAAAAAAAAAAAAAAAAAAAAAAAAAAAAAAAAAAAAAAAAAAAAAAAAAAAAAAAAAAAAAAAAAAAAAAAAAAAAAAAAAAAAAAAAAAAAAAAAAAAAAAAAAAAAAAAAAAAAAAAAAAAAAAAAAAAAAAAAAAAAAAAAAAAAAAAAAAAAAAAAAAAAAAAAAAAAAAAAAAAAAAAAAAAAAAAAAAAAAAAAAAAAAAAAAAAAAAAAAAAAAAAAAAAAAAAAAAAAAAAAAAAAAAAAAAAAAAAAAAAAAAAAAAAAAAAAAAAAAAAAAAAAAAAAAAAAAAAAAAAAAAAAAAAAAAAAAAAAAAAAAAAAAAAAAAAAAAAAAAAAAAAAAAAAAAAAAAAAAAAAAAAAAAAAAAAAAAAAAAAAAAAAAAAAAAAAAAAAAAAAAAAAAAAAAAAAAAAAAAAAAAAAAAAAAAAAAAAAAAAAAAAAAAAAAAAAAAAAAAAAAAAAAAAAAAAAAAAAAAAAAAAAAAAAAAAAAAAAAAAAAAAAAAAAAAAAAAAAAAAAAAAAAAAAAAAAAAAAAAAAAAAAAAAAAAAAAAAAAAAAAAAAAAAAAAAAAAAAAAAAAAAAAAAAAAAAAAAAAAAAAAAAAAAAAAAAAAAAAAAAAAAAAAAAAAAAAAAAAAAAAAAAAAAAAAAAAAAAAAAAAAAAAAAAAAAAAAAAAAAAAAAAAAAAAAAAAAAAAAAAAAAAAAAAAAAAAAAAAAAAAAAAAAAAAAAAAAAAAAAAAAAAAAAAAAAAAAAAAAAAAAAAAAAAAAAAAAAAAAAAAAAAAAAAAAAAAEFzdXMAAAAFkAMAAgAAABQAABCekAQAAgAAABQAABCykpEAAgAAAAM1MwAAkpIAAgAAAAM1MwAA6hwABwAACAwAAAiSAAAAABzqAAAACAAAAAAAAAAAAAAAAAAAAAAAAAAAAAAAAAAAAAAAAAAAAAAAAAAAAAAAAAAAAAAAAAAAAAAAAAAAAAAAAAAAAAAAAAAAAAAAAAAAAAAAAAAAAAAAAAAAAAAAAAAAAAAAAAAAAAAAAAAAAAAAAAAAAAAAAAAAAAAAAAAAAAAAAAAAAAAAAAAAAAAAAAAAAAAAAAAAAAAAAAAAAAAAAAAAAAAAAAAAAAAAAAAAAAAAAAAAAAAAAAAAAAAAAAAAAAAAAAAAAAAAAAAAAAAAAAAAAAAAAAAAAAAAAAAAAAAAAAAAAAAAAAAAAAAAAAAAAAAAAAAAAAAAAAAAAAAAAAAAAAAAAAAAAAAAAAAAAAAAAAAAAAAAAAAAAAAAAAAAAAAAAAAAAAAAAAAAAAAAAAAAAAAAAAAAAAAAAAAAAAAAAAAAAAAAAAAAAAAAAAAAAAAAAAAAAAAAAAAAAAAAAAAAAAAAAAAAAAAAAAAAAAAAAAAAAAAAAAAAAAAAAAAAAAAAAAAAAAAAAAAAAAAAAAAAAAAAAAAAAAAAAAAAAAAAAAAAAAAAAAAAAAAAAAAAAAAAAAAAAAAAAAAAAAAAAAAAAAAAAAAAAAAAAAAAAAAAAAAAAAAAAAAAAAAAAAAAAAAAAAAAAAAAAAAAAAAAAAAAAAAAAAAAAAAAAAAAAAAAAAAAAAAAAAAAAAAAAAAAAAAAAAAAAAAAAAAAAAAAAAAAAAAAAAAAAAAAAAAAAAAAAAAAAAAAAAAAAAAAAAAAAAAAAAAAAAAAAAAAAAAAAAAAAAAAAAAAAAAAAAAAAAAAAAAAAAAAAAAAAAAAAAAAAAAAAAAAAAAAAAAAAAAAAAAAAAAAAAAAAAAAAAAAAAAAAAAAAAAAAAAAAAAAAAAAAAAAAAAAAAAAAAAAAAAAAAAAAAAAAAAAAAAAAAAAAAAAAAAAAAAAAAAAAAAAAAAAAAAAAAAAAAAAAAAAAAAAAAAAAAAAAAAAAAAAAAAAAAAAAAAAAAAAAAAAAAAAAAAAAAAAAAAAAAAAAAAAAAAAAAAAAAAAAAAAAAAAAAAAAAAAAAAAAAAAAAAAAAAAAAAAAAAAAAAAAAAAAAAAAAAAAAAAAAAAAAAAAAAAAAAAAAAAAAAAAAAAAAAAAAAAAAAAAAAAAAAAAAAAAAAAAAAAAAAAAAAAAAAAAAAAAAAAAAAAAAAAAAAAAAAAAAAAAAAAAAAAAAAAAAAAAAAAAAAAAAAAAAAAAAAAAAAAAAAAAAAAAAAAAAAAAAAAAAAAAAAAAAAAAAAAAAAAAAAAAAAAAAAAAAAAAAAAAAAAAAAAAAAAAAAAAAAAAAAAAAAAAAAAAAAAAAAAAAAAAAAAAAAAAAAAAAAAAAAAAAAAAAAAAAAAAAAAAAAAAAAAAAAAAAAAAAAAAAAAAAAAAAAAAAAAAAAAAAAAAAAAAAAAAAAAAAAAAAAAAAAAAAAAAAAAAAAAAAAAAAAAAAAAAAAAAAAAAAAAAAAAAAAAAAAAAAAAAAAAAAAAAAAAAAAAAAAAAAAAAAAAAAAAAAAAAAAAAAAAAAAAAAAAAAAAAAAAAAAAAAAAAAAAAAAAAAAAAAAAAAAAAAAAAAAAAAAAAAAAAAAAAAAAAAAAAAAAAAAAAAAAAAAAAAAAAAAAAAAAAAAAAAAAAAAAAAAAAAAAAAAAAAAAAAAAAAAAAAAAAAAAAAAAAAAAAAAAAAAAAAAAAAAAAAAAAAAAAAAAAAAAAAAAAAAAAAAAAAAAAAAAAAAAAAAAAAAAAAAAAAAAAAAAAAAAAAAAAAAAAAAAAAAAAAAAAAAAAAAAAAAAAAAAAAAAAAAAAAAAAAAAAAAAAAAAAAAAAAAAAAAAAAAAAAAAAAAAAAAAAAAAAAAAAAAAAAAAAAAAAAAAAAAAAAAAAAAAAAAAAAAAAAAAAAAAAAAAAAAAAAAAAAAAAAAAAAAAAAAAAAAAAAAAAAAAAAAAAAAAAAAAAAAAAAAAAAAAAAAAAAAAAAAAAAAAAAAAAAAAAAAAAAAAAAAAAAAAAAAAAAAAAAAAAAAAAAAAAAAAAAAAAAAAAAAAAAAAAAAAAAAAAAAAAAAAAAAAAAAAAAAAAAAAAAAAAAAAAAAAAAAAAAAAAAAAAAAAAAAAAAAAAAAAAAAAAAAAAAAAAAAAAAAAAAAAAAAAAAAAAAAAAAAAAAAAAAAAAAAAAAAAAAAAAAAAAAAAAAAAAAAAAAAAAAAAAAAAAAAAAAAAAAAAAAAAAAAAAAAAAAAAAAAAAAAAAAAAAAAAAAAAAAAAAAAAAAAAAAAAAAAAAAAAAAAAAAAAAAAAAAAAAAAAAAAAAAAAAAAAAAAAAAAAAAAAAAAAAAAAAAAAAAAAAAAAAAAAAAAAAAAAAAAAAAAAAAAAAAAAAAAAAAAAAAAAAAAAAAAAAAAAAAAAAAAAAAAAAAAAAAAAAAAAAAAAAAAAAAAAAAAAAAAAAAAAAAAAAAAAAAAAAAAAAAAAAAAAAAAAAAAAAAAAAAAAAAAAAAAAAAAAAAAAAAAAAAAAAAAAAAAAAAAAAAAAAAAAAAAAAAAAAAAAAAAAAAAAAAAAAAAAAAAAAAAAAAAAAAAAAAAAAAAAAAAAAAAAAAAAAAAAAAAAAAAAAAAAAAAAAAAAAAAAAAAAAAAAAAAAAAAAAAAAAAAAAAAAAAAAAAAAAAAAAAAAAAAAAAAAAAAAAAAAAAAAAAAAAAAAAAAAAAAAAAAAAAAAAAAAAAAAAAAAMjAyMjowMToxNiAxMjo0MjoxNwAyMDIyOjAxOjE2IDEyOjQyOjE3AAAAQQBzAHUAcwAAAP/hCxdodHRwOi8vbnMuYWRvYmUuY29tL3hhcC8xLjAvADw/eHBhY2tldCBiZWdpbj0n77u/JyBpZD0nVzVNME1wQ2VoaUh6cmVTek5UY3prYzlkJz8+DQo8eDp4bXBtZXRhIHhtbG5zOng9ImFkb2JlOm5zOm1ldGEvIj48cmRmOlJERiB4bWxuczpyZGY9Imh0dHA6Ly93d3cudzMub3JnLzE5OTkvMDIvMjItcmRmLXN5bnRheC1ucyMiPjxyZGY6RGVzY3JpcHRpb24gcmRmOmFib3V0PSJ1dWlkOmZhZjViZGQ1LWJhM2QtMTFkYS1hZDMxLWQzM2Q3NTE4MmYxYiIgeG1sbnM6ZGM9Imh0dHA6Ly9wdXJsLm9yZy9kYy9lbGVtZW50cy8xLjEvIi8+PHJkZjpEZXNjcmlwdGlvbiByZGY6YWJvdXQ9InV1aWQ6ZmFmNWJkZDUtYmEzZC0xMWRhLWFkMzEtZDMzZDc1MTgyZjFiIiB4bWxuczp4bXA9Imh0dHA6Ly9ucy5hZG9iZS5jb20veGFwLzEuMC8iPjx4bXA6Q3JlYXRlRGF0ZT4yMDIyLTAxLTE2VDEyOjQyOjE3LjUzNDwveG1wOkNyZWF0ZURhdGU+PC9yZGY6RGVzY3JpcHRpb24+PHJkZjpEZXNjcmlwdGlvbiByZGY6YWJvdXQ9InV1aWQ6ZmFmNWJkZDUtYmEzZC0xMWRhLWFkMzEtZDMzZDc1MTgyZjFiIiB4bWxuczpkYz0iaHR0cDovL3B1cmwub3JnL2RjL2VsZW1lbnRzLzEuMS8iPjxkYzpjcmVhdG9yPjxyZGY6U2VxIHhtbG5zOnJkZj0iaHR0cDovL3d3dy53My5vcmcvMTk5OS8wMi8yMi1yZGYtc3ludGF4LW5zIyI+PHJkZjpsaT5Bc3VzPC9yZGY6bGk+PC9yZGY6U2VxPg0KCQkJPC9kYzpjcmVhdG9yPjwvcmRmOkRlc2NyaXB0aW9uPjwvcmRmOlJERj48L3g6eG1wbWV0YT4NCiAgICAgICAgICAgICAgICAgICAgICAgICAgICAgICAgICAgICAgICAgICAgICAgICAgICAgICAgICAgICAgICAgICAgICAgICAgICAgICAgICAgICAgICAgICAgICAgICAgICAKICAgICAgICAgICAgICAgICAgICAgICAgICAgICAgICAgICAgICAgICAgICAgICAgICAgICAgICAgICAgICAgICAgICAgICAgICAgICAgICAgICAgICAgICAgICAgICAgICAgIAogICAgICAgICAgICAgICAgICAgICAgICAgICAgICAgICAgICAgICAgICAgICAgICAgICAgICAgICAgICAgICAgICAgICAgICAgICAgICAgICAgICAgICAgICAgICAgICAgICAgCiAgICAgICAgICAgICAgICAgICAgICAgICAgICAgICAgICAgICAgICAgICAgICAgICAgICAgICAgICAgICAgICAgICAgICAgICAgICAgICAgICAgICAgICAgICAgICAgICAgICAKICAgICAgICAgICAgICAgICAgICAgICAgICAgICAgICAgICAgICAgICAgICAgICAgICAgICAgICAgICAgICAgICAgICAgICAgICAgICAgICAgICAgICAgICAgICAgICAgICAgIAogICAgICAgICAgICAgICAgICAgICAgICAgICAgICAgICAgICAgICAgICAgICAgICAgICAgICAgICAgICAgICAgICAgICAgICAgICAgICAgICAgICAgICAgICAgICAgICAgICAgCiAgICAgICAgICAgICAgICAgICAgICAgICAgICAgICAgICAgICAgICAgICAgICAgICAgICAgICAgICAgICAgICAgICAgICAgICAgICAgICAgICAgICAgICAgICAgICAgICAgICAKICAgICAgICAgICAgICAgICAgICAgICAgICAgICAgICAgICAgICAgICAgICAgICAgICAgICAgICAgICAgICAgICAgICAgICAgICAgICAgICAgICAgICAgICAgICAgICAgICAgIAogICAgICAgICAgICAgICAgICAgICAgICAgICAgICAgICAgICAgICAgICAgICAgICAgICAgICAgICAgICAgICAgICAgICAgICAgICAgICAgICAgICAgICAgICAgICAgICAgICAgCiAgICAgICAgICAgICAgICAgICAgICAgICAgICAgICAgICAgICAgICAgICAgICAgICAgICAgICAgICAgICAgICAgICAgICAgICAgICAgICAgICAgICAgICAgICAgICAgICAgICAKICAgICAgICAgICAgICAgICAgICAgICAgICAgICAgICAgICAgICAgICAgICAgICAgICAgICAgICAgICAgICAgICAgICAgICAgICAgICAgICAgICAgICAgICAgICAgICAgICAgIAogICAgICAgICAgICAgICAgICAgICAgICAgICAgICAgICAgICAgICAgICAgICAgICAgICAgICAgICAgICAgICAgICAgICAgICAgICAgICAgICAgICAgICAgICAgICAgICAgICAgCiAgICAgICAgICAgICAgICAgICAgICAgICAgICAgICAgICAgICAgICAgICAgICAgICAgICAgICAgICAgICAgICAgICAgICAgICAgICAgICAgICAgICAgICAgICAgICAgICAgICAKICAgICAgICAgICAgICAgICAgICAgICAgICAgICAgICAgICAgICAgICAgICAgICAgICAgICAgICAgICAgICAgICAgICAgICAgICAgICAgICAgICAgICAgICAgICAgICAgICAgIAogICAgICAgICAgICAgICAgICAgICAgICAgICAgICAgICAgICAgICAgICAgICAgICAgICAgICAgICAgICAgICAgICAgICAgICAgICAgICAgICAgICAgICAgICAgICAgICAgICAgCiAgICAgICAgICAgICAgICAgICAgICAgICAgICAgICAgICAgICAgICAgICAgICAgICAgICAgICAgICAgICAgICAgICAgICAgICAgICAgICAgICAgICAgICAgICAgICAgICAgICAKICAgICAgICAgICAgICAgICAgICAgICAgICAgICAgICAgICAgICAgICAgICAgICAgICAgICAgICAgICAgICAgICAgICAgICAgICAgICAgICAgICAgICAgICAgICAgICAgICAgIAogICAgICAgICAgICAgICAgICAgICAgICAgICAgICAgICAgICAgICAgICAgICAgICAgICAgICAgICAgICAgICAgICAgICAgICAgICAgICAgICAgICAgICAgICAgICAgICAgICAgCiAgICAgICAgICAgICAgICAgICAgICAgICAgICAgICAgICAgICAgICAgICAgICAgICAgICAgICAgICAgICAgICAgICAgICAgICAgICAgICAgICAgICAgICAgICAgICAgICAgICAKICAgICAgICAgICAgICAgICAgICAgICAgICAgICAgICAgICAgICAgICAgICAgICAgICAgICAgICAgICAgICAgICAgICAgICAgICAgICAgICAgICAgICAgICAgICAgICAgICAgIAogICAgICAgICAgICAgICAgICAgICAgICAgICAgPD94cGFja2V0IGVuZD0ndyc/Pv/bAEMABwUFBgUEBwYFBggHBwgKEQsKCQkKFQ8QDBEYFRoZGBUYFxseJyEbHSUdFxgiLiIlKCkrLCsaIC8zLyoyJyorKv/bAEMBBwgICgkKFAsLFCocGBwqKioqKioqKioqKioqKioqKioqKioqKioqKioqKioqKioqKioqKioqKioqKioqKioqKv/AABEIAG0A7wMBIgACEQEDEQH/xAAfAAABBQEBAQEBAQAAAAAAAAAAAQIDBAUGBwgJCgv/xAC1EAACAQMDAgQDBQUEBAAAAX0BAgMABBEFEiExQQYTUWEHInEUMoGRoQgjQrHBFVLR8CQzYnKCCQoWFxgZGiUmJygpKjQ1Njc4OTpDREVGR0hJSlNUVVZXWFlaY2RlZmdoaWpzdHV2d3h5eoOEhYaHiImKkpOUlZaXmJmaoqOkpaanqKmqsrO0tba3uLm6wsPExcbHyMnK0tPU1dbX2Nna4eLj5OXm5+jp6vHy8/T19vf4+fr/xAAfAQADAQEBAQEBAQEBAAAAAAAAAQIDBAUGBwgJCgv/xAC1EQACAQIEBAMEBwUEBAABAncAAQIDEQQFITEGEkFRB2FxEyIygQgUQpGhscEJIzNS8BVictEKFiQ04SXxFxgZGiYnKCkqNTY3ODk6Q0RFRkdISUpTVFVWV1hZWmNkZWZnaGlqc3R1dnd4eXqCg4SFhoeIiYqSk5SVlpeYmZqio6Slpqeoqaqys7S1tre4ubrCw8TFxsfIycrS09TV1tfY2dri4+Tl5ufo6ery8/T19vf4+fr/2gAMAwEAAhEDEQA/APpGiiigAooooAKKKKACiiigAooooAKKKKACiiigAooooAKKKKACiiigAooooAKKKKACiiigAooooAKKKKACiiigAooooAKKKKACiiigAooooAKgvL2106zku9QuYbW2iXdJNNIERB6kngVPXi37RfhbSB8ONW8QG3kfUjNb4le4kZU+dU+VC21fl9AM5J70AezxyJNEkkTq8bqGVlOQwPQg06s/QP8AkW9M/wCvSL/0AVoUAFFFFABRRRQAUUUUAFFFFABRRRQAUUUUAFFFFABRRRQAUUUUAFFFFABRRRQAUUUUAFFFFABXlv7Rv/JEtU/67W//AKNWvUq43xf8NNP8bfaItb1jWvsU7IzWMN0qQAqBjC7SeozyTzQB0Hhv/kVdJ/68of8A0AVpVieG/DK+GrdoItX1TUIdiRxpfziQQqoIAXCg8g85z0FbdABRRRQAUUEhQSTgDkk9q8H0/wAe6vrv7TOiRedND4fvLG4GnQiQhLiNRKPOK99zQkr/ALO31NAHvFFc5451TXdD8L3ereHYrCZrCCW5nivN/wA6IhbCbf4uO9Yvwp8X+IPHfhmHxBq0Ol21lch1ihtRIZVdXKncWOMcE8eooA72sjxX4ih8J+Fr7W7qCW4is0DGOFSWbLBR0zxkjJxwMmuc8beJPFumeKNH0jwha6PeSakrkxXrSB4lTlpWK8CMZUeuTxnPG1qHiWLwl4SXVvHN1bWxjKpcS2kcjxhmbau1cFiOR+tAGZZeO7gfEC08KazpsME9/YG+tLi0uWmRlBIZHDRoVIxkHkH2PFdnXle5vC37QOl2t3I+tTeJNPljS+uwouLIQhn2LsVU8psdAoO7kscYr1QnAyaACivOH+Ies+K/EF3o/wAM9PtLqCwkEd5rl+7fZY37oirhpD7ggfgQaf4k1/xl4A0KbxBrUumeINMtkzdQWdm9rPFngMhMjhl3EZBAOCTnjBAPRKKwvBGq6hrvgjStW1mKOG7v7cXLRxKQqK/zIvPPClR9a3aACiiigAooooAKyvE0eqzeG7yHw8yx6jMgihlYgeVuYKZOe6glgO5GK1aqarqMWkaNe6lckCGzgeeQk/wqpY/yoA8g8FWmp+I/iT4y0iPxJrQ8L6RdQxLD9vkeWSYIVdROWMiruViVUjkjGBkHc+Fmt3c3jXx14ba/uNQ03RL2JbOW6maaWPeH3xmRiWYKyYGSSOa5X4Mah4l0j4eXt9F4VutTv9eu5tStriGSNYnZzsxKWcFMMhbgHKsMc5r0P4ZeBH8E6Ldvqc8d3rmrXLXmp3UYO15GJO1c/wAIyfxJPegDqNWj1SSwK6Fc2dtd7hh7y3aaPHcbVdDn3z+FYP2T4hf9Bvwz/wCCe4/+Sq3tV0m21qxNpetcrEWDZtruW3fI/wBuNlbHtnFYf/CutB/57a5/4UN//wDHqAG/ZPiF/wBBvwz/AOCe4/8AkqumtBcLZwrfPFJciNRM8KFEZ8fMVUkkDPQEnHqa5v8A4V1oP/PbXP8Awob/AP8Aj1dJa20dnZw2sJkMcKLGhlkaRsAYGWYlmPuSSe9AFbU9b0rRIkl1nU7PT45G2o93cLEGPoCxGTWb/wAJ94P/AOhs0P8A8GUP/wAVWnqei6XrcKRazptnqEcbbkS7gWUKemQGBwa5rVtF+GegeX/bumeE9N83Pl/bLe2h34643AZoA018eeEGYKvirRCScADUYef/AB6t+uatPBvge8torqw8OeH54JBujmhsYGVh6hguDTfiTr3/AAjXw017VVcJJDZusTE9JGGxP/HmFAHMeFtQuvirquqavNfXln4Zsbp7KwtbK6kt2u2TG6eSSMhscgKoIHXNO+DXiG/1aLxTpd7fT6jb6LrU1pZXVy++V4ATtDOeWIx94881jfDh/Fnhr4R6b4e0vwnMdUktzNb37zRCz/fEyCSQ7t4K7wGTbkleMgg103hfwtdfCv4eR2Og6VN4k1SSYzXflzxwGaVh8zlpCAFGAo6nGODzQBF8U/FNjZrY+F7i+a0Grsft88cbu0NmPv42AkM/3FOO7HtXnPiPxDoV9+0R8Pbrw1Nvt4YhY7RC8QQZZVUB1HaSvTfhpb+JDc67qfjXQH0vV9QuFcy/aopo2iUFY4k2MSoQdc9S5Pcgcj8U9C8Z+JfiD4W1TQvB9zLb+G74zmZr+1T7WvmRt8oMmV4jP3h/F0oA9h1SzGo6PeWROBcwPCT/ALykf1rxv9m/Wrew+C+ozapOtvb6VqE/nO5wI0EaOSfzNeyaZdXN7psNxfWEunTuCXtZpEdo+cYLISp9eCetfPfwh8NajqPi3xVoFxFs8Oab4ge4umGQLmWJ2EcHTBUEK7D/AGVHegD2HwTY3V4114s1uBoNR1gL5NvJ1s7QcxRezHJdv9psdhXRappVlrWmyWGqQLcW0hBZCSMEEMpBGCCCAQQQQQCKt0UAYlh4Q0bTtcbWIoJp9SMXkLdXdzLcOkec7VMjHaPXGM964b9ofxReeG/hbJFpjOlzq1ytiHjOGRGVmbH1C7f+BV6pXmfx38Hal4v+Hyf2DH52o6XdLfRQgZaYKrBlUdzhsgd9uO9AHV+BPDNv4P8AA+laLbRLGbe3XziBgvKRl2PuWzVzxPoFv4p8L6hod5JJFBfQmF3jxuUHuM8ZrnNB+L3g7V9GS6vNbstJukUC5sdQmWCaCT+JSj4JweMjOasW7z+M/EdlfrbzW+g6VIZrd5kaNr642lQ4U4IjQMcEj5iQRwASAdZbW8dpaxW0C7IoUEaKOygYAqSvOINU8VXvxZuPD39ri3s109725WO3jf7MDOUgSNyvDsi7m37x1wBxjZ+G/iO68S+HLue9lNz9k1K5s4boqqtcxRyFUkYKAu4jGdoAyDgCgDrqKKKACiiigArmPHvhbUfGPhubRbDW10iC6Ro7pvsgmaRDj5R8y7e+euc109FAHP8Agnw7eeFPC1rot5qUeopZqsVvIlr5G2JVACkbmyeCd2ec10FFFABRRRQAUUUUAFeb+EPCuuN428ZXPjfSdOvLG9vN2m3MoSaR4MsFjwc7VCbRggc7uuc16RXLeLde1KOVPD/hKOObXruPcJJOYrCLODPL+u1f4iPQGgDzX4NM2j/GXx54Y0Uv/wAI7aymWOHJKW828Davp/EPcRj0r0X4leCpfH/hVNCS/FjA93FLcsYy3mRIclBgjBJwc+1Q+BfDuh+ApP8AhF9OM1xqVxAdRvbyXlrhtwUs5zwSScDpgHvkntKAGoixRqkahUUAKoHAA7U6iigAooooAKaqImdiqu47jgYyfWnUUAFFFFABRRRQBG0ELyCR4kZ16MVBI/GnswRCzdFGTxS0UAeS+EtN1DxN4w8a61Hqep6K1/drZohs9he0iQLHKhkT5SSXIPPU5BOCPTNE0ax8PaLa6VpMIgtLVAkaZzx6k9yTyT3Jq9RQAUUUUAFFFFABRRRQAUUUUAFFFFABRRRQAV5Trv7Pnh3xD4kv9bvte8Rrd30plk8q7iCrk8KuYidqjgAk4AFerUUAcP8AD/4UaJ8Obq+udHvdSvJb1Ejdr+ZJNqqSQF2ouMluc56Cu4oooAKKKKACiiigAooooAKKKKACiiigAooooAKKKKACiiigAooooAKKKKACiiigAooooAKKKKACiiigAooooAKKKKACiiigAooooAKKKKACiiigAooooAKKKKACiiigD//Z)"
      ],
      "metadata": {
        "id": "gBtJ0SSj-kJR"
      }
    },
    {
      "cell_type": "code",
      "source": [
        "#Fast-running horizontal-axis wind turbine \n",
        "velocidad=10\n",
        "Ro=1.225\n",
        "Cp1=0.59\n",
        "p=5000000\n",
        "\n",
        "A=p/((1/2)*Ro*(velocidad)**3*Cp)\n",
        "print(\"El area requerida es:\", A)\n",
        "radio=A/2\n",
        "print(\"El radio requerido es: \", radio)"
      ],
      "metadata": {
        "id": "LjweSh9H-jd0",
        "colab": {
          "base_uri": "https://localhost:8080/"
        },
        "outputId": "56037ed5-2d4b-4e6f-cb57-d7cdc8991799"
      },
      "execution_count": 7,
      "outputs": [
        {
          "output_type": "stream",
          "name": "stdout",
          "text": [
            "El area requerida es: 13836.042891732965\n",
            "El radio requerido es:  6918.021445866482\n"
          ]
        }
      ]
    },
    {
      "cell_type": "code",
      "source": [
        "#slow-running horizontal-axis wind turbine\n",
        "Cp2=0.3\n",
        "A1=p/((1/2)*Ro*(velocidad)**3*Cp2)\n",
        "print(\"El area requerida es:\", A1)\n",
        "radio1=A1/2\n",
        "print(\"El radio requerido es: \", radio1)"
      ],
      "metadata": {
        "colab": {
          "base_uri": "https://localhost:8080/"
        },
        "id": "1AZQklN6FswK",
        "outputId": "c93b6860-d91a-4255-ef1b-f15a88e217ca"
      },
      "execution_count": 8,
      "outputs": [
        {
          "output_type": "stream",
          "name": "stdout",
          "text": [
            "El area requerida es: 27210.884353741498\n",
            "El radio requerido es:  13605.442176870749\n"
          ]
        }
      ]
    },
    {
      "cell_type": "code",
      "source": [
        "#Darrieus wind turbine \n",
        "Cp3=0.39\n",
        "A2=p/((1/2)*Ro*(velocidad)**3*Cp3)\n",
        "print(\"El area requerida es:\", A2)\n",
        "radio2=A2/2\n",
        "print(\"El radio requerido es: \", radio2)"
      ],
      "metadata": {
        "colab": {
          "base_uri": "https://localhost:8080/"
        },
        "id": "WfyVTS9rF88r",
        "outputId": "5c1dee1a-77f4-4ead-998a-09755eefa9f7"
      },
      "execution_count": 9,
      "outputs": [
        {
          "output_type": "stream",
          "name": "stdout",
          "text": [
            "El area requerida es: 20931.449502878073\n",
            "El radio requerido es:  10465.724751439036\n"
          ]
        }
      ]
    },
    {
      "cell_type": "code",
      "source": [
        ""
      ],
      "metadata": {
        "id": "QnIy1uoqGMan"
      },
      "execution_count": null,
      "outputs": []
    }
  ]
}