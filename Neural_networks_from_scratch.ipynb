{
  "nbformat": 4,
  "nbformat_minor": 0,
  "metadata": {
    "colab": {
      "provenance": [],
      "authorship_tag": "ABX9TyPtOg9w+1/Xqd/ZYnXlU/2r",
      "include_colab_link": true
    },
    "kernelspec": {
      "name": "python3",
      "display_name": "Python 3"
    },
    "language_info": {
      "name": "python"
    }
  },
  "cells": [
    {
      "cell_type": "markdown",
      "metadata": {
        "id": "view-in-github",
        "colab_type": "text"
      },
      "source": [
        "<a href=\"https://colab.research.google.com/github/mteoraso/Practicas_DataScience/blob/DL_projects/Neural_networks_from_scratch.ipynb\" target=\"_parent\"><img src=\"https://colab.research.google.com/assets/colab-badge.svg\" alt=\"Open In Colab\"/></a>"
      ]
    },
    {
      "cell_type": "code",
      "execution_count": 1,
      "metadata": {
        "colab": {
          "base_uri": "https://localhost:8080/"
        },
        "id": "aov4ZF97R_mV",
        "outputId": "38a67a04-dbd5-4d3b-d38f-d86a001fd9f0"
      },
      "outputs": [
        {
          "output_type": "stream",
          "name": "stdout",
          "text": [
            "2.3\n"
          ]
        }
      ],
      "source": [
        "## Red neuronal con 3 entradas\n",
        "inputs = [1, 2, 3]\n",
        "weights = [0.2, 0.8, -0.5]\n",
        "bias = 2\n",
        "\n",
        "outputs = (inputs[0]*weights[0] + inputs[1]*weights[1] + inputs[2]*weights[2] + bias)\n",
        "\n",
        "print(outputs)"
      ]
    },
    {
      "cell_type": "code",
      "source": [
        "## Red neuronal con 4 entradas\n",
        "inputs = [1.0, 2.0, 3.0, 2.5]\n",
        "weights = [0.2, 0.8, -0.5, 1.0]\n",
        "bias = 2.0\n",
        "output = (\n",
        "    inputs[0] * weights[0] +\n",
        "    inputs[1] * weights[1] +\n",
        "    inputs[2] * weights[2] +\n",
        "    inputs[3] * weights[3] + bias\n",
        "    )\n",
        "\n",
        "print(output)"
      ],
      "metadata": {
        "colab": {
          "base_uri": "https://localhost:8080/"
        },
        "id": "jhU7SohxX_ZE",
        "outputId": "7496d810-950a-46a1-ff81-843fb0e24c24"
      },
      "execution_count": 4,
      "outputs": [
        {
          "output_type": "stream",
          "name": "stdout",
          "text": [
            "4.8\n"
          ]
        }
      ]
    },
    {
      "cell_type": "code",
      "source": [
        "## Capa de neuronas\n",
        "inputs = [1, 2, 3, 2.5]\n",
        "weights = [[0.2, 0.8, -0.5, 1],\n",
        "           [0.5, -0.91, 0.26, -0.5],\n",
        "           [-0.26, -0.27, 0.17, 0.87]]\n",
        "\n",
        "weights1 = weights[0]  ##Lista de pesos asociadas a la 1er neurona\n",
        "weights2 = weights[1]  ##Lista de pesos asociadas a la 2da neurona\n",
        "weights3 = weights[2]  ##Lista de pesos asociadas a la 3er neurona\n",
        "\n",
        "biases = [2, 3, 0.5]\n",
        "\n",
        "bias1 = 2\n",
        "bias2 = 3\n",
        "bias3 = 0.5\n",
        "\n",
        "outputs = [\n",
        "           ## Neurona 1:\n",
        "           inputs[0] * weights1[0] +\n",
        "           inputs[1] * weights1[1] +\n",
        "           inputs[2] * weights1[2] +\n",
        "           inputs[3] * weights1[3] + bias1,\n",
        "           ## Neurona 2:\n",
        "           inputs[0] * weights2[0] +\n",
        "           inputs[1] * weights2[1] +\n",
        "           inputs[2] * weights2[2] +\n",
        "           inputs[3] * weights2[3] + bias2,\n",
        "           ## Neurona 3:\n",
        "           inputs[0] * weights3[0] +\n",
        "           inputs[1] * weights3[1] +\n",
        "           inputs[2] * weights3[2] +\n",
        "           inputs[3] * weights3[3] + bias3\n",
        "           ]\n",
        "\n",
        "print(outputs)"
      ],
      "metadata": {
        "colab": {
          "base_uri": "https://localhost:8080/"
        },
        "id": "OtwkSULDY3L_",
        "outputId": "8819f208-2a3c-4192-a151-b2d9008af412"
      },
      "execution_count": 10,
      "outputs": [
        {
          "output_type": "stream",
          "name": "stdout",
          "text": [
            "[4.8, 1.21, 2.385]\n"
          ]
        }
      ]
    },
    {
      "cell_type": "code",
      "source": [],
      "metadata": {
        "id": "bHZwpPLldB7Y"
      },
      "execution_count": null,
      "outputs": []
    }
  ]
}